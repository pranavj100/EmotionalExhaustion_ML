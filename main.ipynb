{
  "nbformat": 4,
  "nbformat_minor": 0,
  "metadata": {
    "colab": {
      "provenance": [],
      "authorship_tag": "ABX9TyPKDUc8k8mZI41+p0D/FkG4",
      "include_colab_link": true
    },
    "kernelspec": {
      "name": "python3",
      "display_name": "Python 3"
    },
    "language_info": {
      "name": "python"
    },
    "widgets": {
      "application/vnd.jupyter.widget-state+json": {
        "53868ff5bdf5434e8c0ab3a2cd4f0fb9": {
          "model_module": "catboost-widget",
          "model_name": "CatboostWidgetModel",
          "model_module_version": "^1.0.0",
          "state": {
            "_dom_classes": [],
            "_model_module": "catboost-widget",
            "_model_module_version": "^1.0.0",
            "_model_name": "CatboostWidgetModel",
            "_view_count": null,
            "_view_module": "catboost-widget",
            "_view_module_version": "^1.0.0",
            "_view_name": "CatboostWidgetView",
            "data": {
              "catboost_info": {
                "path": "catboost_info",
                "name": "catboost_info",
                "content": {
                  "passed_iterations": 499,
                  "total_iterations": 500,
                  "data": {
                    "iterations": [
                      {
                        "learn": [
                          0.9053672316,
                          0.6079653507
                        ],
                        "iteration": 0,
                        "passed_time": 0.003780421403,
                        "remaining_time": 1.88643028,
                        "test": [
                          0.9157303371,
                          0.605625076
                        ]
                      },
                      {
                        "learn": [
                          0.9053672316,
                          0.5373591746
                        ],
                        "iteration": 1,
                        "passed_time": 0.01561987707,
                        "remaining_time": 3.889349391,
                        "test": [
                          0.9157303371,
                          0.5331064538
                        ]
                      },
                      {
                        "learn": [
                          0.9053672316,
                          0.4870204777
                        ],
                        "iteration": 2,
                        "passed_time": 0.02138065543,
                        "remaining_time": 3.542061916,
                        "test": [
                          0.9157303371,
                          0.480834299
                        ]
                      },
                      {
                        "learn": [
                          0.9053672316,
                          0.4335881837
                        ],
                        "iteration": 3,
                        "passed_time": 0.03805717157,
                        "remaining_time": 4.719089275,
                        "test": [
                          0.9157303371,
                          0.421003057
                        ]
                      },
                      {
                        "learn": [
                          0.9053672316,
                          0.3943346676
                        ],
                        "iteration": 4,
                        "passed_time": 0.05331933561,
                        "remaining_time": 5.278614225,
                        "test": [
                          0.9157303371,
                          0.3776996067
                        ]
                      },
                      {
                        "learn": [
                          0.9053672316,
                          0.3705699783
                        ],
                        "iteration": 5,
                        "passed_time": 0.05674223581,
                        "remaining_time": 4.671777415,
                        "test": [
                          0.9157303371,
                          0.3521814893
                        ]
                      },
                      {
                        "learn": [
                          0.9053672316,
                          0.3350805966
                        ],
                        "iteration": 6,
                        "passed_time": 0.0637414031,
                        "remaining_time": 4.489215961,
                        "test": [
                          0.9157303371,
                          0.3189031846
                        ]
                      },
                      {
                        "learn": [
                          0.9053672316,
                          0.3157655399
                        ],
                        "iteration": 7,
                        "passed_time": 0.06638509634,
                        "remaining_time": 4.082683425,
                        "test": [
                          0.9157303371,
                          0.3023089433
                        ]
                      },
                      {
                        "learn": [
                          0.9053672316,
                          0.2984718922
                        ],
                        "iteration": 8,
                        "passed_time": 0.07970212224,
                        "remaining_time": 4.348193558,
                        "test": [
                          0.9157303371,
                          0.2844156681
                        ]
                      },
                      {
                        "learn": [
                          0.9053672316,
                          0.2801377007
                        ],
                        "iteration": 9,
                        "passed_time": 0.08847064587,
                        "remaining_time": 4.335061648,
                        "test": [
                          0.9157303371,
                          0.268102457
                        ]
                      },
                      {
                        "learn": [
                          0.9053672316,
                          0.2708850298
                        ],
                        "iteration": 10,
                        "passed_time": 0.1044325374,
                        "remaining_time": 4.642500979,
                        "test": [
                          0.9157303371,
                          0.259326679
                        ]
                      },
                      {
                        "learn": [
                          0.906779661,
                          0.2628340041
                        ],
                        "iteration": 11,
                        "passed_time": 0.1194048345,
                        "remaining_time": 4.855796603,
                        "test": [
                          0.9157303371,
                          0.2488869671
                        ]
                      },
                      {
                        "learn": [
                          0.9081920904,
                          0.2515782565
                        ],
                        "iteration": 12,
                        "passed_time": 0.13330831,
                        "remaining_time": 4.993934384,
                        "test": [
                          0.9157303371,
                          0.2390566148
                        ]
                      },
                      {
                        "learn": [
                          0.9096045198,
                          0.241656043
                        ],
                        "iteration": 13,
                        "passed_time": 0.1459328566,
                        "remaining_time": 5.065954881,
                        "test": [
                          0.9157303371,
                          0.2313361622
                        ]
                      },
                      {
                        "learn": [
                          0.9110169492,
                          0.2365365419
                        ],
                        "iteration": 14,
                        "passed_time": 0.1720834096,
                        "remaining_time": 5.564030245,
                        "test": [
                          0.9157303371,
                          0.2263727498
                        ]
                      },
                      {
                        "learn": [
                          0.9152542373,
                          0.2304647719
                        ],
                        "iteration": 15,
                        "passed_time": 0.1779412171,
                        "remaining_time": 5.382721819,
                        "test": [
                          0.9157303371,
                          0.2204832457
                        ]
                      },
                      {
                        "learn": [
                          0.9152542373,
                          0.2260045813
                        ],
                        "iteration": 16,
                        "passed_time": 0.1982303643,
                        "remaining_time": 5.632074467,
                        "test": [
                          0.9157303371,
                          0.2167009626
                        ]
                      },
                      {
                        "learn": [
                          0.9166666667,
                          0.2229711377
                        ],
                        "iteration": 17,
                        "passed_time": 0.2091713494,
                        "remaining_time": 5.601143911,
                        "test": [
                          0.9213483146,
                          0.2140909218
                        ]
                      },
                      {
                        "learn": [
                          0.9166666667,
                          0.2206103126
                        ],
                        "iteration": 18,
                        "passed_time": 0.2217950418,
                        "remaining_time": 5.614916585,
                        "test": [
                          0.9213483146,
                          0.2122054239
                        ]
                      },
                      {
                        "learn": [
                          0.9152542373,
                          0.2177019117
                        ],
                        "iteration": 19,
                        "passed_time": 0.2339448724,
                        "remaining_time": 5.614676937,
                        "test": [
                          0.9213483146,
                          0.2093108505
                        ]
                      },
                      {
                        "learn": [
                          0.9152542373,
                          0.2158901595
                        ],
                        "iteration": 20,
                        "passed_time": 0.2451462205,
                        "remaining_time": 5.591668553,
                        "test": [
                          0.9213483146,
                          0.2090785183
                        ]
                      },
                      {
                        "learn": [
                          0.9152542373,
                          0.2137932561
                        ],
                        "iteration": 21,
                        "passed_time": 0.2630961325,
                        "remaining_time": 5.716361425,
                        "test": [
                          0.9213483146,
                          0.2083343714
                        ]
                      },
                      {
                        "learn": [
                          0.918079096,
                          0.2093968541
                        ],
                        "iteration": 22,
                        "passed_time": 0.2743534979,
                        "remaining_time": 5.689852978,
                        "test": [
                          0.9269662921,
                          0.2043404942
                        ]
                      },
                      {
                        "learn": [
                          0.918079096,
                          0.20557261
                        ],
                        "iteration": 23,
                        "passed_time": 0.2808823126,
                        "remaining_time": 5.570832533,
                        "test": [
                          0.9157303371,
                          0.2038278093
                        ]
                      },
                      {
                        "learn": [
                          0.9209039548,
                          0.20421068
                        ],
                        "iteration": 24,
                        "passed_time": 0.2888048536,
                        "remaining_time": 5.487292219,
                        "test": [
                          0.9157303371,
                          0.2045635695
                        ]
                      },
                      {
                        "learn": [
                          0.9223163842,
                          0.2019653593
                        ],
                        "iteration": 25,
                        "passed_time": 0.2948163776,
                        "remaining_time": 5.374729345,
                        "test": [
                          0.9157303371,
                          0.2044807946
                        ]
                      },
                      {
                        "learn": [
                          0.9237288136,
                          0.1996998558
                        ],
                        "iteration": 26,
                        "passed_time": 0.3012046352,
                        "remaining_time": 5.27665898,
                        "test": [
                          0.9213483146,
                          0.2037442669
                        ]
                      },
                      {
                        "learn": [
                          0.9237288136,
                          0.1980859009
                        ],
                        "iteration": 27,
                        "passed_time": 0.30830424,
                        "remaining_time": 5.197128617,
                        "test": [
                          0.9157303371,
                          0.2044829524
                        ]
                      },
                      {
                        "learn": [
                          0.9237288136,
                          0.1960699927
                        ],
                        "iteration": 28,
                        "passed_time": 0.3157135028,
                        "remaining_time": 5.127622753,
                        "test": [
                          0.9157303371,
                          0.2027300734
                        ]
                      },
                      {
                        "learn": [
                          0.9237288136,
                          0.1958610417
                        ],
                        "iteration": 29,
                        "passed_time": 0.3189045126,
                        "remaining_time": 4.996170698,
                        "test": [
                          0.9157303371,
                          0.2027891612
                        ]
                      },
                      {
                        "learn": [
                          0.9237288136,
                          0.1946493516
                        ],
                        "iteration": 30,
                        "passed_time": 0.3261506694,
                        "remaining_time": 4.934343998,
                        "test": [
                          0.9157303371,
                          0.2024556644
                        ]
                      },
                      {
                        "learn": [
                          0.9251412429,
                          0.1914920807
                        ],
                        "iteration": 31,
                        "passed_time": 0.3325272454,
                        "remaining_time": 4.863210964,
                        "test": [
                          0.9157303371,
                          0.2035151087
                        ]
                      },
                      {
                        "learn": [
                          0.9265536723,
                          0.1891685249
                        ],
                        "iteration": 32,
                        "passed_time": 0.3395766774,
                        "remaining_time": 4.805524495,
                        "test": [
                          0.9269662921,
                          0.2035844021
                        ]
                      },
                      {
                        "learn": [
                          0.9279661017,
                          0.1870917487
                        ],
                        "iteration": 33,
                        "passed_time": 0.3467590573,
                        "remaining_time": 4.752638845,
                        "test": [
                          0.9213483146,
                          0.203280848
                        ]
                      },
                      {
                        "learn": [
                          0.9279661017,
                          0.1869107631
                        ],
                        "iteration": 34,
                        "passed_time": 0.3507031248,
                        "remaining_time": 4.659341516,
                        "test": [
                          0.9213483146,
                          0.2032852677
                        ]
                      },
                      {
                        "learn": [
                          0.9279661017,
                          0.1867360867
                        ],
                        "iteration": 35,
                        "passed_time": 0.355227678,
                        "remaining_time": 4.578490072,
                        "test": [
                          0.9213483146,
                          0.203289408
                        ]
                      },
                      {
                        "learn": [
                          0.9279661017,
                          0.1863579334
                        ],
                        "iteration": 36,
                        "passed_time": 0.3621056657,
                        "remaining_time": 4.531214141,
                        "test": [
                          0.9213483146,
                          0.2034095067
                        ]
                      },
                      {
                        "learn": [
                          0.9251412429,
                          0.1849597387
                        ],
                        "iteration": 37,
                        "passed_time": 0.3674258672,
                        "remaining_time": 4.467125018,
                        "test": [
                          0.9213483146,
                          0.2029513954
                        ]
                      },
                      {
                        "learn": [
                          0.9251412429,
                          0.1845948444
                        ],
                        "iteration": 38,
                        "passed_time": 0.3746049925,
                        "remaining_time": 4.428023116,
                        "test": [
                          0.9213483146,
                          0.2029844301
                        ]
                      },
                      {
                        "learn": [
                          0.9251412429,
                          0.1841398703
                        ],
                        "iteration": 39,
                        "passed_time": 0.38128031,
                        "remaining_time": 4.384723565,
                        "test": [
                          0.9157303371,
                          0.2030852053
                        ]
                      },
                      {
                        "learn": [
                          0.9293785311,
                          0.1826695186
                        ],
                        "iteration": 40,
                        "passed_time": 0.3893911799,
                        "remaining_time": 4.359281746,
                        "test": [
                          0.9157303371,
                          0.2037251652
                        ]
                      },
                      {
                        "learn": [
                          0.9279661017,
                          0.181438968
                        ],
                        "iteration": 41,
                        "passed_time": 0.3963131874,
                        "remaining_time": 4.321700948,
                        "test": [
                          0.9157303371,
                          0.202626057
                        ]
                      },
                      {
                        "learn": [
                          0.9279661017,
                          0.1809539808
                        ],
                        "iteration": 42,
                        "passed_time": 0.4031734568,
                        "remaining_time": 4.284889994,
                        "test": [
                          0.9157303371,
                          0.2023986281
                        ]
                      },
                      {
                        "learn": [
                          0.9279661017,
                          0.1808057588
                        ],
                        "iteration": 43,
                        "passed_time": 0.4057033604,
                        "remaining_time": 4.204562099,
                        "test": [
                          0.9157303371,
                          0.2024001706
                        ]
                      },
                      {
                        "learn": [
                          0.9293785311,
                          0.180022706
                        ],
                        "iteration": 44,
                        "passed_time": 0.4135899731,
                        "remaining_time": 4.181854172,
                        "test": [
                          0.9157303371,
                          0.2023511858
                        ]
                      },
                      {
                        "learn": [
                          0.9293785311,
                          0.1790875607
                        ],
                        "iteration": 45,
                        "passed_time": 0.4173445912,
                        "remaining_time": 4.119009661,
                        "test": [
                          0.9157303371,
                          0.2025533769
                        ]
                      },
                      {
                        "learn": [
                          0.9307909605,
                          0.1776355807
                        ],
                        "iteration": 46,
                        "passed_time": 0.4252022204,
                        "remaining_time": 4.098225656,
                        "test": [
                          0.9213483146,
                          0.201293461
                        ]
                      },
                      {
                        "learn": [
                          0.9336158192,
                          0.175981466
                        ],
                        "iteration": 47,
                        "passed_time": 0.4326298697,
                        "remaining_time": 4.073931273,
                        "test": [
                          0.9269662921,
                          0.202045864
                        ]
                      },
                      {
                        "learn": [
                          0.9336158192,
                          0.1733348154
                        ],
                        "iteration": 48,
                        "passed_time": 0.444975305,
                        "remaining_time": 4.095589032,
                        "test": [
                          0.9269662921,
                          0.2011265818
                        ]
                      },
                      {
                        "learn": [
                          0.9336158192,
                          0.1724464886
                        ],
                        "iteration": 49,
                        "passed_time": 0.4931271991,
                        "remaining_time": 4.438144792,
                        "test": [
                          0.9269662921,
                          0.2012466339
                        ]
                      },
                      {
                        "learn": [
                          0.9350282486,
                          0.1702318915
                        ],
                        "iteration": 50,
                        "passed_time": 0.5018694095,
                        "remaining_time": 4.418418919,
                        "test": [
                          0.9269662921,
                          0.1983092571
                        ]
                      },
                      {
                        "learn": [
                          0.9392655367,
                          0.1676991548
                        ],
                        "iteration": 51,
                        "passed_time": 0.516444449,
                        "remaining_time": 4.449367561,
                        "test": [
                          0.9325842697,
                          0.1950728413
                        ]
                      },
                      {
                        "learn": [
                          0.9392655367,
                          0.1671330978
                        ],
                        "iteration": 52,
                        "passed_time": 0.5417349378,
                        "remaining_time": 4.568972022,
                        "test": [
                          0.9325842697,
                          0.1950164709
                        ]
                      },
                      {
                        "learn": [
                          0.9392655367,
                          0.1651117218
                        ],
                        "iteration": 53,
                        "passed_time": 0.5700983768,
                        "remaining_time": 4.708590297,
                        "test": [
                          0.9325842697,
                          0.1944154163
                        ]
                      },
                      {
                        "learn": [
                          0.9392655367,
                          0.1629650738
                        ],
                        "iteration": 54,
                        "passed_time": 0.6129279047,
                        "remaining_time": 4.959143956,
                        "test": [
                          0.9325842697,
                          0.1941487715
                        ]
                      },
                      {
                        "learn": [
                          0.9406779661,
                          0.159451463
                        ],
                        "iteration": 55,
                        "passed_time": 0.6431295972,
                        "remaining_time": 5.099098949,
                        "test": [
                          0.9382022472,
                          0.1947700196
                        ]
                      },
                      {
                        "learn": [
                          0.9406779661,
                          0.159042891
                        ],
                        "iteration": 56,
                        "passed_time": 0.6816004241,
                        "remaining_time": 5.297350664,
                        "test": [
                          0.9382022472,
                          0.194731623
                        ]
                      },
                      {
                        "learn": [
                          0.9420903955,
                          0.157959198
                        ],
                        "iteration": 57,
                        "passed_time": 0.7142994329,
                        "remaining_time": 5.443454299,
                        "test": [
                          0.9325842697,
                          0.1942979122
                        ]
                      },
                      {
                        "learn": [
                          0.9420903955,
                          0.1578256516
                        ],
                        "iteration": 58,
                        "passed_time": 0.7286401869,
                        "remaining_time": 5.446276651,
                        "test": [
                          0.9325842697,
                          0.1942891859
                        ]
                      },
                      {
                        "learn": [
                          0.9435028249,
                          0.1551429511
                        ],
                        "iteration": 59,
                        "passed_time": 0.7653753907,
                        "remaining_time": 5.612752865,
                        "test": [
                          0.9382022472,
                          0.1933688508
                        ]
                      },
                      {
                        "learn": [
                          0.9435028249,
                          0.1540029746
                        ],
                        "iteration": 60,
                        "passed_time": 0.7985857431,
                        "remaining_time": 5.747199036,
                        "test": [
                          0.9382022472,
                          0.193139939
                        ]
                      },
                      {
                        "learn": [
                          0.9435028249,
                          0.153420848
                        ],
                        "iteration": 61,
                        "passed_time": 0.8374189278,
                        "remaining_time": 5.915959522,
                        "test": [
                          0.9382022472,
                          0.1925042047
                        ]
                      },
                      {
                        "learn": [
                          0.9420903955,
                          0.1524117297
                        ],
                        "iteration": 62,
                        "passed_time": 0.8644433517,
                        "remaining_time": 5.99621817,
                        "test": [
                          0.9382022472,
                          0.19305901
                        ]
                      },
                      {
                        "learn": [
                          0.9435028249,
                          0.1522900476
                        ],
                        "iteration": 63,
                        "passed_time": 0.8886885075,
                        "remaining_time": 6.054190457,
                        "test": [
                          0.9382022472,
                          0.1930480067
                        ]
                      },
                      {
                        "learn": [
                          0.9420903955,
                          0.1521226021
                        ],
                        "iteration": 64,
                        "passed_time": 0.928999487,
                        "remaining_time": 6.217150413,
                        "test": [
                          0.9382022472,
                          0.1929062575
                        ]
                      },
                      {
                        "learn": [
                          0.9420903955,
                          0.1517635706
                        ],
                        "iteration": 65,
                        "passed_time": 0.9777245432,
                        "remaining_time": 6.429279572,
                        "test": [
                          0.9382022472,
                          0.1934547664
                        ]
                      },
                      {
                        "learn": [
                          0.9420903955,
                          0.1516087635
                        ],
                        "iteration": 66,
                        "passed_time": 1.000679206,
                        "remaining_time": 6.467076064,
                        "test": [
                          0.9382022472,
                          0.193439497
                        ]
                      },
                      {
                        "learn": [
                          0.9449152542,
                          0.1503664754
                        ],
                        "iteration": 67,
                        "passed_time": 1.05599798,
                        "remaining_time": 6.708693051,
                        "test": [
                          0.9382022472,
                          0.1949723347
                        ]
                      },
                      {
                        "learn": [
                          0.9449152542,
                          0.150224183
                        ],
                        "iteration": 68,
                        "passed_time": 1.101633837,
                        "remaining_time": 6.881220057,
                        "test": [
                          0.9382022472,
                          0.1950361922
                        ]
                      },
                      {
                        "learn": [
                          0.9449152542,
                          0.1501369089
                        ],
                        "iteration": 69,
                        "passed_time": 1.120068595,
                        "remaining_time": 6.880421368,
                        "test": [
                          0.9382022472,
                          0.1950294144
                        ]
                      },
                      {
                        "learn": [
                          0.9449152542,
                          0.1500552017
                        ],
                        "iteration": 70,
                        "passed_time": 1.140066024,
                        "remaining_time": 6.888567948,
                        "test": [
                          0.9382022472,
                          0.195023391
                        ]
                      },
                      {
                        "learn": [
                          0.9449152542,
                          0.1499787595
                        ],
                        "iteration": 71,
                        "passed_time": 1.160481417,
                        "remaining_time": 6.898417311,
                        "test": [
                          0.9382022472,
                          0.1950180319
                        ]
                      },
                      {
                        "learn": [
                          0.9449152542,
                          0.1486289062
                        ],
                        "iteration": 72,
                        "passed_time": 1.190441099,
                        "remaining_time": 6.96326506,
                        "test": [
                          0.9382022472,
                          0.1955398938
                        ]
                      },
                      {
                        "learn": [
                          0.947740113,
                          0.1475987845
                        ],
                        "iteration": 73,
                        "passed_time": 1.238881222,
                        "remaining_time": 7.131937848,
                        "test": [
                          0.9382022472,
                          0.1948466545
                        ]
                      },
                      {
                        "learn": [
                          0.947740113,
                          0.1475244906
                        ],
                        "iteration": 74,
                        "passed_time": 1.251805704,
                        "remaining_time": 7.093565657,
                        "test": [
                          0.9382022472,
                          0.1948388062
                        ]
                      },
                      {
                        "learn": [
                          0.947740113,
                          0.1473052193
                        ],
                        "iteration": 75,
                        "passed_time": 1.30963054,
                        "remaining_time": 7.306359853,
                        "test": [
                          0.9382022472,
                          0.1947983847
                        ]
                      },
                      {
                        "learn": [
                          0.947740113,
                          0.1455685848
                        ],
                        "iteration": 76,
                        "passed_time": 1.355104621,
                        "remaining_time": 7.444276034,
                        "test": [
                          0.9325842697,
                          0.195518429
                        ]
                      },
                      {
                        "learn": [
                          0.947740113,
                          0.1452085114
                        ],
                        "iteration": 77,
                        "passed_time": 1.402676257,
                        "remaining_time": 7.588838209,
                        "test": [
                          0.9382022472,
                          0.1954924401
                        ]
                      },
                      {
                        "learn": [
                          0.947740113,
                          0.1451413907
                        ],
                        "iteration": 78,
                        "passed_time": 1.427355734,
                        "remaining_time": 7.606541316,
                        "test": [
                          0.9382022472,
                          0.19548627
                        ]
                      },
                      {
                        "learn": [
                          0.947740113,
                          0.1447402083
                        ],
                        "iteration": 79,
                        "passed_time": 1.474002199,
                        "remaining_time": 7.738511544,
                        "test": [
                          0.9382022472,
                          0.1948141556
                        ]
                      },
                      {
                        "learn": [
                          0.9491525424,
                          0.1433713768
                        ],
                        "iteration": 80,
                        "passed_time": 1.522735566,
                        "remaining_time": 7.876866693,
                        "test": [
                          0.9382022472,
                          0.1962387507
                        ]
                      },
                      {
                        "learn": [
                          0.947740113,
                          0.142739994
                        ],
                        "iteration": 81,
                        "passed_time": 1.571718466,
                        "remaining_time": 8.011930717,
                        "test": [
                          0.9382022472,
                          0.1964440224
                        ]
                      },
                      {
                        "learn": [
                          0.9463276836,
                          0.1417062925
                        ],
                        "iteration": 82,
                        "passed_time": 1.623890098,
                        "remaining_time": 8.158580373,
                        "test": [
                          0.9382022472,
                          0.1965427944
                        ]
                      },
                      {
                        "learn": [
                          0.947740113,
                          0.1407254308
                        ],
                        "iteration": 83,
                        "passed_time": 1.652146026,
                        "remaining_time": 8.18205651,
                        "test": [
                          0.9382022472,
                          0.1967658082
                        ]
                      },
                      {
                        "learn": [
                          0.947740113,
                          0.1403872958
                        ],
                        "iteration": 84,
                        "passed_time": 1.736748821,
                        "remaining_time": 8.479420713,
                        "test": [
                          0.9325842697,
                          0.1967350226
                        ]
                      },
                      {
                        "learn": [
                          0.9463276836,
                          0.1400326994
                        ],
                        "iteration": 85,
                        "passed_time": 1.778465358,
                        "remaining_time": 8.561449513,
                        "test": [
                          0.9382022472,
                          0.1966346051
                        ]
                      },
                      {
                        "learn": [
                          0.9491525424,
                          0.1389995413
                        ],
                        "iteration": 86,
                        "passed_time": 1.826786676,
                        "remaining_time": 8.671987326,
                        "test": [
                          0.9382022472,
                          0.1964993661
                        ]
                      },
                      {
                        "learn": [
                          0.9505649718,
                          0.1384744773
                        ],
                        "iteration": 87,
                        "passed_time": 1.879865468,
                        "remaining_time": 8.801188327,
                        "test": [
                          0.9382022472,
                          0.1964372922
                        ]
                      },
                      {
                        "learn": [
                          0.9519774011,
                          0.1376219911
                        ],
                        "iteration": 88,
                        "passed_time": 1.93420483,
                        "remaining_time": 8.93211444,
                        "test": [
                          0.9382022472,
                          0.196612448
                        ]
                      },
                      {
                        "learn": [
                          0.9519774011,
                          0.1375660483
                        ],
                        "iteration": 89,
                        "passed_time": 1.980117417,
                        "remaining_time": 9.020534898,
                        "test": [
                          0.9382022472,
                          0.1966056959
                        ]
                      },
                      {
                        "learn": [
                          0.9533898305,
                          0.1372354653
                        ],
                        "iteration": 90,
                        "passed_time": 2.032750979,
                        "remaining_time": 9.136210445,
                        "test": [
                          0.9325842697,
                          0.1971615361
                        ]
                      },
                      {
                        "learn": [
                          0.9533898305,
                          0.1368216693
                        ],
                        "iteration": 91,
                        "passed_time": 2.083035165,
                        "remaining_time": 9.237808122,
                        "test": [
                          0.9325842697,
                          0.1977280185
                        ]
                      },
                      {
                        "learn": [
                          0.9562146893,
                          0.1361796603
                        ],
                        "iteration": 92,
                        "passed_time": 2.134693212,
                        "remaining_time": 9.342152016,
                        "test": [
                          0.9325842697,
                          0.1970567519
                        ]
                      },
                      {
                        "learn": [
                          0.9533898305,
                          0.1348137268
                        ],
                        "iteration": 93,
                        "passed_time": 2.172230213,
                        "remaining_time": 9.382185812,
                        "test": [
                          0.9325842697,
                          0.1971891957
                        ]
                      },
                      {
                        "learn": [
                          0.9548022599,
                          0.1342315686
                        ],
                        "iteration": 94,
                        "passed_time": 2.227136015,
                        "remaining_time": 9.494632484,
                        "test": [
                          0.9325842697,
                          0.1969945282
                        ]
                      },
                      {
                        "learn": [
                          0.9548022599,
                          0.1333661165
                        ],
                        "iteration": 95,
                        "passed_time": 2.27468592,
                        "remaining_time": 9.572636581,
                        "test": [
                          0.9325842697,
                          0.1971160451
                        ]
                      },
                      {
                        "learn": [
                          0.9562146893,
                          0.1323537312
                        ],
                        "iteration": 96,
                        "passed_time": 2.323311207,
                        "remaining_time": 9.652519757,
                        "test": [
                          0.9382022472,
                          0.196535269
                        ]
                      },
                      {
                        "learn": [
                          0.9562146893,
                          0.1314883618
                        ],
                        "iteration": 97,
                        "passed_time": 2.387210155,
                        "remaining_time": 9.792433493,
                        "test": [
                          0.9382022472,
                          0.1972758392
                        ]
                      },
                      {
                        "learn": [
                          0.9562146893,
                          0.1312141843
                        ],
                        "iteration": 98,
                        "passed_time": 2.440507275,
                        "remaining_time": 9.885287044,
                        "test": [
                          0.9382022472,
                          0.1968048422
                        ]
                      },
                      {
                        "learn": [
                          0.9562146893,
                          0.1304257066
                        ],
                        "iteration": 99,
                        "passed_time": 2.509683175,
                        "remaining_time": 10.0387327,
                        "test": [
                          0.9382022472,
                          0.1974750169
                        ]
                      },
                      {
                        "learn": [
                          0.9576271186,
                          0.1296661476
                        ],
                        "iteration": 100,
                        "passed_time": 2.546960555,
                        "remaining_time": 10.06175506,
                        "test": [
                          0.9382022472,
                          0.1983248752
                        ]
                      },
                      {
                        "learn": [
                          0.9576271186,
                          0.1288432559
                        ],
                        "iteration": 101,
                        "passed_time": 2.617793848,
                        "remaining_time": 10.21452894,
                        "test": [
                          0.9382022472,
                          0.1979028096
                        ]
                      },
                      {
                        "learn": [
                          0.9576271186,
                          0.1286255898
                        ],
                        "iteration": 102,
                        "passed_time": 2.676203705,
                        "remaining_time": 10.31507642,
                        "test": [
                          0.9325842697,
                          0.1982451148
                        ]
                      },
                      {
                        "learn": [
                          0.9576271186,
                          0.1279106096
                        ],
                        "iteration": 103,
                        "passed_time": 2.693604821,
                        "remaining_time": 10.25641836,
                        "test": [
                          0.9325842697,
                          0.1984715553
                        ]
                      },
                      {
                        "learn": [
                          0.9576271186,
                          0.1276719502
                        ],
                        "iteration": 104,
                        "passed_time": 2.729511569,
                        "remaining_time": 10.26816257,
                        "test": [
                          0.9325842697,
                          0.1989940496
                        ]
                      },
                      {
                        "learn": [
                          0.9576271186,
                          0.1275185913
                        ],
                        "iteration": 105,
                        "passed_time": 2.778111772,
                        "remaining_time": 10.32618904,
                        "test": [
                          0.9325842697,
                          0.1986350702
                        ]
                      },
                      {
                        "learn": [
                          0.9576271186,
                          0.1266061955
                        ],
                        "iteration": 106,
                        "passed_time": 2.82292221,
                        "remaining_time": 10.36830307,
                        "test": [
                          0.9325842697,
                          0.1977028435
                        ]
                      },
                      {
                        "learn": [
                          0.9576271186,
                          0.126374879
                        ],
                        "iteration": 107,
                        "passed_time": 2.861617361,
                        "remaining_time": 10.38661116,
                        "test": [
                          0.9325842697,
                          0.1984370002
                        ]
                      },
                      {
                        "learn": [
                          0.959039548,
                          0.1240980066
                        ],
                        "iteration": 108,
                        "passed_time": 2.900861024,
                        "remaining_time": 10.40584092,
                        "test": [
                          0.9325842697,
                          0.1989998951
                        ]
                      },
                      {
                        "learn": [
                          0.959039548,
                          0.1232886369
                        ],
                        "iteration": 109,
                        "passed_time": 2.952497403,
                        "remaining_time": 10.46794534,
                        "test": [
                          0.9325842697,
                          0.198936372
                        ]
                      },
                      {
                        "learn": [
                          0.9604519774,
                          0.1215968138
                        ],
                        "iteration": 110,
                        "passed_time": 3.004825715,
                        "remaining_time": 10.53042525,
                        "test": [
                          0.9325842697,
                          0.1997702414
                        ]
                      },
                      {
                        "learn": [
                          0.9604519774,
                          0.1213684094
                        ],
                        "iteration": 111,
                        "passed_time": 3.050656397,
                        "remaining_time": 10.56834537,
                        "test": [
                          0.9325842697,
                          0.1999185021
                        ]
                      },
                      {
                        "learn": [
                          0.9604519774,
                          0.1203700603
                        ],
                        "iteration": 112,
                        "passed_time": 3.074986472,
                        "remaining_time": 10.53114836,
                        "test": [
                          0.9325842697,
                          0.20041004
                        ]
                      },
                      {
                        "learn": [
                          0.9618644068,
                          0.1199593835
                        ],
                        "iteration": 113,
                        "passed_time": 3.122107022,
                        "remaining_time": 10.57134483,
                        "test": [
                          0.9325842697,
                          0.2003546665
                        ]
                      },
                      {
                        "learn": [
                          0.9618644068,
                          0.1192844123
                        ],
                        "iteration": 114,
                        "passed_time": 3.164690808,
                        "remaining_time": 10.59483445,
                        "test": [
                          0.9325842697,
                          0.2000109831
                        ]
                      },
                      {
                        "learn": [
                          0.9604519774,
                          0.1187831113
                        ],
                        "iteration": 115,
                        "passed_time": 3.201648756,
                        "remaining_time": 10.5985614,
                        "test": [
                          0.9325842697,
                          0.2002678504
                        ]
                      },
                      {
                        "learn": [
                          0.9604519774,
                          0.1186338303
                        ],
                        "iteration": 116,
                        "passed_time": 3.243308399,
                        "remaining_time": 10.61698391,
                        "test": [
                          0.9325842697,
                          0.2003305318
                        ]
                      },
                      {
                        "learn": [
                          0.9604519774,
                          0.1181451225
                        ],
                        "iteration": 117,
                        "passed_time": 3.267812629,
                        "remaining_time": 10.57885105,
                        "test": [
                          0.9325842697,
                          0.2004426192
                        ]
                      },
                      {
                        "learn": [
                          0.9604519774,
                          0.1173825439
                        ],
                        "iteration": 118,
                        "passed_time": 3.286933698,
                        "remaining_time": 10.52371209,
                        "test": [
                          0.9325842697,
                          0.2007823749
                        ]
                      },
                      {
                        "learn": [
                          0.9604519774,
                          0.1170182936
                        ],
                        "iteration": 119,
                        "passed_time": 3.303263946,
                        "remaining_time": 10.46033583,
                        "test": [
                          0.9325842697,
                          0.2008861502
                        ]
                      },
                      {
                        "learn": [
                          0.9604519774,
                          0.1154284289
                        ],
                        "iteration": 120,
                        "passed_time": 3.325353781,
                        "remaining_time": 10.41577754,
                        "test": [
                          0.9325842697,
                          0.2024408742
                        ]
                      },
                      {
                        "learn": [
                          0.9604519774,
                          0.1149275728
                        ],
                        "iteration": 121,
                        "passed_time": 3.345408221,
                        "remaining_time": 10.36528121,
                        "test": [
                          0.9325842697,
                          0.2024364529
                        ]
                      },
                      {
                        "learn": [
                          0.9618644068,
                          0.1139465881
                        ],
                        "iteration": 122,
                        "passed_time": 3.359029783,
                        "remaining_time": 10.29556283,
                        "test": [
                          0.9325842697,
                          0.2030095461
                        ]
                      },
                      {
                        "learn": [
                          0.9618644068,
                          0.1131380857
                        ],
                        "iteration": 123,
                        "passed_time": 3.379094715,
                        "remaining_time": 10.2462872,
                        "test": [
                          0.9325842697,
                          0.2029518621
                        ]
                      },
                      {
                        "learn": [
                          0.9618644068,
                          0.1130486615
                        ],
                        "iteration": 124,
                        "passed_time": 3.394336161,
                        "remaining_time": 10.18300848,
                        "test": [
                          0.9325842697,
                          0.2029537927
                        ]
                      },
                      {
                        "learn": [
                          0.9618644068,
                          0.1129768572
                        ],
                        "iteration": 125,
                        "passed_time": 3.408051431,
                        "remaining_time": 10.11596218,
                        "test": [
                          0.9325842697,
                          0.2029870294
                        ]
                      },
                      {
                        "learn": [
                          0.9618644068,
                          0.1123491613
                        ],
                        "iteration": 126,
                        "passed_time": 3.424417843,
                        "remaining_time": 10.05754217,
                        "test": [
                          0.9325842697,
                          0.2027695105
                        ]
                      },
                      {
                        "learn": [
                          0.9618644068,
                          0.1110572338
                        ],
                        "iteration": 127,
                        "passed_time": 3.443971063,
                        "remaining_time": 10.0090409,
                        "test": [
                          0.9325842697,
                          0.2035337899
                        ]
                      },
                      {
                        "learn": [
                          0.9646892655,
                          0.1097368518
                        ],
                        "iteration": 128,
                        "passed_time": 3.465482005,
                        "remaining_time": 9.966618788,
                        "test": [
                          0.9325842697,
                          0.2033894759
                        ]
                      },
                      {
                        "learn": [
                          0.9646892655,
                          0.109539514
                        ],
                        "iteration": 129,
                        "passed_time": 3.489438297,
                        "remaining_time": 9.93147823,
                        "test": [
                          0.9325842697,
                          0.2032485716
                        ]
                      },
                      {
                        "learn": [
                          0.9646892655,
                          0.1091180741
                        ],
                        "iteration": 130,
                        "passed_time": 3.511206554,
                        "remaining_time": 9.89034518,
                        "test": [
                          0.9325842697,
                          0.2033708549
                        ]
                      },
                      {
                        "learn": [
                          0.9646892655,
                          0.108195038
                        ],
                        "iteration": 131,
                        "passed_time": 3.544944176,
                        "remaining_time": 9.882874673,
                        "test": [
                          0.9325842697,
                          0.2048177375
                        ]
                      },
                      {
                        "learn": [
                          0.9646892655,
                          0.1075100805
                        ],
                        "iteration": 132,
                        "passed_time": 3.575457708,
                        "remaining_time": 9.866112623,
                        "test": [
                          0.9325842697,
                          0.2053873852
                        ]
                      },
                      {
                        "learn": [
                          0.9646892655,
                          0.1071310859
                        ],
                        "iteration": 133,
                        "passed_time": 3.597738715,
                        "remaining_time": 9.826659475,
                        "test": [
                          0.9325842697,
                          0.2055310485
                        ]
                      },
                      {
                        "learn": [
                          0.9661016949,
                          0.1056909885
                        ],
                        "iteration": 134,
                        "passed_time": 3.627770284,
                        "remaining_time": 9.808415952,
                        "test": [
                          0.9325842697,
                          0.2039984412
                        ]
                      },
                      {
                        "learn": [
                          0.9661016949,
                          0.1051772008
                        ],
                        "iteration": 135,
                        "passed_time": 3.647576726,
                        "remaining_time": 9.762631826,
                        "test": [
                          0.9325842697,
                          0.2033650474
                        ]
                      },
                      {
                        "learn": [
                          0.9661016949,
                          0.1047873147
                        ],
                        "iteration": 136,
                        "passed_time": 3.669054953,
                        "remaining_time": 9.721656554,
                        "test": [
                          0.9325842697,
                          0.2026879496
                        ]
                      },
                      {
                        "learn": [
                          0.9661016949,
                          0.1045570937
                        ],
                        "iteration": 137,
                        "passed_time": 3.680899652,
                        "remaining_time": 9.655693289,
                        "test": [
                          0.9269662921,
                          0.202226315
                        ]
                      },
                      {
                        "learn": [
                          0.9661016949,
                          0.103468402
                        ],
                        "iteration": 138,
                        "passed_time": 3.697422718,
                        "remaining_time": 9.602659002,
                        "test": [
                          0.9269662921,
                          0.2017501087
                        ]
                      },
                      {
                        "learn": [
                          0.9661016949,
                          0.1029885405
                        ],
                        "iteration": 139,
                        "passed_time": 3.714051277,
                        "remaining_time": 9.550417568,
                        "test": [
                          0.9269662921,
                          0.2011570464
                        ]
                      },
                      {
                        "learn": [
                          0.9661016949,
                          0.1024496517
                        ],
                        "iteration": 140,
                        "passed_time": 3.728690947,
                        "remaining_time": 9.493617376,
                        "test": [
                          0.9269662921,
                          0.2014137127
                        ]
                      },
                      {
                        "learn": [
                          0.9661016949,
                          0.1021419967
                        ],
                        "iteration": 141,
                        "passed_time": 3.762495318,
                        "remaining_time": 9.485727632,
                        "test": [
                          0.9269662921,
                          0.2017091099
                        ]
                      },
                      {
                        "learn": [
                          0.9661016949,
                          0.1018807075
                        ],
                        "iteration": 142,
                        "passed_time": 3.774506184,
                        "remaining_time": 9.423067885,
                        "test": [
                          0.9325842697,
                          0.2022246115
                        ]
                      },
                      {
                        "learn": [
                          0.9661016949,
                          0.101661898
                        ],
                        "iteration": 143,
                        "passed_time": 3.7888357,
                        "remaining_time": 9.366843814,
                        "test": [
                          0.9325842697,
                          0.2025124873
                        ]
                      },
                      {
                        "learn": [
                          0.9675141243,
                          0.1013013231
                        ],
                        "iteration": 144,
                        "passed_time": 3.798918119,
                        "remaining_time": 9.300799533,
                        "test": [
                          0.9325842697,
                          0.2026300674
                        ]
                      },
                      {
                        "learn": [
                          0.9661016949,
                          0.1007692513
                        ],
                        "iteration": 145,
                        "passed_time": 3.814364648,
                        "remaining_time": 9.248527983,
                        "test": [
                          0.9325842697,
                          0.2032011272
                        ]
                      },
                      {
                        "learn": [
                          0.9661016949,
                          0.1001531848
                        ],
                        "iteration": 146,
                        "passed_time": 3.825837983,
                        "remaining_time": 9.187216381,
                        "test": [
                          0.9325842697,
                          0.2031909689
                        ]
                      },
                      {
                        "learn": [
                          0.9675141243,
                          0.09994464601
                        ],
                        "iteration": 147,
                        "passed_time": 3.838339989,
                        "remaining_time": 9.129024839,
                        "test": [
                          0.9325842697,
                          0.203082897
                        ]
                      },
                      {
                        "learn": [
                          0.9675141243,
                          0.0995428098
                        ],
                        "iteration": 148,
                        "passed_time": 3.85268576,
                        "remaining_time": 9.075789945,
                        "test": [
                          0.9325842697,
                          0.2032142639
                        ]
                      },
                      {
                        "learn": [
                          0.9675141243,
                          0.09942063613
                        ],
                        "iteration": 149,
                        "passed_time": 3.865110114,
                        "remaining_time": 9.018590265,
                        "test": [
                          0.9325842697,
                          0.203373077
                        ]
                      },
                      {
                        "learn": [
                          0.9675141243,
                          0.09796687004
                        ],
                        "iteration": 150,
                        "passed_time": 3.879030623,
                        "remaining_time": 8.96544164,
                        "test": [
                          0.9269662921,
                          0.2043446818
                        ]
                      },
                      {
                        "learn": [
                          0.9689265537,
                          0.09756236188
                        ],
                        "iteration": 151,
                        "passed_time": 3.89034588,
                        "remaining_time": 8.906844515,
                        "test": [
                          0.9269662921,
                          0.2041939055
                        ]
                      },
                      {
                        "learn": [
                          0.9689265537,
                          0.09741842779
                        ],
                        "iteration": 152,
                        "passed_time": 3.902537462,
                        "remaining_time": 8.850852936,
                        "test": [
                          0.9325842697,
                          0.2039615792
                        ]
                      },
                      {
                        "learn": [
                          0.9703389831,
                          0.0966593301
                        ],
                        "iteration": 153,
                        "passed_time": 3.92039779,
                        "remaining_time": 8.808166463,
                        "test": [
                          0.9382022472,
                          0.2034156255
                        ]
                      },
                      {
                        "learn": [
                          0.9689265537,
                          0.09589407273
                        ],
                        "iteration": 154,
                        "passed_time": 3.931388227,
                        "remaining_time": 8.750509279,
                        "test": [
                          0.9325842697,
                          0.2045391631
                        ]
                      },
                      {
                        "learn": [
                          0.9689265537,
                          0.09495334255
                        ],
                        "iteration": 155,
                        "passed_time": 3.942239052,
                        "remaining_time": 8.693142525,
                        "test": [
                          0.9325842697,
                          0.2055747532
                        ]
                      },
                      {
                        "learn": [
                          0.9703389831,
                          0.09484182445
                        ],
                        "iteration": 156,
                        "passed_time": 3.952234185,
                        "remaining_time": 8.634498888,
                        "test": [
                          0.9325842697,
                          0.2056941516
                        ]
                      },
                      {
                        "learn": [
                          0.9703389831,
                          0.09386198612
                        ],
                        "iteration": 157,
                        "passed_time": 3.963959077,
                        "remaining_time": 8.580215217,
                        "test": [
                          0.9269662921,
                          0.205445534
                        ]
                      },
                      {
                        "learn": [
                          0.9703389831,
                          0.09375422576
                        ],
                        "iteration": 158,
                        "passed_time": 3.995229813,
                        "remaining_time": 8.568385951,
                        "test": [
                          0.9325842697,
                          0.2055750009
                        ]
                      },
                      {
                        "learn": [
                          0.9717514124,
                          0.09316722799
                        ],
                        "iteration": 159,
                        "passed_time": 4.012636229,
                        "remaining_time": 8.526851988,
                        "test": [
                          0.9325842697,
                          0.2062735535
                        ]
                      },
                      {
                        "learn": [
                          0.9717514124,
                          0.09293973367
                        ],
                        "iteration": 160,
                        "passed_time": 4.030043413,
                        "remaining_time": 8.48561936,
                        "test": [
                          0.9382022472,
                          0.205947748
                        ]
                      },
                      {
                        "learn": [
                          0.9717514124,
                          0.09273883846
                        ],
                        "iteration": 161,
                        "passed_time": 4.053873714,
                        "remaining_time": 8.458082194,
                        "test": [
                          0.9382022472,
                          0.2056384608
                        ]
                      },
                      {
                        "learn": [
                          0.9717514124,
                          0.0923703041
                        ],
                        "iteration": 162,
                        "passed_time": 4.079949681,
                        "remaining_time": 8.43523339,
                        "test": [
                          0.9382022472,
                          0.2055333464
                        ]
                      },
                      {
                        "learn": [
                          0.9717514124,
                          0.09165251871
                        ],
                        "iteration": 163,
                        "passed_time": 4.099276711,
                        "remaining_time": 8.398518139,
                        "test": [
                          0.9382022472,
                          0.2058419737
                        ]
                      },
                      {
                        "learn": [
                          0.9717514124,
                          0.09144277794
                        ],
                        "iteration": 164,
                        "passed_time": 4.116186069,
                        "remaining_time": 8.357105049,
                        "test": [
                          0.9325842697,
                          0.2059688406
                        ]
                      },
                      {
                        "learn": [
                          0.9731638418,
                          0.09033633498
                        ],
                        "iteration": 165,
                        "passed_time": 4.137094027,
                        "remaining_time": 8.32403256,
                        "test": [
                          0.9325842697,
                          0.2072381664
                        ]
                      },
                      {
                        "learn": [
                          0.9731638418,
                          0.09024102453
                        ],
                        "iteration": 166,
                        "passed_time": 4.158159711,
                        "remaining_time": 8.291420262,
                        "test": [
                          0.9325842697,
                          0.2071069033
                        ]
                      },
                      {
                        "learn": [
                          0.9731638418,
                          0.0898306458
                        ],
                        "iteration": 167,
                        "passed_time": 4.181486799,
                        "remaining_time": 8.263414388,
                        "test": [
                          0.9325842697,
                          0.2076590327
                        ]
                      },
                      {
                        "learn": [
                          0.9731638418,
                          0.0893470096
                        ],
                        "iteration": 168,
                        "passed_time": 4.211776155,
                        "remaining_time": 8.249100044,
                        "test": [
                          0.9325842697,
                          0.207562965
                        ]
                      },
                      {
                        "learn": [
                          0.9731638418,
                          0.08846167347
                        ],
                        "iteration": 169,
                        "passed_time": 4.234910369,
                        "remaining_time": 8.220708364,
                        "test": [
                          0.9325842697,
                          0.2072946451
                        ]
                      },
                      {
                        "learn": [
                          0.9731638418,
                          0.08802309942
                        ],
                        "iteration": 170,
                        "passed_time": 4.261050978,
                        "remaining_time": 8.198162408,
                        "test": [
                          0.9325842697,
                          0.2080365688
                        ]
                      },
                      {
                        "learn": [
                          0.9745762712,
                          0.08768139428
                        ],
                        "iteration": 171,
                        "passed_time": 4.275375327,
                        "remaining_time": 8.153041321,
                        "test": [
                          0.9382022472,
                          0.2083688754
                        ]
                      },
                      {
                        "learn": [
                          0.9759887006,
                          0.08724535887
                        ],
                        "iteration": 172,
                        "passed_time": 4.304620272,
                        "remaining_time": 8.136478779,
                        "test": [
                          0.9382022472,
                          0.2084767557
                        ]
                      },
                      {
                        "learn": [
                          0.9759887006,
                          0.08655687767
                        ],
                        "iteration": 173,
                        "passed_time": 4.315509618,
                        "remaining_time": 8.085380089,
                        "test": [
                          0.9325842697,
                          0.2081734348
                        ]
                      },
                      {
                        "learn": [
                          0.9759887006,
                          0.08515375888
                        ],
                        "iteration": 174,
                        "passed_time": 4.328712493,
                        "remaining_time": 8.039037488,
                        "test": [
                          0.9269662921,
                          0.2086316137
                        ]
                      },
                      {
                        "learn": [
                          0.9759887006,
                          0.08499946292
                        ],
                        "iteration": 175,
                        "passed_time": 4.340058435,
                        "remaining_time": 7.989653028,
                        "test": [
                          0.9269662921,
                          0.2078934549
                        ]
                      },
                      {
                        "learn": [
                          0.9774011299,
                          0.08451633811
                        ],
                        "iteration": 176,
                        "passed_time": 4.351666209,
                        "remaining_time": 7.94117619,
                        "test": [
                          0.9269662921,
                          0.2080374532
                        ]
                      },
                      {
                        "learn": [
                          0.9774011299,
                          0.08432045649
                        ],
                        "iteration": 177,
                        "passed_time": 4.36210074,
                        "remaining_time": 7.890991226,
                        "test": [
                          0.9269662921,
                          0.207823282
                        ]
                      },
                      {
                        "learn": [
                          0.9774011299,
                          0.08389667362
                        ],
                        "iteration": 178,
                        "passed_time": 4.373113574,
                        "remaining_time": 7.842287471,
                        "test": [
                          0.9325842697,
                          0.2079599593
                        ]
                      },
                      {
                        "learn": [
                          0.9774011299,
                          0.08336898908
                        ],
                        "iteration": 179,
                        "passed_time": 4.386516145,
                        "remaining_time": 7.798250924,
                        "test": [
                          0.9382022472,
                          0.2085790961
                        ]
                      },
                      {
                        "learn": [
                          0.9774011299,
                          0.08253778874
                        ],
                        "iteration": 180,
                        "passed_time": 4.411446994,
                        "remaining_time": 7.774870669,
                        "test": [
                          0.9325842697,
                          0.2090349406
                        ]
                      },
                      {
                        "learn": [
                          0.9774011299,
                          0.08245642427
                        ],
                        "iteration": 181,
                        "passed_time": 4.42498297,
                        "remaining_time": 7.731563651,
                        "test": [
                          0.9382022472,
                          0.2090411749
                        ]
                      },
                      {
                        "learn": [
                          0.9774011299,
                          0.08168777606
                        ],
                        "iteration": 182,
                        "passed_time": 4.437170294,
                        "remaining_time": 7.68624581,
                        "test": [
                          0.9382022472,
                          0.2085064604
                        ]
                      },
                      {
                        "learn": [
                          0.9774011299,
                          0.08149520533
                        ],
                        "iteration": 183,
                        "passed_time": 4.450904759,
                        "remaining_time": 7.64394513,
                        "test": [
                          0.9325842697,
                          0.2088450562
                        ]
                      },
                      {
                        "learn": [
                          0.9774011299,
                          0.08136960223
                        ],
                        "iteration": 184,
                        "passed_time": 4.464228478,
                        "remaining_time": 7.601253895,
                        "test": [
                          0.9325842697,
                          0.2087584551
                        ]
                      },
                      {
                        "learn": [
                          0.9788135593,
                          0.08125792049
                        ],
                        "iteration": 185,
                        "passed_time": 4.477839569,
                        "remaining_time": 7.559363574,
                        "test": [
                          0.9325842697,
                          0.2086859961
                        ]
                      },
                      {
                        "learn": [
                          0.9788135593,
                          0.08121447274
                        ],
                        "iteration": 186,
                        "passed_time": 4.491761441,
                        "remaining_time": 7.518295888,
                        "test": [
                          0.9325842697,
                          0.2086384803
                        ]
                      },
                      {
                        "learn": [
                          0.9802259887,
                          0.08062778479
                        ],
                        "iteration": 187,
                        "passed_time": 4.50661999,
                        "remaining_time": 7.479071473,
                        "test": [
                          0.9382022472,
                          0.2090243001
                        ]
                      },
                      {
                        "learn": [
                          0.9802259887,
                          0.08059723654
                        ],
                        "iteration": 188,
                        "passed_time": 4.515993128,
                        "remaining_time": 7.431078639,
                        "test": [
                          0.9382022472,
                          0.208997747
                        ]
                      },
                      {
                        "learn": [
                          0.9802259887,
                          0.08044155003
                        ],
                        "iteration": 189,
                        "passed_time": 4.527254888,
                        "remaining_time": 7.386573765,
                        "test": [
                          0.9382022472,
                          0.2086182069
                        ]
                      },
                      {
                        "learn": [
                          0.9802259887,
                          0.08026625557
                        ],
                        "iteration": 190,
                        "passed_time": 4.542845808,
                        "remaining_time": 7.349420705,
                        "test": [
                          0.9382022472,
                          0.208694103
                        ]
                      },
                      {
                        "learn": [
                          0.9802259887,
                          0.08004041211
                        ],
                        "iteration": 191,
                        "passed_time": 4.558012741,
                        "remaining_time": 7.311812105,
                        "test": [
                          0.9382022472,
                          0.2082663443
                        ]
                      },
                      {
                        "learn": [
                          0.9816384181,
                          0.07969234719
                        ],
                        "iteration": 192,
                        "passed_time": 4.570741645,
                        "remaining_time": 7.270557954,
                        "test": [
                          0.9382022472,
                          0.2076294502
                        ]
                      },
                      {
                        "learn": [
                          0.9816384181,
                          0.07922059597
                        ],
                        "iteration": 193,
                        "passed_time": 4.58257601,
                        "remaining_time": 7.228186902,
                        "test": [
                          0.9382022472,
                          0.2080948352
                        ]
                      },
                      {
                        "learn": [
                          0.9816384181,
                          0.07885595591
                        ],
                        "iteration": 194,
                        "passed_time": 4.596913472,
                        "remaining_time": 7.190044148,
                        "test": [
                          0.9325842697,
                          0.2079625202
                        ]
                      },
                      {
                        "learn": [
                          0.9816384181,
                          0.07861063944
                        ],
                        "iteration": 195,
                        "passed_time": 4.610030654,
                        "remaining_time": 7.150251627,
                        "test": [
                          0.9382022472,
                          0.2079538074
                        ]
                      },
                      {
                        "learn": [
                          0.9816384181,
                          0.07772197988
                        ],
                        "iteration": 196,
                        "passed_time": 4.626814498,
                        "remaining_time": 7.116369508,
                        "test": [
                          0.9382022472,
                          0.207620285
                        ]
                      },
                      {
                        "learn": [
                          0.9816384181,
                          0.07763867313
                        ],
                        "iteration": 197,
                        "passed_time": 4.638545748,
                        "remaining_time": 7.074953615,
                        "test": [
                          0.9382022472,
                          0.2074701201
                        ]
                      },
                      {
                        "learn": [
                          0.9830508475,
                          0.07693832222
                        ],
                        "iteration": 198,
                        "passed_time": 4.650464013,
                        "remaining_time": 7.034118934,
                        "test": [
                          0.9325842697,
                          0.2082522576
                        ]
                      },
                      {
                        "learn": [
                          0.9830508475,
                          0.07676120231
                        ],
                        "iteration": 199,
                        "passed_time": 4.661304555,
                        "remaining_time": 6.991956832,
                        "test": [
                          0.9325842697,
                          0.2082322161
                        ]
                      },
                      {
                        "learn": [
                          0.9830508475,
                          0.07651433696
                        ],
                        "iteration": 200,
                        "passed_time": 4.671776223,
                        "remaining_time": 6.949557665,
                        "test": [
                          0.9325842697,
                          0.2078275486
                        ]
                      },
                      {
                        "learn": [
                          0.9830508475,
                          0.07547197814
                        ],
                        "iteration": 201,
                        "passed_time": 4.683140025,
                        "remaining_time": 6.908790729,
                        "test": [
                          0.9325842697,
                          0.2087613161
                        ]
                      },
                      {
                        "learn": [
                          0.9844632768,
                          0.07488170848
                        ],
                        "iteration": 202,
                        "passed_time": 4.700371312,
                        "remaining_time": 6.87689793,
                        "test": [
                          0.9382022472,
                          0.208874881
                        ]
                      },
                      {
                        "learn": [
                          0.9844632768,
                          0.07429831808
                        ],
                        "iteration": 203,
                        "passed_time": 4.711612437,
                        "remaining_time": 6.836457261,
                        "test": [
                          0.9382022472,
                          0.2086375884
                        ]
                      },
                      {
                        "learn": [
                          0.9844632768,
                          0.07412334174
                        ],
                        "iteration": 204,
                        "passed_time": 4.724496514,
                        "remaining_time": 6.798665715,
                        "test": [
                          0.9382022472,
                          0.2088406626
                        ]
                      },
                      {
                        "learn": [
                          0.9844632768,
                          0.07378661347
                        ],
                        "iteration": 205,
                        "passed_time": 4.74147688,
                        "remaining_time": 6.766962148,
                        "test": [
                          0.9382022472,
                          0.2087842866
                        ]
                      },
                      {
                        "learn": [
                          0.9844632768,
                          0.07368419565
                        ],
                        "iteration": 206,
                        "passed_time": 4.75291667,
                        "remaining_time": 6.727558378,
                        "test": [
                          0.9382022472,
                          0.2087462174
                        ]
                      },
                      {
                        "learn": [
                          0.9844632768,
                          0.07307505956
                        ],
                        "iteration": 207,
                        "passed_time": 4.764231453,
                        "remaining_time": 6.688248002,
                        "test": [
                          0.9325842697,
                          0.2084776514
                        ]
                      },
                      {
                        "learn": [
                          0.9844632768,
                          0.07231039413
                        ],
                        "iteration": 208,
                        "passed_time": 4.778886014,
                        "remaining_time": 6.653855646,
                        "test": [
                          0.9325842697,
                          0.2087375852
                        ]
                      },
                      {
                        "learn": [
                          0.9844632768,
                          0.07215677591
                        ],
                        "iteration": 209,
                        "passed_time": 4.793581519,
                        "remaining_time": 6.619707812,
                        "test": [
                          0.9325842697,
                          0.2087033123
                        ]
                      },
                      {
                        "learn": [
                          0.9844632768,
                          0.07151067223
                        ],
                        "iteration": 210,
                        "passed_time": 4.80744729,
                        "remaining_time": 6.584607899,
                        "test": [
                          0.9325842697,
                          0.2086946815
                        ]
                      },
                      {
                        "learn": [
                          0.9844632768,
                          0.07119560477
                        ],
                        "iteration": 211,
                        "passed_time": 4.818639511,
                        "remaining_time": 6.546076317,
                        "test": [
                          0.9325842697,
                          0.2092975174
                        ]
                      },
                      {
                        "learn": [
                          0.9844632768,
                          0.07111290896
                        ],
                        "iteration": 212,
                        "passed_time": 4.835628229,
                        "remaining_time": 6.515611745,
                        "test": [
                          0.9325842697,
                          0.2092764563
                        ]
                      },
                      {
                        "learn": [
                          0.9844632768,
                          0.07105666048
                        ],
                        "iteration": 213,
                        "passed_time": 4.847154013,
                        "remaining_time": 6.477972186,
                        "test": [
                          0.9325842697,
                          0.2091752633
                        ]
                      },
                      {
                        "learn": [
                          0.9844632768,
                          0.07075691975
                        ],
                        "iteration": 214,
                        "passed_time": 4.860299345,
                        "remaining_time": 6.442722387,
                        "test": [
                          0.9325842697,
                          0.2097310603
                        ]
                      },
                      {
                        "learn": [
                          0.9844632768,
                          0.07026410511
                        ],
                        "iteration": 215,
                        "passed_time": 4.871397256,
                        "remaining_time": 6.404985282,
                        "test": [
                          0.9382022472,
                          0.210085533
                        ]
                      },
                      {
                        "learn": [
                          0.9844632768,
                          0.06955132164
                        ],
                        "iteration": 216,
                        "passed_time": 4.88453673,
                        "remaining_time": 6.370156197,
                        "test": [
                          0.9325842697,
                          0.2093198409
                        ]
                      },
                      {
                        "learn": [
                          0.9844632768,
                          0.06940804041
                        ],
                        "iteration": 217,
                        "passed_time": 4.899090625,
                        "remaining_time": 6.337355763,
                        "test": [
                          0.9325842697,
                          0.2091873082
                        ]
                      },
                      {
                        "learn": [
                          0.9844632768,
                          0.06895738042
                        ],
                        "iteration": 218,
                        "passed_time": 4.916032124,
                        "remaining_time": 6.30778551,
                        "test": [
                          0.9325842697,
                          0.2097740001
                        ]
                      },
                      {
                        "learn": [
                          0.9844632768,
                          0.06765616771
                        ],
                        "iteration": 219,
                        "passed_time": 4.931747851,
                        "remaining_time": 6.276769992,
                        "test": [
                          0.9382022472,
                          0.2102939861
                        ]
                      },
                      {
                        "learn": [
                          0.9844632768,
                          0.06733510664
                        ],
                        "iteration": 220,
                        "passed_time": 4.94749042,
                        "remaining_time": 6.245926819,
                        "test": [
                          0.9382022472,
                          0.2101255403
                        ]
                      },
                      {
                        "learn": [
                          0.9844632768,
                          0.06695382937
                        ],
                        "iteration": 221,
                        "passed_time": 4.959743902,
                        "remaining_time": 6.210850471,
                        "test": [
                          0.9382022472,
                          0.2107222447
                        ]
                      },
                      {
                        "learn": [
                          0.9844632768,
                          0.06665614914
                        ],
                        "iteration": 222,
                        "passed_time": 4.971594436,
                        "remaining_time": 6.17547829,
                        "test": [
                          0.9382022472,
                          0.211026451
                        ]
                      },
                      {
                        "learn": [
                          0.9844632768,
                          0.06626773375
                        ],
                        "iteration": 223,
                        "passed_time": 4.98163877,
                        "remaining_time": 6.138090627,
                        "test": [
                          0.9382022472,
                          0.2113411111
                        ]
                      },
                      {
                        "learn": [
                          0.9844632768,
                          0.06599629654
                        ],
                        "iteration": 224,
                        "passed_time": 5.006784194,
                        "remaining_time": 6.119402904,
                        "test": [
                          0.9382022472,
                          0.2112487991
                        ]
                      },
                      {
                        "learn": [
                          0.9844632768,
                          0.06589626825
                        ],
                        "iteration": 225,
                        "passed_time": 5.022540813,
                        "remaining_time": 6.089275145,
                        "test": [
                          0.9382022472,
                          0.2109421117
                        ]
                      },
                      {
                        "learn": [
                          0.9844632768,
                          0.06518500093
                        ],
                        "iteration": 226,
                        "passed_time": 5.036986445,
                        "remaining_time": 6.057697355,
                        "test": [
                          0.9382022472,
                          0.2099242973
                        ]
                      },
                      {
                        "learn": [
                          0.9844632768,
                          0.06511025753
                        ],
                        "iteration": 227,
                        "passed_time": 5.054729066,
                        "remaining_time": 6.030203096,
                        "test": [
                          0.9382022472,
                          0.2098975256
                        ]
                      },
                      {
                        "learn": [
                          0.9844632768,
                          0.06453402068
                        ],
                        "iteration": 228,
                        "passed_time": 5.064383968,
                        "remaining_time": 5.993222949,
                        "test": [
                          0.9382022472,
                          0.2087683688
                        ]
                      },
                      {
                        "learn": [
                          0.9858757062,
                          0.06440685016
                        ],
                        "iteration": 229,
                        "passed_time": 5.076015154,
                        "remaining_time": 5.958800398,
                        "test": [
                          0.9382022472,
                          0.2086887357
                        ]
                      },
                      {
                        "learn": [
                          0.9858757062,
                          0.0641836238
                        ],
                        "iteration": 230,
                        "passed_time": 5.087826669,
                        "remaining_time": 5.924785169,
                        "test": [
                          0.9382022472,
                          0.2091803157
                        ]
                      },
                      {
                        "learn": [
                          0.9858757062,
                          0.06393649763
                        ],
                        "iteration": 231,
                        "passed_time": 5.099705225,
                        "remaining_time": 5.891038794,
                        "test": [
                          0.9382022472,
                          0.2099580558
                        ]
                      },
                      {
                        "learn": [
                          0.9858757062,
                          0.06356113498
                        ],
                        "iteration": 232,
                        "passed_time": 5.110606487,
                        "remaining_time": 5.856360223,
                        "test": [
                          0.9382022472,
                          0.2097725763
                        ]
                      },
                      {
                        "learn": [
                          0.9858757062,
                          0.06321439635
                        ],
                        "iteration": 233,
                        "passed_time": 5.122237799,
                        "remaining_time": 5.822714763,
                        "test": [
                          0.9382022472,
                          0.2101265948
                        ]
                      },
                      {
                        "learn": [
                          0.9858757062,
                          0.06311310692
                        ],
                        "iteration": 234,
                        "passed_time": 5.146849163,
                        "remaining_time": 5.803893737,
                        "test": [
                          0.9382022472,
                          0.209888088
                        ]
                      },
                      {
                        "learn": [
                          0.9858757062,
                          0.06300208631
                        ],
                        "iteration": 235,
                        "passed_time": 5.17093453,
                        "remaining_time": 5.784435237,
                        "test": [
                          0.9382022472,
                          0.2098956329
                        ]
                      },
                      {
                        "learn": [
                          0.9858757062,
                          0.06274828151
                        ],
                        "iteration": 236,
                        "passed_time": 5.177666393,
                        "remaining_time": 5.745680428,
                        "test": [
                          0.9382022472,
                          0.209889894
                        ]
                      },
                      {
                        "learn": [
                          0.9858757062,
                          0.06151889072
                        ],
                        "iteration": 237,
                        "passed_time": 5.184800514,
                        "remaining_time": 5.70763754,
                        "test": [
                          0.9382022472,
                          0.2095038634
                        ]
                      },
                      {
                        "learn": [
                          0.9872881356,
                          0.06120094975
                        ],
                        "iteration": 238,
                        "passed_time": 5.19181235,
                        "remaining_time": 5.669719763,
                        "test": [
                          0.9382022472,
                          0.2100622008
                        ]
                      },
                      {
                        "learn": [
                          0.9872881356,
                          0.06065548004
                        ],
                        "iteration": 239,
                        "passed_time": 5.19905608,
                        "remaining_time": 5.632310754,
                        "test": [
                          0.9325842697,
                          0.2093793104
                        ]
                      },
                      {
                        "learn": [
                          0.9872881356,
                          0.06049036544
                        ],
                        "iteration": 240,
                        "passed_time": 5.205310671,
                        "remaining_time": 5.594089061,
                        "test": [
                          0.9325842697,
                          0.2098284765
                        ]
                      },
                      {
                        "learn": [
                          0.9872881356,
                          0.06021130907
                        ],
                        "iteration": 241,
                        "passed_time": 5.214667873,
                        "remaining_time": 5.559439303,
                        "test": [
                          0.9325842697,
                          0.2100829248
                        ]
                      },
                      {
                        "learn": [
                          0.9872881356,
                          0.05998464627
                        ],
                        "iteration": 242,
                        "passed_time": 5.224268897,
                        "remaining_time": 5.525255582,
                        "test": [
                          0.9325842697,
                          0.2103075762
                        ]
                      },
                      {
                        "learn": [
                          0.9872881356,
                          0.05985908816
                        ],
                        "iteration": 243,
                        "passed_time": 5.231471804,
                        "remaining_time": 5.488757302,
                        "test": [
                          0.9325842697,
                          0.2103726565
                        ]
                      },
                      {
                        "learn": [
                          0.9872881356,
                          0.05968247131
                        ],
                        "iteration": 244,
                        "passed_time": 5.238854498,
                        "remaining_time": 5.452685294,
                        "test": [
                          0.9325842697,
                          0.210250791
                        ]
                      },
                      {
                        "learn": [
                          0.9872881356,
                          0.05935098089
                        ],
                        "iteration": 245,
                        "passed_time": 5.246548473,
                        "remaining_time": 5.417167936,
                        "test": [
                          0.9325842697,
                          0.2109290044
                        ]
                      },
                      {
                        "learn": [
                          0.9872881356,
                          0.05914057329
                        ],
                        "iteration": 246,
                        "passed_time": 5.255122053,
                        "remaining_time": 5.38277684,
                        "test": [
                          0.9325842697,
                          0.2110089342
                        ]
                      },
                      {
                        "learn": [
                          0.9872881356,
                          0.05886242801
                        ],
                        "iteration": 247,
                        "passed_time": 5.263726936,
                        "remaining_time": 5.348625757,
                        "test": [
                          0.9325842697,
                          0.2108111038
                        ]
                      },
                      {
                        "learn": [
                          0.988700565,
                          0.05825977896
                        ],
                        "iteration": 248,
                        "passed_time": 5.272876559,
                        "remaining_time": 5.315228981,
                        "test": [
                          0.9325842697,
                          0.2102599172
                        ]
                      },
                      {
                        "learn": [
                          0.988700565,
                          0.05806626815
                        ],
                        "iteration": 249,
                        "passed_time": 5.280818451,
                        "remaining_time": 5.280818451,
                        "test": [
                          0.9325842697,
                          0.2103276334
                        ]
                      },
                      {
                        "learn": [
                          0.988700565,
                          0.05783369152
                        ],
                        "iteration": 250,
                        "passed_time": 5.286769317,
                        "remaining_time": 5.244643665,
                        "test": [
                          0.9325842697,
                          0.210586587
                        ]
                      },
                      {
                        "learn": [
                          0.988700565,
                          0.05763558474
                        ],
                        "iteration": 251,
                        "passed_time": 5.293713467,
                        "remaining_time": 5.209686269,
                        "test": [
                          0.9325842697,
                          0.2110265807
                        ]
                      },
                      {
                        "learn": [
                          0.988700565,
                          0.05759021216
                        ],
                        "iteration": 252,
                        "passed_time": 5.302399918,
                        "remaining_time": 5.176651304,
                        "test": [
                          0.9325842697,
                          0.2110557247
                        ]
                      },
                      {
                        "learn": [
                          0.988700565,
                          0.05712457268
                        ],
                        "iteration": 253,
                        "passed_time": 5.316240802,
                        "remaining_time": 5.148800146,
                        "test": [
                          0.9325842697,
                          0.211068538
                        ]
                      },
                      {
                        "learn": [
                          0.9901129944,
                          0.05690884266
                        ],
                        "iteration": 254,
                        "passed_time": 5.326779642,
                        "remaining_time": 5.117886322,
                        "test": [
                          0.9325842697,
                          0.2108377675
                        ]
                      },
                      {
                        "learn": [
                          0.9901129944,
                          0.05671394472
                        ],
                        "iteration": 255,
                        "passed_time": 5.338552032,
                        "remaining_time": 5.088307406,
                        "test": [
                          0.9325842697,
                          0.2111059697
                        ]
                      },
                      {
                        "learn": [
                          0.9915254237,
                          0.05583462997
                        ],
                        "iteration": 256,
                        "passed_time": 5.352159922,
                        "remaining_time": 5.060602572,
                        "test": [
                          0.9325842697,
                          0.2104885979
                        ]
                      },
                      {
                        "learn": [
                          0.9915254237,
                          0.05574367214
                        ],
                        "iteration": 257,
                        "passed_time": 5.366779109,
                        "remaining_time": 5.033955599,
                        "test": [
                          0.9325842697,
                          0.2104336462
                        ]
                      },
                      {
                        "learn": [
                          0.9915254237,
                          0.05560248073
                        ],
                        "iteration": 258,
                        "passed_time": 5.379444422,
                        "remaining_time": 5.00558342,
                        "test": [
                          0.9325842697,
                          0.2105409855
                        ]
                      },
                      {
                        "learn": [
                          0.9929378531,
                          0.05537162633
                        ],
                        "iteration": 259,
                        "passed_time": 5.391768728,
                        "remaining_time": 4.977017287,
                        "test": [
                          0.9325842697,
                          0.2103282224
                        ]
                      },
                      {
                        "learn": [
                          0.9929378531,
                          0.05418101823
                        ],
                        "iteration": 260,
                        "passed_time": 5.403643477,
                        "remaining_time": 4.948163951,
                        "test": [
                          0.9325842697,
                          0.2123374447
                        ]
                      },
                      {
                        "learn": [
                          0.9929378531,
                          0.05390683997
                        ],
                        "iteration": 261,
                        "passed_time": 5.414964317,
                        "remaining_time": 4.918937051,
                        "test": [
                          0.9325842697,
                          0.2128165638
                        ]
                      },
                      {
                        "learn": [
                          0.9929378531,
                          0.05350441001
                        ],
                        "iteration": 262,
                        "passed_time": 5.429723156,
                        "remaining_time": 4.892944441,
                        "test": [
                          0.9325842697,
                          0.2129556014
                        ]
                      },
                      {
                        "learn": [
                          0.9929378531,
                          0.05329559703
                        ],
                        "iteration": 263,
                        "passed_time": 5.442004225,
                        "remaining_time": 4.864821959,
                        "test": [
                          0.9325842697,
                          0.2128156486
                        ]
                      },
                      {
                        "learn": [
                          0.9929378531,
                          0.0530955839
                        ],
                        "iteration": 264,
                        "passed_time": 5.45575933,
                        "remaining_time": 4.838126198,
                        "test": [
                          0.9325842697,
                          0.2127804521
                        ]
                      },
                      {
                        "learn": [
                          0.9929378531,
                          0.05261661363
                        ],
                        "iteration": 265,
                        "passed_time": 5.467197556,
                        "remaining_time": 4.809489579,
                        "test": [
                          0.9325842697,
                          0.213845967
                        ]
                      },
                      {
                        "learn": [
                          0.9929378531,
                          0.05248782343
                        ],
                        "iteration": 266,
                        "passed_time": 5.484028644,
                        "remaining_time": 4.785687918,
                        "test": [
                          0.9325842697,
                          0.2136852572
                        ]
                      },
                      {
                        "learn": [
                          0.9929378531,
                          0.05204826039
                        ],
                        "iteration": 267,
                        "passed_time": 5.495543201,
                        "remaining_time": 4.757335905,
                        "test": [
                          0.9325842697,
                          0.2145843442
                        ]
                      },
                      {
                        "learn": [
                          0.9929378531,
                          0.05159000507
                        ],
                        "iteration": 268,
                        "passed_time": 5.508768948,
                        "remaining_time": 4.730578539,
                        "test": [
                          0.9325842697,
                          0.2144123056
                        ]
                      },
                      {
                        "learn": [
                          0.9929378531,
                          0.05153513537
                        ],
                        "iteration": 269,
                        "passed_time": 5.519556929,
                        "remaining_time": 4.701844791,
                        "test": [
                          0.9325842697,
                          0.2144376123
                        ]
                      },
                      {
                        "learn": [
                          0.9929378531,
                          0.05139157991
                        ],
                        "iteration": 270,
                        "passed_time": 5.533605832,
                        "remaining_time": 4.675999024,
                        "test": [
                          0.9325842697,
                          0.2138579989
                        ]
                      },
                      {
                        "learn": [
                          0.9929378531,
                          0.0505910638
                        ],
                        "iteration": 271,
                        "passed_time": 5.546187654,
                        "remaining_time": 4.649010239,
                        "test": [
                          0.9325842697,
                          0.2145939763
                        ]
                      },
                      {
                        "learn": [
                          0.9929378531,
                          0.05030971439
                        ],
                        "iteration": 272,
                        "passed_time": 5.55720304,
                        "remaining_time": 4.620824506,
                        "test": [
                          0.9382022472,
                          0.215016598
                        ]
                      },
                      {
                        "learn": [
                          0.9929378531,
                          0.05015128632
                        ],
                        "iteration": 273,
                        "passed_time": 5.567452955,
                        "remaining_time": 4.592132729,
                        "test": [
                          0.9382022472,
                          0.21504633
                        ]
                      },
                      {
                        "learn": [
                          0.9943502825,
                          0.05001330089
                        ],
                        "iteration": 274,
                        "passed_time": 5.580405203,
                        "remaining_time": 4.565786075,
                        "test": [
                          0.9382022472,
                          0.2152824115
                        ]
                      },
                      {
                        "learn": [
                          0.9943502825,
                          0.04992426282
                        ],
                        "iteration": 275,
                        "passed_time": 5.591326435,
                        "remaining_time": 4.537888121,
                        "test": [
                          0.9382022472,
                          0.2153240762
                        ]
                      },
                      {
                        "learn": [
                          0.9943502825,
                          0.04985049981
                        ],
                        "iteration": 276,
                        "passed_time": 5.603239292,
                        "remaining_time": 4.510911055,
                        "test": [
                          0.9382022472,
                          0.2155250752
                        ]
                      },
                      {
                        "learn": [
                          0.9943502825,
                          0.0497202657
                        ],
                        "iteration": 277,
                        "passed_time": 5.614791,
                        "remaining_time": 4.483753964,
                        "test": [
                          0.9382022472,
                          0.2155733462
                        ]
                      },
                      {
                        "learn": [
                          0.9943502825,
                          0.04959785092
                        ],
                        "iteration": 278,
                        "passed_time": 5.625888722,
                        "remaining_time": 4.456349131,
                        "test": [
                          0.9382022472,
                          0.2158090137
                        ]
                      },
                      {
                        "learn": [
                          0.9943502825,
                          0.04935295343
                        ],
                        "iteration": 279,
                        "passed_time": 5.637746519,
                        "remaining_time": 4.429657979,
                        "test": [
                          0.9382022472,
                          0.2155691186
                        ]
                      },
                      {
                        "learn": [
                          0.9943502825,
                          0.04921252836
                        ],
                        "iteration": 280,
                        "passed_time": 5.648589613,
                        "remaining_time": 4.402281584,
                        "test": [
                          0.9382022472,
                          0.2156437837
                        ]
                      },
                      {
                        "learn": [
                          0.9943502825,
                          0.04899084977
                        ],
                        "iteration": 281,
                        "passed_time": 5.660895606,
                        "remaining_time": 4.376153341,
                        "test": [
                          0.9382022472,
                          0.2160314546
                        ]
                      },
                      {
                        "learn": [
                          0.9943502825,
                          0.04882208323
                        ],
                        "iteration": 282,
                        "passed_time": 5.67363606,
                        "remaining_time": 4.350455919,
                        "test": [
                          0.9382022472,
                          0.2161564486
                        ]
                      },
                      {
                        "learn": [
                          0.9943502825,
                          0.04875402541
                        ],
                        "iteration": 283,
                        "passed_time": 5.686680014,
                        "remaining_time": 4.325080574,
                        "test": [
                          0.9382022472,
                          0.2163573842
                        ]
                      },
                      {
                        "learn": [
                          0.9943502825,
                          0.04870159824
                        ],
                        "iteration": 284,
                        "passed_time": 5.699441639,
                        "remaining_time": 4.299578781,
                        "test": [
                          0.9382022472,
                          0.2163123605
                        ]
                      },
                      {
                        "learn": [
                          0.9943502825,
                          0.04867270195
                        ],
                        "iteration": 285,
                        "passed_time": 5.713230095,
                        "remaining_time": 4.274934407,
                        "test": [
                          0.9382022472,
                          0.2162192879
                        ]
                      },
                      {
                        "learn": [
                          0.9943502825,
                          0.04836582486
                        ],
                        "iteration": 286,
                        "passed_time": 5.724837761,
                        "remaining_time": 4.248747189,
                        "test": [
                          0.9382022472,
                          0.2171944843
                        ]
                      },
                      {
                        "learn": [
                          0.9943502825,
                          0.0480477293
                        ],
                        "iteration": 287,
                        "passed_time": 5.738365019,
                        "remaining_time": 4.22407425,
                        "test": [
                          0.9382022472,
                          0.2171868039
                        ]
                      },
                      {
                        "learn": [
                          0.9943502825,
                          0.04802207968
                        ],
                        "iteration": 288,
                        "passed_time": 5.75018395,
                        "remaining_time": 4.198231188,
                        "test": [
                          0.9382022472,
                          0.2170642505
                        ]
                      },
                      {
                        "learn": [
                          0.9943502825,
                          0.0479299285
                        ],
                        "iteration": 289,
                        "passed_time": 5.76556672,
                        "remaining_time": 4.175065556,
                        "test": [
                          0.9382022472,
                          0.217274888
                        ]
                      },
                      {
                        "learn": [
                          0.9943502825,
                          0.04737310459
                        ],
                        "iteration": 290,
                        "passed_time": 5.777694261,
                        "remaining_time": 4.149615466,
                        "test": [
                          0.9438202247,
                          0.21696291
                        ]
                      },
                      {
                        "learn": [
                          0.9943502825,
                          0.0469065838
                        ],
                        "iteration": 291,
                        "passed_time": 5.791639675,
                        "remaining_time": 4.12555155,
                        "test": [
                          0.9438202247,
                          0.2174249356
                        ]
                      },
                      {
                        "learn": [
                          0.9957627119,
                          0.04641075896
                        ],
                        "iteration": 292,
                        "passed_time": 5.807665531,
                        "remaining_time": 4.103026501,
                        "test": [
                          0.9438202247,
                          0.2165302278
                        ]
                      },
                      {
                        "learn": [
                          0.9957627119,
                          0.04634312089
                        ],
                        "iteration": 293,
                        "passed_time": 5.819145348,
                        "remaining_time": 4.077360346,
                        "test": [
                          0.9438202247,
                          0.216694751
                        ]
                      },
                      {
                        "learn": [
                          0.9957627119,
                          0.04631653248
                        ],
                        "iteration": 294,
                        "passed_time": 5.832433912,
                        "remaining_time": 4.053047295,
                        "test": [
                          0.9438202247,
                          0.2166389676
                        ]
                      },
                      {
                        "learn": [
                          0.9943502825,
                          0.04610022007
                        ],
                        "iteration": 295,
                        "passed_time": 5.849584899,
                        "remaining_time": 4.031470674,
                        "test": [
                          0.9438202247,
                          0.21670371
                        ]
                      },
                      {
                        "learn": [
                          0.9957627119,
                          0.04581039896
                        ],
                        "iteration": 296,
                        "passed_time": 5.86096845,
                        "remaining_time": 4.005981803,
                        "test": [
                          0.9438202247,
                          0.2172457147
                        ]
                      },
                      {
                        "learn": [
                          0.9971751412,
                          0.04570243606
                        ],
                        "iteration": 297,
                        "passed_time": 5.87240927,
                        "remaining_time": 3.980626418,
                        "test": [
                          0.9438202247,
                          0.2173511581
                        ]
                      },
                      {
                        "learn": [
                          0.9971751412,
                          0.04518037109
                        ],
                        "iteration": 298,
                        "passed_time": 5.883891749,
                        "remaining_time": 3.955392112,
                        "test": [
                          0.9382022472,
                          0.2179367491
                        ]
                      },
                      {
                        "learn": [
                          0.9971751412,
                          0.04508431961
                        ],
                        "iteration": 299,
                        "passed_time": 5.898324271,
                        "remaining_time": 3.932216181,
                        "test": [
                          0.9382022472,
                          0.2179926924
                        ]
                      },
                      {
                        "learn": [
                          0.9971751412,
                          0.04505794872
                        ],
                        "iteration": 300,
                        "passed_time": 5.915284116,
                        "remaining_time": 3.910769233,
                        "test": [
                          0.9382022472,
                          0.2181507578
                        ]
                      },
                      {
                        "learn": [
                          0.9971751412,
                          0.04493291471
                        ],
                        "iteration": 301,
                        "passed_time": 5.927376233,
                        "remaining_time": 3.886160577,
                        "test": [
                          0.9382022472,
                          0.2182670921
                        ]
                      },
                      {
                        "learn": [
                          0.9971751412,
                          0.04478409684
                        ],
                        "iteration": 302,
                        "passed_time": 5.939496261,
                        "remaining_time": 3.861652685,
                        "test": [
                          0.9382022472,
                          0.2186397994
                        ]
                      },
                      {
                        "learn": [
                          0.9971751412,
                          0.04471012957
                        ],
                        "iteration": 303,
                        "passed_time": 5.952630492,
                        "remaining_time": 3.837880186,
                        "test": [
                          0.9382022472,
                          0.2186864138
                        ]
                      },
                      {
                        "learn": [
                          0.9985875706,
                          0.04463385338
                        ],
                        "iteration": 304,
                        "passed_time": 5.967709284,
                        "remaining_time": 3.81542069,
                        "test": [
                          0.9382022472,
                          0.2189018988
                        ]
                      },
                      {
                        "learn": [
                          0.9985875706,
                          0.04402223378
                        ],
                        "iteration": 305,
                        "passed_time": 5.980823959,
                        "remaining_time": 3.79176421,
                        "test": [
                          0.9382022472,
                          0.2189568934
                        ]
                      },
                      {
                        "learn": [
                          0.9985875706,
                          0.04389103445
                        ],
                        "iteration": 306,
                        "passed_time": 5.996219261,
                        "remaining_time": 3.769610154,
                        "test": [
                          0.9382022472,
                          0.2193241021
                        ]
                      },
                      {
                        "learn": [
                          0.9985875706,
                          0.04382567052
                        ],
                        "iteration": 307,
                        "passed_time": 6.012058932,
                        "remaining_time": 3.747776996,
                        "test": [
                          0.9438202247,
                          0.2191250312
                        ]
                      },
                      {
                        "learn": [
                          0.9985875706,
                          0.04370853149
                        ],
                        "iteration": 308,
                        "passed_time": 6.042438153,
                        "remaining_time": 3.734969862,
                        "test": [
                          0.9438202247,
                          0.2194654218
                        ]
                      },
                      {
                        "learn": [
                          0.9985875706,
                          0.04337857333
                        ],
                        "iteration": 309,
                        "passed_time": 6.058050379,
                        "remaining_time": 3.71299862,
                        "test": [
                          0.9438202247,
                          0.2197473566
                        ]
                      },
                      {
                        "learn": [
                          0.9985875706,
                          0.04317641698
                        ],
                        "iteration": 310,
                        "passed_time": 6.074075729,
                        "remaining_time": 3.691319334,
                        "test": [
                          0.9438202247,
                          0.2197145674
                        ]
                      },
                      {
                        "learn": [
                          0.9985875706,
                          0.04312777734
                        ],
                        "iteration": 311,
                        "passed_time": 6.088899377,
                        "remaining_time": 3.668952189,
                        "test": [
                          0.9438202247,
                          0.2199027863
                        ]
                      },
                      {
                        "learn": [
                          0.9985875706,
                          0.04287787958
                        ],
                        "iteration": 312,
                        "passed_time": 6.100772649,
                        "remaining_time": 3.64487056,
                        "test": [
                          0.9438202247,
                          0.2198374144
                        ]
                      },
                      {
                        "learn": [
                          0.9985875706,
                          0.04281865022
                        ],
                        "iteration": 313,
                        "passed_time": 6.112140168,
                        "remaining_time": 3.620567106,
                        "test": [
                          0.9438202247,
                          0.2198819227
                        ]
                      },
                      {
                        "learn": [
                          0.9985875706,
                          0.0427546266
                        ],
                        "iteration": 314,
                        "passed_time": 6.123641825,
                        "remaining_time": 3.596424564,
                        "test": [
                          0.9438202247,
                          0.2200634536
                        ]
                      },
                      {
                        "learn": [
                          0.9985875706,
                          0.04257792987
                        ],
                        "iteration": 315,
                        "passed_time": 6.13839656,
                        "remaining_time": 3.574256225,
                        "test": [
                          0.9438202247,
                          0.2200576494
                        ]
                      },
                      {
                        "learn": [
                          0.9985875706,
                          0.04255669148
                        ],
                        "iteration": 316,
                        "passed_time": 6.149619337,
                        "remaining_time": 3.550095706,
                        "test": [
                          0.9438202247,
                          0.2201323684
                        ]
                      },
                      {
                        "learn": [
                          0.9985875706,
                          0.04242685979
                        ],
                        "iteration": 317,
                        "passed_time": 6.170044027,
                        "remaining_time": 3.531283059,
                        "test": [
                          0.9438202247,
                          0.2202908194
                        ]
                      },
                      {
                        "learn": [
                          1,
                          0.04149485933
                        ],
                        "iteration": 318,
                        "passed_time": 6.18176787,
                        "remaining_time": 3.507523462,
                        "test": [
                          0.9438202247,
                          0.2209286049
                        ]
                      },
                      {
                        "learn": [
                          1,
                          0.04138818256
                        ],
                        "iteration": 319,
                        "passed_time": 6.204219286,
                        "remaining_time": 3.489873348,
                        "test": [
                          0.9438202247,
                          0.2207570077
                        ]
                      },
                      {
                        "learn": [
                          1,
                          0.04105091966
                        ],
                        "iteration": 320,
                        "passed_time": 6.240722509,
                        "remaining_time": 3.480029063,
                        "test": [
                          0.9438202247,
                          0.2204644578
                        ]
                      },
                      {
                        "learn": [
                          1,
                          0.0410021675
                        ],
                        "iteration": 321,
                        "passed_time": 6.253703535,
                        "remaining_time": 3.45701624,
                        "test": [
                          0.9438202247,
                          0.2203368939
                        ]
                      },
                      {
                        "learn": [
                          1,
                          0.04088858328
                        ],
                        "iteration": 322,
                        "passed_time": 6.288646464,
                        "remaining_time": 3.446100384,
                        "test": [
                          0.9438202247,
                          0.2209207601
                        ]
                      },
                      {
                        "learn": [
                          1,
                          0.04049203124
                        ],
                        "iteration": 323,
                        "passed_time": 6.295380767,
                        "remaining_time": 3.419713009,
                        "test": [
                          0.9438202247,
                          0.2207810248
                        ]
                      },
                      {
                        "learn": [
                          1,
                          0.040317196
                        ],
                        "iteration": 324,
                        "passed_time": 6.312860038,
                        "remaining_time": 3.399232328,
                        "test": [
                          0.9438202247,
                          0.2205796509
                        ]
                      },
                      {
                        "learn": [
                          1,
                          0.04008963055
                        ],
                        "iteration": 325,
                        "passed_time": 6.326830085,
                        "remaining_time": 3.376897039,
                        "test": [
                          0.9438202247,
                          0.2205016394
                        ]
                      },
                      {
                        "learn": [
                          1,
                          0.04008370256
                        ],
                        "iteration": 326,
                        "passed_time": 6.343189787,
                        "remaining_time": 3.355877166,
                        "test": [
                          0.9438202247,
                          0.2205747897
                        ]
                      },
                      {
                        "learn": [
                          1,
                          0.04002539891
                        ],
                        "iteration": 327,
                        "passed_time": 6.362558673,
                        "remaining_time": 3.336463694,
                        "test": [
                          0.9438202247,
                          0.2207672749
                        ]
                      },
                      {
                        "learn": [
                          1,
                          0.03996186726
                        ],
                        "iteration": 328,
                        "passed_time": 6.381641564,
                        "remaining_time": 3.316901846,
                        "test": [
                          0.9438202247,
                          0.2209577306
                        ]
                      },
                      {
                        "learn": [
                          1,
                          0.03938239643
                        ],
                        "iteration": 329,
                        "passed_time": 6.389086803,
                        "remaining_time": 3.291347747,
                        "test": [
                          0.9438202247,
                          0.2215367335
                        ]
                      },
                      {
                        "learn": [
                          1,
                          0.03929410609
                        ],
                        "iteration": 330,
                        "passed_time": 6.396706267,
                        "remaining_time": 3.265992021,
                        "test": [
                          0.9438202247,
                          0.2220355395
                        ]
                      },
                      {
                        "learn": [
                          1,
                          0.03915247281
                        ],
                        "iteration": 331,
                        "passed_time": 6.404342336,
                        "remaining_time": 3.240751544,
                        "test": [
                          0.9438202247,
                          0.2227209491
                        ]
                      },
                      {
                        "learn": [
                          1,
                          0.03909893743
                        ],
                        "iteration": 332,
                        "passed_time": 6.412196494,
                        "remaining_time": 3.21572617,
                        "test": [
                          0.9438202247,
                          0.2227406625
                        ]
                      },
                      {
                        "learn": [
                          1,
                          0.03901401361
                        ],
                        "iteration": 333,
                        "passed_time": 6.419147775,
                        "remaining_time": 3.190354882,
                        "test": [
                          0.9438202247,
                          0.2227514987
                        ]
                      },
                      {
                        "learn": [
                          1,
                          0.03897787287
                        ],
                        "iteration": 334,
                        "passed_time": 6.425365923,
                        "remaining_time": 3.16473247,
                        "test": [
                          0.9438202247,
                          0.2227020492
                        ]
                      },
                      {
                        "learn": [
                          1,
                          0.03897167997
                        ],
                        "iteration": 335,
                        "passed_time": 6.434370282,
                        "remaining_time": 3.140585495,
                        "test": [
                          0.9438202247,
                          0.2227423949
                        ]
                      },
                      {
                        "learn": [
                          1,
                          0.03891533749
                        ],
                        "iteration": 336,
                        "passed_time": 6.44252031,
                        "remaining_time": 3.116115165,
                        "test": [
                          0.9438202247,
                          0.2229269181
                        ]
                      },
                      {
                        "learn": [
                          1,
                          0.03878367924
                        ],
                        "iteration": 337,
                        "passed_time": 6.451525155,
                        "remaining_time": 3.09215111,
                        "test": [
                          0.9438202247,
                          0.2230866706
                        ]
                      },
                      {
                        "learn": [
                          1,
                          0.03863085334
                        ],
                        "iteration": 338,
                        "passed_time": 6.469090996,
                        "remaining_time": 3.072341152,
                        "test": [
                          0.9438202247,
                          0.2225868639
                        ]
                      },
                      {
                        "learn": [
                          1,
                          0.03859923395
                        ],
                        "iteration": 339,
                        "passed_time": 6.489101196,
                        "remaining_time": 3.053694681,
                        "test": [
                          0.9438202247,
                          0.2227677909
                        ]
                      },
                      {
                        "learn": [
                          1,
                          0.03799895914
                        ],
                        "iteration": 340,
                        "passed_time": 6.507724341,
                        "remaining_time": 3.034393461,
                        "test": [
                          0.9438202247,
                          0.2224564906
                        ]
                      },
                      {
                        "learn": [
                          1,
                          0.03795201274
                        ],
                        "iteration": 341,
                        "passed_time": 6.518402133,
                        "remaining_time": 3.011425547,
                        "test": [
                          0.9438202247,
                          0.2224852865
                        ]
                      },
                      {
                        "learn": [
                          1,
                          0.03776041977
                        ],
                        "iteration": 342,
                        "passed_time": 6.537762076,
                        "remaining_time": 2.992503341,
                        "test": [
                          0.9438202247,
                          0.2227481632
                        ]
                      },
                      {
                        "learn": [
                          1,
                          0.03766544278
                        ],
                        "iteration": 343,
                        "passed_time": 6.548685649,
                        "remaining_time": 2.969752794,
                        "test": [
                          0.9438202247,
                          0.222713686
                        ]
                      },
                      {
                        "learn": [
                          1,
                          0.0376469768
                        ],
                        "iteration": 344,
                        "passed_time": 6.554856668,
                        "remaining_time": 2.944935605,
                        "test": [
                          0.9438202247,
                          0.2226296355
                        ]
                      },
                      {
                        "learn": [
                          1,
                          0.03764655426
                        ],
                        "iteration": 345,
                        "passed_time": 6.576397702,
                        "remaining_time": 2.927067185,
                        "test": [
                          0.9438202247,
                          0.2226255262
                        ]
                      },
                      {
                        "learn": [
                          1,
                          0.03760142682
                        ],
                        "iteration": 346,
                        "passed_time": 6.619136025,
                        "remaining_time": 2.918523953,
                        "test": [
                          0.9438202247,
                          0.2228239481
                        ]
                      },
                      {
                        "learn": [
                          1,
                          0.03745587028
                        ],
                        "iteration": 347,
                        "passed_time": 6.632439173,
                        "remaining_time": 2.896927455,
                        "test": [
                          0.9438202247,
                          0.2228387948
                        ]
                      },
                      {
                        "learn": [
                          1,
                          0.03738818128
                        ],
                        "iteration": 348,
                        "passed_time": 6.649295993,
                        "remaining_time": 2.876916031,
                        "test": [
                          0.9438202247,
                          0.2230771982
                        ]
                      },
                      {
                        "learn": [
                          1,
                          0.03718312886
                        ],
                        "iteration": 349,
                        "passed_time": 6.662014066,
                        "remaining_time": 2.855148885,
                        "test": [
                          0.9438202247,
                          0.2226962118
                        ]
                      },
                      {
                        "learn": [
                          1,
                          0.03714650922
                        ],
                        "iteration": 350,
                        "passed_time": 6.675060154,
                        "remaining_time": 2.833572544,
                        "test": [
                          0.9438202247,
                          0.2227188885
                        ]
                      },
                      {
                        "learn": [
                          1,
                          0.03709025958
                        ],
                        "iteration": 351,
                        "passed_time": 6.686446471,
                        "remaining_time": 2.811346812,
                        "test": [
                          0.9438202247,
                          0.2229535866
                        ]
                      },
                      {
                        "learn": [
                          1,
                          0.03707914592
                        ],
                        "iteration": 352,
                        "passed_time": 6.711583984,
                        "remaining_time": 2.794908911,
                        "test": [
                          0.9438202247,
                          0.2229599597
                        ]
                      },
                      {
                        "learn": [
                          1,
                          0.03685036166
                        ],
                        "iteration": 353,
                        "passed_time": 6.718490184,
                        "remaining_time": 2.770902731,
                        "test": [
                          0.9438202247,
                          0.2224979571
                        ]
                      },
                      {
                        "learn": [
                          1,
                          0.03662746404
                        ],
                        "iteration": 354,
                        "passed_time": 6.725233537,
                        "remaining_time": 2.746926374,
                        "test": [
                          0.9438202247,
                          0.2227485076
                        ]
                      },
                      {
                        "learn": [
                          1,
                          0.03662746404
                        ],
                        "iteration": 355,
                        "passed_time": 6.731377439,
                        "remaining_time": 2.722804357,
                        "test": [
                          0.9438202247,
                          0.2227485076
                        ]
                      },
                      {
                        "learn": [
                          1,
                          0.03652140563
                        ],
                        "iteration": 356,
                        "passed_time": 6.737529898,
                        "remaining_time": 2.698786486,
                        "test": [
                          0.9438202247,
                          0.2224575688
                        ]
                      },
                      {
                        "learn": [
                          1,
                          0.03641534806
                        ],
                        "iteration": 357,
                        "passed_time": 6.743823648,
                        "remaining_time": 2.674924464,
                        "test": [
                          0.9438202247,
                          0.222717801
                        ]
                      },
                      {
                        "learn": [
                          1,
                          0.03611563005
                        ],
                        "iteration": 358,
                        "passed_time": 6.755493575,
                        "remaining_time": 2.65327185,
                        "test": [
                          0.9438202247,
                          0.2234930702
                        ]
                      },
                      {
                        "learn": [
                          1,
                          0.03594794427
                        ],
                        "iteration": 359,
                        "passed_time": 6.762090455,
                        "remaining_time": 2.629701844,
                        "test": [
                          0.9438202247,
                          0.2233191789
                        ]
                      },
                      {
                        "learn": [
                          1,
                          0.03582021296
                        ],
                        "iteration": 360,
                        "passed_time": 6.769507008,
                        "remaining_time": 2.606541479,
                        "test": [
                          0.9438202247,
                          0.223314025
                        ]
                      },
                      {
                        "learn": [
                          1,
                          0.03544361737
                        ],
                        "iteration": 361,
                        "passed_time": 6.77807297,
                        "remaining_time": 2.58390627,
                        "test": [
                          0.9438202247,
                          0.2232797726
                        ]
                      },
                      {
                        "learn": [
                          1,
                          0.03540669539
                        ],
                        "iteration": 362,
                        "passed_time": 6.790721393,
                        "remaining_time": 2.562889341,
                        "test": [
                          0.9438202247,
                          0.2233254507
                        ]
                      },
                      {
                        "learn": [
                          1,
                          0.03508356853
                        ],
                        "iteration": 363,
                        "passed_time": 6.811313282,
                        "remaining_time": 2.544886281,
                        "test": [
                          0.9438202247,
                          0.2233034097
                        ]
                      },
                      {
                        "learn": [
                          1,
                          0.0349951571
                        ],
                        "iteration": 364,
                        "passed_time": 6.819289029,
                        "remaining_time": 2.522202792,
                        "test": [
                          0.9438202247,
                          0.2229946953
                        ]
                      },
                      {
                        "learn": [
                          1,
                          0.03495990716
                        ],
                        "iteration": 365,
                        "passed_time": 6.829319778,
                        "remaining_time": 2.50035205,
                        "test": [
                          0.9438202247,
                          0.2229565273
                        ]
                      },
                      {
                        "learn": [
                          1,
                          0.03493115498
                        ],
                        "iteration": 366,
                        "passed_time": 6.834720093,
                        "remaining_time": 2.476887663,
                        "test": [
                          0.9438202247,
                          0.2229797307
                        ]
                      },
                      {
                        "learn": [
                          1,
                          0.03492109984
                        ],
                        "iteration": 367,
                        "passed_time": 6.841068576,
                        "remaining_time": 2.453861554,
                        "test": [
                          0.9438202247,
                          0.222951658
                        ]
                      },
                      {
                        "learn": [
                          1,
                          0.03486566395
                        ],
                        "iteration": 368,
                        "passed_time": 6.848300707,
                        "remaining_time": 2.431239546,
                        "test": [
                          0.9438202247,
                          0.2230666437
                        ]
                      },
                      {
                        "learn": [
                          1,
                          0.0347351476
                        ],
                        "iteration": 369,
                        "passed_time": 6.856583495,
                        "remaining_time": 2.409069877,
                        "test": [
                          0.9438202247,
                          0.2232911298
                        ]
                      },
                      {
                        "learn": [
                          1,
                          0.03470036623
                        ],
                        "iteration": 370,
                        "passed_time": 6.864008586,
                        "remaining_time": 2.38667684,
                        "test": [
                          0.9438202247,
                          0.2233959654
                        ]
                      },
                      {
                        "learn": [
                          1,
                          0.0344449623
                        ],
                        "iteration": 371,
                        "passed_time": 6.869145174,
                        "remaining_time": 2.363576834,
                        "test": [
                          0.9438202247,
                          0.223465051
                        ]
                      },
                      {
                        "learn": [
                          1,
                          0.03428335446
                        ],
                        "iteration": 372,
                        "passed_time": 6.877143237,
                        "remaining_time": 2.341547429,
                        "test": [
                          0.9438202247,
                          0.2236264171
                        ]
                      },
                      {
                        "learn": [
                          1,
                          0.03418730401
                        ],
                        "iteration": 373,
                        "passed_time": 6.88493215,
                        "remaining_time": 2.319522596,
                        "test": [
                          0.9438202247,
                          0.2235232499
                        ]
                      },
                      {
                        "learn": [
                          1,
                          0.03415703662
                        ],
                        "iteration": 374,
                        "passed_time": 6.890914604,
                        "remaining_time": 2.296971535,
                        "test": [
                          0.9438202247,
                          0.2235401995
                        ]
                      },
                      {
                        "learn": [
                          1,
                          0.03409349366
                        ],
                        "iteration": 375,
                        "passed_time": 6.898404238,
                        "remaining_time": 2.275005653,
                        "test": [
                          0.9438202247,
                          0.2233481552
                        ]
                      },
                      {
                        "learn": [
                          1,
                          0.03401441996
                        ],
                        "iteration": 376,
                        "passed_time": 6.906898821,
                        "remaining_time": 2.253444443,
                        "test": [
                          0.9438202247,
                          0.2234646795
                        ]
                      },
                      {
                        "learn": [
                          1,
                          0.03398321112
                        ],
                        "iteration": 377,
                        "passed_time": 6.915084225,
                        "remaining_time": 2.231852581,
                        "test": [
                          0.9438202247,
                          0.2234751449
                        ]
                      },
                      {
                        "learn": [
                          1,
                          0.0336814558
                        ],
                        "iteration": 378,
                        "passed_time": 6.921806035,
                        "remaining_time": 2.209864196,
                        "test": [
                          0.9438202247,
                          0.2238745383
                        ]
                      },
                      {
                        "learn": [
                          1,
                          0.03363317261
                        ],
                        "iteration": 379,
                        "passed_time": 6.928221307,
                        "remaining_time": 2.18785936,
                        "test": [
                          0.9438202247,
                          0.2238885918
                        ]
                      },
                      {
                        "learn": [
                          1,
                          0.03360514692
                        ],
                        "iteration": 380,
                        "passed_time": 6.936342162,
                        "remaining_time": 2.166469074,
                        "test": [
                          0.9438202247,
                          0.2238948067
                        ]
                      },
                      {
                        "learn": [
                          1,
                          0.03360509545
                        ],
                        "iteration": 381,
                        "passed_time": 6.942860097,
                        "remaining_time": 2.144653119,
                        "test": [
                          0.9438202247,
                          0.2238952832
                        ]
                      },
                      {
                        "learn": [
                          1,
                          0.03358815509
                        ],
                        "iteration": 382,
                        "passed_time": 6.951718789,
                        "remaining_time": 2.12363211,
                        "test": [
                          0.9438202247,
                          0.2238560216
                        ]
                      },
                      {
                        "learn": [
                          1,
                          0.03356870628
                        ],
                        "iteration": 383,
                        "passed_time": 6.958133175,
                        "remaining_time": 2.101936063,
                        "test": [
                          0.9438202247,
                          0.2237947622
                        ]
                      },
                      {
                        "learn": [
                          1,
                          0.03354121681
                        ],
                        "iteration": 384,
                        "passed_time": 6.966180749,
                        "remaining_time": 2.080807237,
                        "test": [
                          0.9438202247,
                          0.2236261268
                        ]
                      },
                      {
                        "learn": [
                          1,
                          0.03344839563
                        ],
                        "iteration": 385,
                        "passed_time": 6.974644042,
                        "remaining_time": 2.059868966,
                        "test": [
                          0.9438202247,
                          0.2233732775
                        ]
                      },
                      {
                        "learn": [
                          1,
                          0.03334485356
                        ],
                        "iteration": 386,
                        "passed_time": 6.985927812,
                        "remaining_time": 2.039818715,
                        "test": [
                          0.9438202247,
                          0.2236464226
                        ]
                      },
                      {
                        "learn": [
                          1,
                          0.033234003
                        ],
                        "iteration": 387,
                        "passed_time": 6.998050499,
                        "remaining_time": 2.020055814,
                        "test": [
                          0.9438202247,
                          0.2238958913
                        ]
                      },
                      {
                        "learn": [
                          1,
                          0.03321868713
                        ],
                        "iteration": 388,
                        "passed_time": 7.00858755,
                        "remaining_time": 1.999879738,
                        "test": [
                          0.9438202247,
                          0.2238604046
                        ]
                      },
                      {
                        "learn": [
                          1,
                          0.03313465629
                        ],
                        "iteration": 389,
                        "passed_time": 7.020846466,
                        "remaining_time": 1.980238747,
                        "test": [
                          0.9438202247,
                          0.2236355056
                        ]
                      },
                      {
                        "learn": [
                          1,
                          0.0330827246
                        ],
                        "iteration": 390,
                        "passed_time": 7.051066605,
                        "remaining_time": 1.965642609,
                        "test": [
                          0.9438202247,
                          0.2234988744
                        ]
                      },
                      {
                        "learn": [
                          1,
                          0.03306380285
                        ],
                        "iteration": 391,
                        "passed_time": 7.066240327,
                        "remaining_time": 1.946821315,
                        "test": [
                          0.9438202247,
                          0.2235167143
                        ]
                      },
                      {
                        "learn": [
                          1,
                          0.0330637774
                        ],
                        "iteration": 392,
                        "passed_time": 7.0835155,
                        "remaining_time": 1.928590734,
                        "test": [
                          0.9438202247,
                          0.2235160017
                        ]
                      },
                      {
                        "learn": [
                          1,
                          0.03286365669
                        ],
                        "iteration": 393,
                        "passed_time": 7.118203806,
                        "remaining_time": 1.915049755,
                        "test": [
                          0.9438202247,
                          0.2242215759
                        ]
                      },
                      {
                        "learn": [
                          1,
                          0.03274984214
                        ],
                        "iteration": 394,
                        "passed_time": 7.124799137,
                        "remaining_time": 1.893933948,
                        "test": [
                          0.9438202247,
                          0.2247039708
                        ]
                      },
                      {
                        "learn": [
                          1,
                          0.03274980468
                        ],
                        "iteration": 395,
                        "passed_time": 7.132314667,
                        "remaining_time": 1.873133145,
                        "test": [
                          0.9438202247,
                          0.2247045569
                        ]
                      },
                      {
                        "learn": [
                          1,
                          0.03264970127
                        ],
                        "iteration": 396,
                        "passed_time": 7.138510785,
                        "remaining_time": 1.852056954,
                        "test": [
                          0.9438202247,
                          0.2245962779
                        ]
                      },
                      {
                        "learn": [
                          1,
                          0.03257111742
                        ],
                        "iteration": 397,
                        "passed_time": 7.1605634,
                        "remaining_time": 1.835119263,
                        "test": [
                          0.9438202247,
                          0.2246990107
                        ]
                      },
                      {
                        "learn": [
                          1,
                          0.03254619012
                        ],
                        "iteration": 398,
                        "passed_time": 7.177968632,
                        "remaining_time": 1.816979528,
                        "test": [
                          0.9438202247,
                          0.2246943321
                        ]
                      },
                      {
                        "learn": [
                          1,
                          0.0325070457
                        ],
                        "iteration": 399,
                        "passed_time": 7.188046742,
                        "remaining_time": 1.797011685,
                        "test": [
                          0.9438202247,
                          0.2246570559
                        ]
                      },
                      {
                        "learn": [
                          1,
                          0.03210722804
                        ],
                        "iteration": 400,
                        "passed_time": 7.211249946,
                        "remaining_time": 1.780333528,
                        "test": [
                          0.9438202247,
                          0.2247655338
                        ]
                      },
                      {
                        "learn": [
                          1,
                          0.03188565429
                        ],
                        "iteration": 401,
                        "passed_time": 7.225768896,
                        "remaining_time": 1.76150585,
                        "test": [
                          0.9438202247,
                          0.2250645525
                        ]
                      },
                      {
                        "learn": [
                          1,
                          0.03183346985
                        ],
                        "iteration": 402,
                        "passed_time": 7.237670698,
                        "remaining_time": 1.742069622,
                        "test": [
                          0.9438202247,
                          0.2252900412
                        ]
                      },
                      {
                        "learn": [
                          1,
                          0.03164487924
                        ],
                        "iteration": 403,
                        "passed_time": 7.249272947,
                        "remaining_time": 1.722599512,
                        "test": [
                          0.9438202247,
                          0.2253066966
                        ]
                      },
                      {
                        "learn": [
                          1,
                          0.03160338985
                        ],
                        "iteration": 404,
                        "passed_time": 7.26110308,
                        "remaining_time": 1.70322171,
                        "test": [
                          0.9438202247,
                          0.2255135705
                        ]
                      },
                      {
                        "learn": [
                          1,
                          0.03158946007
                        ],
                        "iteration": 405,
                        "passed_time": 7.289009692,
                        "remaining_time": 1.687603229,
                        "test": [
                          0.9438202247,
                          0.2256737804
                        ]
                      },
                      {
                        "learn": [
                          1,
                          0.03149104447
                        ],
                        "iteration": 406,
                        "passed_time": 7.301569747,
                        "remaining_time": 1.668417657,
                        "test": [
                          0.9438202247,
                          0.2256071767
                        ]
                      },
                      {
                        "learn": [
                          1,
                          0.03148709372
                        ],
                        "iteration": 407,
                        "passed_time": 7.312832736,
                        "remaining_time": 1.648972087,
                        "test": [
                          0.9438202247,
                          0.2256028822
                        ]
                      },
                      {
                        "learn": [
                          1,
                          0.031391283
                        ],
                        "iteration": 408,
                        "passed_time": 7.322378506,
                        "remaining_time": 1.62918446,
                        "test": [
                          0.9438202247,
                          0.2257068959
                        ]
                      },
                      {
                        "learn": [
                          1,
                          0.0313051949
                        ],
                        "iteration": 409,
                        "passed_time": 7.335490227,
                        "remaining_time": 1.610229562,
                        "test": [
                          0.9438202247,
                          0.2255079905
                        ]
                      },
                      {
                        "learn": [
                          1,
                          0.03125188588
                        ],
                        "iteration": 410,
                        "passed_time": 7.350731349,
                        "remaining_time": 1.591764209,
                        "test": [
                          0.9438202247,
                          0.2251922401
                        ]
                      },
                      {
                        "learn": [
                          1,
                          0.03113725956
                        ],
                        "iteration": 411,
                        "passed_time": 7.368518987,
                        "remaining_time": 1.573858424,
                        "test": [
                          0.9438202247,
                          0.2250969872
                        ]
                      },
                      {
                        "learn": [
                          1,
                          0.03112195112
                        ],
                        "iteration": 412,
                        "passed_time": 7.379882612,
                        "remaining_time": 1.554599969,
                        "test": [
                          0.9438202247,
                          0.22511792
                        ]
                      },
                      {
                        "learn": [
                          1,
                          0.03089268802
                        ],
                        "iteration": 413,
                        "passed_time": 7.39255347,
                        "remaining_time": 1.535651204,
                        "test": [
                          0.9438202247,
                          0.2252100191
                        ]
                      },
                      {
                        "learn": [
                          1,
                          0.03086563579
                        ],
                        "iteration": 414,
                        "passed_time": 7.405244618,
                        "remaining_time": 1.516736849,
                        "test": [
                          0.9438202247,
                          0.2251366436
                        ]
                      },
                      {
                        "learn": [
                          1,
                          0.03076509972
                        ],
                        "iteration": 415,
                        "passed_time": 7.418609563,
                        "remaining_time": 1.49798847,
                        "test": [
                          0.9438202247,
                          0.2250464269
                        ]
                      },
                      {
                        "learn": [
                          1,
                          0.03074549425
                        ],
                        "iteration": 416,
                        "passed_time": 7.433822411,
                        "remaining_time": 1.479633717,
                        "test": [
                          0.9438202247,
                          0.224959451
                        ]
                      },
                      {
                        "learn": [
                          1,
                          0.0306025128
                        ],
                        "iteration": 417,
                        "passed_time": 7.446000043,
                        "remaining_time": 1.460698573,
                        "test": [
                          0.9438202247,
                          0.2252521679
                        ]
                      },
                      {
                        "learn": [
                          1,
                          0.03056324466
                        ],
                        "iteration": 418,
                        "passed_time": 7.455852426,
                        "remaining_time": 1.441346173,
                        "test": [
                          0.9438202247,
                          0.225287183
                        ]
                      },
                      {
                        "learn": [
                          1,
                          0.03039363665
                        ],
                        "iteration": 419,
                        "passed_time": 7.465806895,
                        "remaining_time": 1.422058456,
                        "test": [
                          0.9438202247,
                          0.2258190657
                        ]
                      },
                      {
                        "learn": [
                          1,
                          0.03037314374
                        ],
                        "iteration": 420,
                        "passed_time": 7.482261518,
                        "remaining_time": 1.404034822,
                        "test": [
                          0.9438202247,
                          0.2258115527
                        ]
                      },
                      {
                        "learn": [
                          1,
                          0.03028015371
                        ],
                        "iteration": 421,
                        "passed_time": 7.494812913,
                        "remaining_time": 1.385297173,
                        "test": [
                          0.9438202247,
                          0.225855202
                        ]
                      },
                      {
                        "learn": [
                          1,
                          0.03013307465
                        ],
                        "iteration": 422,
                        "passed_time": 7.507584302,
                        "remaining_time": 1.366628821,
                        "test": [
                          0.9438202247,
                          0.2258796148
                        ]
                      },
                      {
                        "learn": [
                          1,
                          0.03010023743
                        ],
                        "iteration": 423,
                        "passed_time": 7.519578052,
                        "remaining_time": 1.347848896,
                        "test": [
                          0.9438202247,
                          0.2260685163
                        ]
                      },
                      {
                        "learn": [
                          1,
                          0.03005547768
                        ],
                        "iteration": 424,
                        "passed_time": 7.531231076,
                        "remaining_time": 1.329040778,
                        "test": [
                          0.9438202247,
                          0.2264425217
                        ]
                      },
                      {
                        "learn": [
                          1,
                          0.02993224339
                        ],
                        "iteration": 425,
                        "passed_time": 7.541259245,
                        "remaining_time": 1.309984,
                        "test": [
                          0.9438202247,
                          0.2264839803
                        ]
                      },
                      {
                        "learn": [
                          1,
                          0.02990068556
                        ],
                        "iteration": 426,
                        "passed_time": 7.551095996,
                        "remaining_time": 1.290936786,
                        "test": [
                          0.9438202247,
                          0.2265352945
                        ]
                      },
                      {
                        "learn": [
                          1,
                          0.02988358066
                        ],
                        "iteration": 427,
                        "passed_time": 7.564329918,
                        "remaining_time": 1.272504098,
                        "test": [
                          0.9438202247,
                          0.2264443116
                        ]
                      },
                      {
                        "learn": [
                          1,
                          0.02982204773
                        ],
                        "iteration": 428,
                        "passed_time": 7.580879605,
                        "remaining_time": 1.25464441,
                        "test": [
                          0.9438202247,
                          0.2267952603
                        ]
                      },
                      {
                        "learn": [
                          1,
                          0.02950390896
                        ],
                        "iteration": 429,
                        "passed_time": 7.592757081,
                        "remaining_time": 1.236030222,
                        "test": [
                          0.9438202247,
                          0.2270128719
                        ]
                      },
                      {
                        "learn": [
                          1,
                          0.02948097158
                        ],
                        "iteration": 430,
                        "passed_time": 7.599632376,
                        "remaining_time": 1.216646483,
                        "test": [
                          0.9438202247,
                          0.227124218
                        ]
                      },
                      {
                        "learn": [
                          1,
                          0.02946381331
                        ],
                        "iteration": 431,
                        "passed_time": 7.607550718,
                        "remaining_time": 1.197484835,
                        "test": [
                          0.9438202247,
                          0.2271180841
                        ]
                      },
                      {
                        "learn": [
                          1,
                          0.02944599831
                        ],
                        "iteration": 432,
                        "passed_time": 7.615380187,
                        "remaining_time": 1.178361368,
                        "test": [
                          0.9438202247,
                          0.2270898662
                        ]
                      },
                      {
                        "learn": [
                          1,
                          0.02937095133
                        ],
                        "iteration": 433,
                        "passed_time": 7.623770573,
                        "remaining_time": 1.159375248,
                        "test": [
                          0.9438202247,
                          0.227215047
                        ]
                      },
                      {
                        "learn": [
                          1,
                          0.02937094478
                        ],
                        "iteration": 434,
                        "passed_time": 7.629116887,
                        "remaining_time": 1.139982983,
                        "test": [
                          0.9438202247,
                          0.2272149795
                        ]
                      },
                      {
                        "learn": [
                          1,
                          0.02931203841
                        ],
                        "iteration": 435,
                        "passed_time": 7.63641245,
                        "remaining_time": 1.120941277,
                        "test": [
                          0.9438202247,
                          0.2274697609
                        ]
                      },
                      {
                        "learn": [
                          1,
                          0.02925280999
                        ],
                        "iteration": 436,
                        "passed_time": 7.643305866,
                        "remaining_time": 1.101895354,
                        "test": [
                          0.9438202247,
                          0.2275301721
                        ]
                      },
                      {
                        "learn": [
                          1,
                          0.02918330029
                        ],
                        "iteration": 437,
                        "passed_time": 7.649979454,
                        "remaining_time": 1.082873804,
                        "test": [
                          0.9438202247,
                          0.2273744791
                        ]
                      },
                      {
                        "learn": [
                          1,
                          0.02911643853
                        ],
                        "iteration": 438,
                        "passed_time": 7.658623928,
                        "remaining_time": 1.064182368,
                        "test": [
                          0.9438202247,
                          0.2274837124
                        ]
                      },
                      {
                        "learn": [
                          1,
                          0.02903845241
                        ],
                        "iteration": 439,
                        "passed_time": 7.663520344,
                        "remaining_time": 1.045025501,
                        "test": [
                          0.9438202247,
                          0.228084861
                        ]
                      },
                      {
                        "learn": [
                          1,
                          0.02897588986
                        ],
                        "iteration": 440,
                        "passed_time": 7.670620068,
                        "remaining_time": 1.026228082,
                        "test": [
                          0.9438202247,
                          0.2279539458
                        ]
                      },
                      {
                        "learn": [
                          1,
                          0.02895103633
                        ],
                        "iteration": 441,
                        "passed_time": 7.677710232,
                        "remaining_time": 1.007482338,
                        "test": [
                          0.9438202247,
                          0.2280355508
                        ]
                      },
                      {
                        "learn": [
                          1,
                          0.02885129017
                        ],
                        "iteration": 442,
                        "passed_time": 7.684773069,
                        "remaining_time": 0.9887856996,
                        "test": [
                          0.9438202247,
                          0.228061165
                        ]
                      },
                      {
                        "learn": [
                          1,
                          0.0286618293
                        ],
                        "iteration": 443,
                        "passed_time": 7.692688622,
                        "remaining_time": 0.9702490154,
                        "test": [
                          0.9438202247,
                          0.2286311049
                        ]
                      },
                      {
                        "learn": [
                          1,
                          0.02864766089
                        ],
                        "iteration": 444,
                        "passed_time": 7.698844493,
                        "remaining_time": 0.9515425778,
                        "test": [
                          0.9438202247,
                          0.2287383502
                        ]
                      },
                      {
                        "learn": [
                          1,
                          0.02857187684
                        ],
                        "iteration": 445,
                        "passed_time": 7.705822263,
                        "remaining_time": 0.9329919331,
                        "test": [
                          0.9438202247,
                          0.228829158
                        ]
                      },
                      {
                        "learn": [
                          1,
                          0.02857185491
                        ],
                        "iteration": 446,
                        "passed_time": 7.712163034,
                        "remaining_time": 0.9144175409,
                        "test": [
                          0.9438202247,
                          0.2288288862
                        ]
                      },
                      {
                        "learn": [
                          1,
                          0.02854379233
                        ],
                        "iteration": 447,
                        "passed_time": 7.7196097,
                        "remaining_time": 0.8960261259,
                        "test": [
                          0.9438202247,
                          0.2289813371
                        ]
                      },
                      {
                        "learn": [
                          1,
                          0.02854158291
                        ],
                        "iteration": 448,
                        "passed_time": 7.730651097,
                        "remaining_time": 0.8780917727,
                        "test": [
                          0.9438202247,
                          0.2289754937
                        ]
                      },
                      {
                        "learn": [
                          1,
                          0.02832673762
                        ],
                        "iteration": 449,
                        "passed_time": 7.741588645,
                        "remaining_time": 0.8601765161,
                        "test": [
                          0.9438202247,
                          0.2284716252
                        ]
                      },
                      {
                        "learn": [
                          1,
                          0.02832670153
                        ],
                        "iteration": 450,
                        "passed_time": 7.752813558,
                        "remaining_time": 0.8423234243,
                        "test": [
                          0.9438202247,
                          0.2284725047
                        ]
                      },
                      {
                        "learn": [
                          1,
                          0.02818557334
                        ],
                        "iteration": 451,
                        "passed_time": 7.763899174,
                        "remaining_time": 0.8244848681,
                        "test": [
                          0.9438202247,
                          0.2283136573
                        ]
                      },
                      {
                        "learn": [
                          1,
                          0.02810593478
                        ],
                        "iteration": 452,
                        "passed_time": 7.775598524,
                        "remaining_time": 0.8067398027,
                        "test": [
                          0.9438202247,
                          0.2285883022
                        ]
                      },
                      {
                        "learn": [
                          1,
                          0.02809481605
                        ],
                        "iteration": 453,
                        "passed_time": 7.787585168,
                        "remaining_time": 0.7890504796,
                        "test": [
                          0.9438202247,
                          0.2285798507
                        ]
                      },
                      {
                        "learn": [
                          1,
                          0.02806979347
                        ],
                        "iteration": 454,
                        "passed_time": 7.804120342,
                        "remaining_time": 0.7718360778,
                        "test": [
                          0.9438202247,
                          0.228750772
                        ]
                      },
                      {
                        "learn": [
                          1,
                          0.02805923405
                        ],
                        "iteration": 455,
                        "passed_time": 7.812701686,
                        "remaining_time": 0.7538571802,
                        "test": [
                          0.9438202247,
                          0.2287440023
                        ]
                      },
                      {
                        "learn": [
                          1,
                          0.02802796693
                        ],
                        "iteration": 456,
                        "passed_time": 7.821332302,
                        "remaining_time": 0.735924046,
                        "test": [
                          0.9438202247,
                          0.2287471756
                        ]
                      },
                      {
                        "learn": [
                          1,
                          0.02800468476
                        ],
                        "iteration": 457,
                        "passed_time": 7.829869557,
                        "remaining_time": 0.7180229725,
                        "test": [
                          0.9438202247,
                          0.228917036
                        ]
                      },
                      {
                        "learn": [
                          1,
                          0.0279541737
                        ],
                        "iteration": 458,
                        "passed_time": 7.835244329,
                        "remaining_time": 0.6998802124,
                        "test": [
                          0.9438202247,
                          0.2291981064
                        ]
                      },
                      {
                        "learn": [
                          1,
                          0.02792698365
                        ],
                        "iteration": 459,
                        "passed_time": 7.842206109,
                        "remaining_time": 0.681930966,
                        "test": [
                          0.9438202247,
                          0.229273926
                        ]
                      },
                      {
                        "learn": [
                          1,
                          0.02781876857
                        ],
                        "iteration": 460,
                        "passed_time": 7.855401209,
                        "remaining_time": 0.6645567184,
                        "test": [
                          0.9438202247,
                          0.2294269389
                        ]
                      },
                      {
                        "learn": [
                          1,
                          0.02777455374
                        ],
                        "iteration": 461,
                        "passed_time": 7.866562656,
                        "remaining_time": 0.6470332921,
                        "test": [
                          0.9438202247,
                          0.229660446
                        ]
                      },
                      {
                        "learn": [
                          1,
                          0.02772806007
                        ],
                        "iteration": 462,
                        "passed_time": 7.880648691,
                        "remaining_time": 0.6297710617,
                        "test": [
                          0.9438202247,
                          0.2297446645
                        ]
                      },
                      {
                        "learn": [
                          1,
                          0.02772805594
                        ],
                        "iteration": 463,
                        "passed_time": 7.890843203,
                        "remaining_time": 0.6122205933,
                        "test": [
                          0.9438202247,
                          0.2297446738
                        ]
                      },
                      {
                        "learn": [
                          1,
                          0.02771500684
                        ],
                        "iteration": 464,
                        "passed_time": 7.903265726,
                        "remaining_time": 0.5948694633,
                        "test": [
                          0.9438202247,
                          0.2297323861
                        ]
                      },
                      {
                        "learn": [
                          1,
                          0.02735626579
                        ],
                        "iteration": 465,
                        "passed_time": 7.915161558,
                        "remaining_time": 0.5775010579,
                        "test": [
                          0.9438202247,
                          0.2309518768
                        ]
                      },
                      {
                        "learn": [
                          1,
                          0.02735579773
                        ],
                        "iteration": 466,
                        "passed_time": 7.928535673,
                        "remaining_time": 0.5602605508,
                        "test": [
                          0.9438202247,
                          0.2309459118
                        ]
                      },
                      {
                        "learn": [
                          1,
                          0.02733306153
                        ],
                        "iteration": 467,
                        "passed_time": 7.943083015,
                        "remaining_time": 0.5431167873,
                        "test": [
                          0.9438202247,
                          0.2309481181
                        ]
                      },
                      {
                        "learn": [
                          1,
                          0.0273192898
                        ],
                        "iteration": 468,
                        "passed_time": 7.952717947,
                        "remaining_time": 0.5256593952,
                        "test": [
                          0.9438202247,
                          0.2307676011
                        ]
                      },
                      {
                        "learn": [
                          1,
                          0.02725221771
                        ],
                        "iteration": 469,
                        "passed_time": 7.964083759,
                        "remaining_time": 0.5083457718,
                        "test": [
                          0.9438202247,
                          0.2306706989
                        ]
                      },
                      {
                        "learn": [
                          1,
                          0.02718089444
                        ],
                        "iteration": 470,
                        "passed_time": 7.975147446,
                        "remaining_time": 0.4910388024,
                        "test": [
                          0.9438202247,
                          0.2306084043
                        ]
                      },
                      {
                        "learn": [
                          1,
                          0.0271090811
                        ],
                        "iteration": 471,
                        "passed_time": 8.023299733,
                        "remaining_time": 0.4759584588,
                        "test": [
                          0.9438202247,
                          0.2310742881
                        ]
                      },
                      {
                        "learn": [
                          1,
                          0.02705178972
                        ],
                        "iteration": 472,
                        "passed_time": 8.053143022,
                        "remaining_time": 0.4596931535,
                        "test": [
                          0.9438202247,
                          0.2312984131
                        ]
                      },
                      {
                        "learn": [
                          1,
                          0.02702393443
                        ],
                        "iteration": 473,
                        "passed_time": 8.06467857,
                        "remaining_time": 0.4423663351,
                        "test": [
                          0.9438202247,
                          0.2310236873
                        ]
                      },
                      {
                        "learn": [
                          1,
                          0.02700864561
                        ],
                        "iteration": 474,
                        "passed_time": 8.11364706,
                        "remaining_time": 0.4270340558,
                        "test": [
                          0.9438202247,
                          0.2310225215
                        ]
                      },
                      {
                        "learn": [
                          1,
                          0.02700863538
                        ],
                        "iteration": 475,
                        "passed_time": 8.144311139,
                        "remaining_time": 0.4106375364,
                        "test": [
                          0.9438202247,
                          0.2310221699
                        ]
                      },
                      {
                        "learn": [
                          1,
                          0.0270084971
                        ],
                        "iteration": 476,
                        "passed_time": 8.160890014,
                        "remaining_time": 0.3935020342,
                        "test": [
                          0.9438202247,
                          0.2310228289
                        ]
                      },
                      {
                        "learn": [
                          1,
                          0.02695681121
                        ],
                        "iteration": 477,
                        "passed_time": 8.192779144,
                        "remaining_time": 0.3770735171,
                        "test": [
                          0.9438202247,
                          0.2310680173
                        ]
                      },
                      {
                        "learn": [
                          1,
                          0.02681511489
                        ],
                        "iteration": 478,
                        "passed_time": 8.22223016,
                        "remaining_time": 0.3604735561,
                        "test": [
                          0.9438202247,
                          0.2314098139
                        ]
                      },
                      {
                        "learn": [
                          1,
                          0.02675555185
                        ],
                        "iteration": 479,
                        "passed_time": 8.237366606,
                        "remaining_time": 0.3432236086,
                        "test": [
                          0.9438202247,
                          0.2315785046
                        ]
                      },
                      {
                        "learn": [
                          1,
                          0.02668130722
                        ],
                        "iteration": 480,
                        "passed_time": 8.260781552,
                        "remaining_time": 0.3263094584,
                        "test": [
                          0.9438202247,
                          0.2315899251
                        ]
                      },
                      {
                        "learn": [
                          1,
                          0.02664666862
                        ],
                        "iteration": 481,
                        "passed_time": 8.269003453,
                        "remaining_time": 0.3088009588,
                        "test": [
                          0.9438202247,
                          0.2316373043
                        ]
                      },
                      {
                        "learn": [
                          1,
                          0.02659289658
                        ],
                        "iteration": 482,
                        "passed_time": 8.284762387,
                        "remaining_time": 0.2915961917,
                        "test": [
                          0.9438202247,
                          0.2319061515
                        ]
                      },
                      {
                        "learn": [
                          1,
                          0.02654348155
                        ],
                        "iteration": 483,
                        "passed_time": 8.303545702,
                        "remaining_time": 0.2744973786,
                        "test": [
                          0.9438202247,
                          0.2320227099
                        ]
                      },
                      {
                        "learn": [
                          1,
                          0.02649094481
                        ],
                        "iteration": 484,
                        "passed_time": 8.32249934,
                        "remaining_time": 0.2573968868,
                        "test": [
                          0.9438202247,
                          0.2324725377
                        ]
                      },
                      {
                        "learn": [
                          1,
                          0.02646565233
                        ],
                        "iteration": 485,
                        "passed_time": 8.341853083,
                        "remaining_time": 0.2403002946,
                        "test": [
                          0.9438202247,
                          0.2325004902
                        ]
                      },
                      {
                        "learn": [
                          1,
                          0.0264453528
                        ],
                        "iteration": 486,
                        "passed_time": 8.355382042,
                        "remaining_time": 0.2230389457,
                        "test": [
                          0.9438202247,
                          0.2326017245
                        ]
                      },
                      {
                        "learn": [
                          1,
                          0.02641115248
                        ],
                        "iteration": 487,
                        "passed_time": 8.366456647,
                        "remaining_time": 0.2057325405,
                        "test": [
                          0.9438202247,
                          0.2323979467
                        ]
                      },
                      {
                        "learn": [
                          1,
                          0.02638790891
                        ],
                        "iteration": 488,
                        "passed_time": 8.383810093,
                        "remaining_time": 0.1885928651,
                        "test": [
                          0.9438202247,
                          0.2324254576
                        ]
                      },
                      {
                        "learn": [
                          1,
                          0.02634055136
                        ],
                        "iteration": 489,
                        "passed_time": 8.39751396,
                        "remaining_time": 0.1713778359,
                        "test": [
                          0.9438202247,
                          0.2326530089
                        ]
                      },
                      {
                        "learn": [
                          1,
                          0.02631699553
                        ],
                        "iteration": 490,
                        "passed_time": 8.4051204,
                        "remaining_time": 0.1540653434,
                        "test": [
                          0.9438202247,
                          0.2328350995
                        ]
                      },
                      {
                        "learn": [
                          1,
                          0.02627422522
                        ],
                        "iteration": 491,
                        "passed_time": 8.411754107,
                        "remaining_time": 0.1367764895,
                        "test": [
                          0.9438202247,
                          0.2331295938
                        ]
                      },
                      {
                        "learn": [
                          1,
                          0.02615876843
                        ],
                        "iteration": 492,
                        "passed_time": 8.420397129,
                        "remaining_time": 0.1195593913,
                        "test": [
                          0.9438202247,
                          0.2336381168
                        ]
                      },
                      {
                        "learn": [
                          1,
                          0.02613553283
                        ],
                        "iteration": 493,
                        "passed_time": 8.432739613,
                        "remaining_time": 0.1024219386,
                        "test": [
                          0.9438202247,
                          0.2336956452
                        ]
                      },
                      {
                        "learn": [
                          1,
                          0.02609720945
                        ],
                        "iteration": 494,
                        "passed_time": 8.449673964,
                        "remaining_time": 0.08535024206,
                        "test": [
                          0.9438202247,
                          0.2338992292
                        ]
                      },
                      {
                        "learn": [
                          1,
                          0.02599867844
                        ],
                        "iteration": 495,
                        "passed_time": 8.45748343,
                        "remaining_time": 0.06820551153,
                        "test": [
                          0.9438202247,
                          0.2345383834
                        ]
                      },
                      {
                        "learn": [
                          1,
                          0.02588131108
                        ],
                        "iteration": 496,
                        "passed_time": 8.465821255,
                        "remaining_time": 0.05110153675,
                        "test": [
                          0.9438202247,
                          0.2347141406
                        ]
                      },
                      {
                        "learn": [
                          1,
                          0.0258436285
                        ],
                        "iteration": 497,
                        "passed_time": 8.476210801,
                        "remaining_time": 0.03404100723,
                        "test": [
                          0.9438202247,
                          0.2347840111
                        ]
                      },
                      {
                        "learn": [
                          1,
                          0.02579652915
                        ],
                        "iteration": 498,
                        "passed_time": 8.488474819,
                        "remaining_time": 0.01701097158,
                        "test": [
                          0.9438202247,
                          0.2351404348
                        ]
                      },
                      {
                        "learn": [
                          1,
                          0.02579500397
                        ],
                        "iteration": 499,
                        "passed_time": 8.495457615,
                        "remaining_time": 0,
                        "test": [
                          0.9438202247,
                          0.2351304223
                        ]
                      }
                    ],
                    "meta": {
                      "test_sets": [
                        "test"
                      ],
                      "test_metrics": [
                        {
                          "best_value": "Max",
                          "name": "Accuracy"
                        },
                        {
                          "best_value": "Min",
                          "name": "Logloss"
                        }
                      ],
                      "learn_metrics": [
                        {
                          "best_value": "Max",
                          "name": "Accuracy"
                        },
                        {
                          "best_value": "Min",
                          "name": "Logloss"
                        }
                      ],
                      "launch_mode": "Train",
                      "parameters": "",
                      "iteration_count": 500,
                      "learn_sets": [
                        "learn"
                      ],
                      "name": "experiment"
                    }
                  }
                }
              }
            },
            "layout": "IPY_MODEL_0c025f973f2041cda8f260648795a4d5"
          }
        }
      }
    }
  },
  "cells": [
    {
      "cell_type": "markdown",
      "metadata": {
        "id": "view-in-github",
        "colab_type": "text"
      },
      "source": [
        "<a href=\"https://colab.research.google.com/github/pranavj100/EmotionalExhaustion_ML/blob/main/Predicting_the_emotional_exhaustion_of_medical_students_using_behavioral_factors_and_machine_learning_techniques_Code_File.ipynb\" target=\"_parent\"><img src=\"https://colab.research.google.com/assets/colab-badge.svg\" alt=\"Open In Colab\"/></a>"
      ]
    },
    {
      "cell_type": "code",
      "execution_count": null,
      "metadata": {
        "id": "IP39lK9z0l4J"
      },
      "outputs": [],
      "source": [
        "#This file contains the final experiments and necessary data preprocessing for techniques utilized in the paper 'Predicting the emotional exhaustion of medical students using behavioral factors and machine learning techniques'"
      ]
    },
    {
      "cell_type": "code",
      "source": [
        "!pip install catboost\n",
        "!pip install scikit-learn\n",
        "!pip install ipywidgets\n",
        "!jupyter nbextension enable --py widgetsnbextension"
      ],
      "metadata": {
        "colab": {
          "base_uri": "https://localhost:8080/"
        },
        "id": "vAAKZxvu02My",
        "outputId": "392e6be2-0be9-467a-97b3-562adcd8d474"
      },
      "execution_count": 1,
      "outputs": [
        {
          "output_type": "stream",
          "name": "stdout",
          "text": [
            "Collecting catboost\n",
            "  Downloading catboost-1.2.2-cp310-cp310-manylinux2014_x86_64.whl (98.7 MB)\n",
            "\u001b[2K     \u001b[90m━━━━━━━━━━━━━━━━━━━━━━━━━━━━━━━━━━━━━━━━\u001b[0m \u001b[32m98.7/98.7 MB\u001b[0m \u001b[31m9.9 MB/s\u001b[0m eta \u001b[36m0:00:00\u001b[0m\n",
            "\u001b[?25hRequirement already satisfied: graphviz in /usr/local/lib/python3.10/dist-packages (from catboost) (0.20.1)\n",
            "Requirement already satisfied: matplotlib in /usr/local/lib/python3.10/dist-packages (from catboost) (3.7.1)\n",
            "Requirement already satisfied: numpy>=1.16.0 in /usr/local/lib/python3.10/dist-packages (from catboost) (1.23.5)\n",
            "Requirement already satisfied: pandas>=0.24 in /usr/local/lib/python3.10/dist-packages (from catboost) (1.5.3)\n",
            "Requirement already satisfied: scipy in /usr/local/lib/python3.10/dist-packages (from catboost) (1.11.3)\n",
            "Requirement already satisfied: plotly in /usr/local/lib/python3.10/dist-packages (from catboost) (5.15.0)\n",
            "Requirement already satisfied: six in /usr/local/lib/python3.10/dist-packages (from catboost) (1.16.0)\n",
            "Requirement already satisfied: python-dateutil>=2.8.1 in /usr/local/lib/python3.10/dist-packages (from pandas>=0.24->catboost) (2.8.2)\n",
            "Requirement already satisfied: pytz>=2020.1 in /usr/local/lib/python3.10/dist-packages (from pandas>=0.24->catboost) (2023.3.post1)\n",
            "Requirement already satisfied: contourpy>=1.0.1 in /usr/local/lib/python3.10/dist-packages (from matplotlib->catboost) (1.1.1)\n",
            "Requirement already satisfied: cycler>=0.10 in /usr/local/lib/python3.10/dist-packages (from matplotlib->catboost) (0.12.0)\n",
            "Requirement already satisfied: fonttools>=4.22.0 in /usr/local/lib/python3.10/dist-packages (from matplotlib->catboost) (4.43.0)\n",
            "Requirement already satisfied: kiwisolver>=1.0.1 in /usr/local/lib/python3.10/dist-packages (from matplotlib->catboost) (1.4.5)\n",
            "Requirement already satisfied: packaging>=20.0 in /usr/local/lib/python3.10/dist-packages (from matplotlib->catboost) (23.2)\n",
            "Requirement already satisfied: pillow>=6.2.0 in /usr/local/lib/python3.10/dist-packages (from matplotlib->catboost) (9.4.0)\n",
            "Requirement already satisfied: pyparsing>=2.3.1 in /usr/local/lib/python3.10/dist-packages (from matplotlib->catboost) (3.1.1)\n",
            "Requirement already satisfied: tenacity>=6.2.0 in /usr/local/lib/python3.10/dist-packages (from plotly->catboost) (8.2.3)\n",
            "Installing collected packages: catboost\n",
            "Successfully installed catboost-1.2.2\n",
            "Requirement already satisfied: scikit-learn in /usr/local/lib/python3.10/dist-packages (1.2.2)\n",
            "Requirement already satisfied: numpy>=1.17.3 in /usr/local/lib/python3.10/dist-packages (from scikit-learn) (1.23.5)\n",
            "Requirement already satisfied: scipy>=1.3.2 in /usr/local/lib/python3.10/dist-packages (from scikit-learn) (1.11.3)\n",
            "Requirement already satisfied: joblib>=1.1.1 in /usr/local/lib/python3.10/dist-packages (from scikit-learn) (1.3.2)\n",
            "Requirement already satisfied: threadpoolctl>=2.0.0 in /usr/local/lib/python3.10/dist-packages (from scikit-learn) (3.2.0)\n",
            "Requirement already satisfied: ipywidgets in /usr/local/lib/python3.10/dist-packages (7.7.1)\n",
            "Requirement already satisfied: ipykernel>=4.5.1 in /usr/local/lib/python3.10/dist-packages (from ipywidgets) (5.5.6)\n",
            "Requirement already satisfied: ipython-genutils~=0.2.0 in /usr/local/lib/python3.10/dist-packages (from ipywidgets) (0.2.0)\n",
            "Requirement already satisfied: traitlets>=4.3.1 in /usr/local/lib/python3.10/dist-packages (from ipywidgets) (5.7.1)\n",
            "Requirement already satisfied: widgetsnbextension~=3.6.0 in /usr/local/lib/python3.10/dist-packages (from ipywidgets) (3.6.6)\n",
            "Requirement already satisfied: ipython>=4.0.0 in /usr/local/lib/python3.10/dist-packages (from ipywidgets) (7.34.0)\n",
            "Requirement already satisfied: jupyterlab-widgets>=1.0.0 in /usr/local/lib/python3.10/dist-packages (from ipywidgets) (3.0.9)\n",
            "Requirement already satisfied: jupyter-client in /usr/local/lib/python3.10/dist-packages (from ipykernel>=4.5.1->ipywidgets) (6.1.12)\n",
            "Requirement already satisfied: tornado>=4.2 in /usr/local/lib/python3.10/dist-packages (from ipykernel>=4.5.1->ipywidgets) (6.3.2)\n",
            "Requirement already satisfied: setuptools>=18.5 in /usr/local/lib/python3.10/dist-packages (from ipython>=4.0.0->ipywidgets) (67.7.2)\n",
            "Collecting jedi>=0.16 (from ipython>=4.0.0->ipywidgets)\n",
            "  Downloading jedi-0.19.1-py2.py3-none-any.whl (1.6 MB)\n",
            "\u001b[2K     \u001b[90m━━━━━━━━━━━━━━━━━━━━━━━━━━━━━━━━━━━━━━━━\u001b[0m \u001b[32m1.6/1.6 MB\u001b[0m \u001b[31m16.0 MB/s\u001b[0m eta \u001b[36m0:00:00\u001b[0m\n",
            "\u001b[?25hRequirement already satisfied: decorator in /usr/local/lib/python3.10/dist-packages (from ipython>=4.0.0->ipywidgets) (4.4.2)\n",
            "Requirement already satisfied: pickleshare in /usr/local/lib/python3.10/dist-packages (from ipython>=4.0.0->ipywidgets) (0.7.5)\n",
            "Requirement already satisfied: prompt-toolkit!=3.0.0,!=3.0.1,<3.1.0,>=2.0.0 in /usr/local/lib/python3.10/dist-packages (from ipython>=4.0.0->ipywidgets) (3.0.39)\n",
            "Requirement already satisfied: pygments in /usr/local/lib/python3.10/dist-packages (from ipython>=4.0.0->ipywidgets) (2.16.1)\n",
            "Requirement already satisfied: backcall in /usr/local/lib/python3.10/dist-packages (from ipython>=4.0.0->ipywidgets) (0.2.0)\n",
            "Requirement already satisfied: matplotlib-inline in /usr/local/lib/python3.10/dist-packages (from ipython>=4.0.0->ipywidgets) (0.1.6)\n",
            "Requirement already satisfied: pexpect>4.3 in /usr/local/lib/python3.10/dist-packages (from ipython>=4.0.0->ipywidgets) (4.8.0)\n",
            "Requirement already satisfied: notebook>=4.4.1 in /usr/local/lib/python3.10/dist-packages (from widgetsnbextension~=3.6.0->ipywidgets) (6.5.5)\n",
            "Requirement already satisfied: parso<0.9.0,>=0.8.3 in /usr/local/lib/python3.10/dist-packages (from jedi>=0.16->ipython>=4.0.0->ipywidgets) (0.8.3)\n",
            "Requirement already satisfied: jinja2 in /usr/local/lib/python3.10/dist-packages (from notebook>=4.4.1->widgetsnbextension~=3.6.0->ipywidgets) (3.1.2)\n",
            "Requirement already satisfied: pyzmq<25,>=17 in /usr/local/lib/python3.10/dist-packages (from notebook>=4.4.1->widgetsnbextension~=3.6.0->ipywidgets) (23.2.1)\n",
            "Requirement already satisfied: argon2-cffi in /usr/local/lib/python3.10/dist-packages (from notebook>=4.4.1->widgetsnbextension~=3.6.0->ipywidgets) (23.1.0)\n",
            "Requirement already satisfied: jupyter-core>=4.6.1 in /usr/local/lib/python3.10/dist-packages (from notebook>=4.4.1->widgetsnbextension~=3.6.0->ipywidgets) (5.3.2)\n",
            "Requirement already satisfied: nbformat in /usr/local/lib/python3.10/dist-packages (from notebook>=4.4.1->widgetsnbextension~=3.6.0->ipywidgets) (5.9.2)\n",
            "Requirement already satisfied: nbconvert>=5 in /usr/local/lib/python3.10/dist-packages (from notebook>=4.4.1->widgetsnbextension~=3.6.0->ipywidgets) (6.5.4)\n",
            "Requirement already satisfied: nest-asyncio>=1.5 in /usr/local/lib/python3.10/dist-packages (from notebook>=4.4.1->widgetsnbextension~=3.6.0->ipywidgets) (1.5.8)\n",
            "Requirement already satisfied: Send2Trash>=1.8.0 in /usr/local/lib/python3.10/dist-packages (from notebook>=4.4.1->widgetsnbextension~=3.6.0->ipywidgets) (1.8.2)\n",
            "Requirement already satisfied: terminado>=0.8.3 in /usr/local/lib/python3.10/dist-packages (from notebook>=4.4.1->widgetsnbextension~=3.6.0->ipywidgets) (0.17.1)\n",
            "Requirement already satisfied: prometheus-client in /usr/local/lib/python3.10/dist-packages (from notebook>=4.4.1->widgetsnbextension~=3.6.0->ipywidgets) (0.17.1)\n",
            "Requirement already satisfied: nbclassic>=0.4.7 in /usr/local/lib/python3.10/dist-packages (from notebook>=4.4.1->widgetsnbextension~=3.6.0->ipywidgets) (1.0.0)\n",
            "Requirement already satisfied: python-dateutil>=2.1 in /usr/local/lib/python3.10/dist-packages (from jupyter-client->ipykernel>=4.5.1->ipywidgets) (2.8.2)\n",
            "Requirement already satisfied: ptyprocess>=0.5 in /usr/local/lib/python3.10/dist-packages (from pexpect>4.3->ipython>=4.0.0->ipywidgets) (0.7.0)\n",
            "Requirement already satisfied: wcwidth in /usr/local/lib/python3.10/dist-packages (from prompt-toolkit!=3.0.0,!=3.0.1,<3.1.0,>=2.0.0->ipython>=4.0.0->ipywidgets) (0.2.8)\n",
            "Requirement already satisfied: platformdirs>=2.5 in /usr/local/lib/python3.10/dist-packages (from jupyter-core>=4.6.1->notebook>=4.4.1->widgetsnbextension~=3.6.0->ipywidgets) (3.11.0)\n",
            "Requirement already satisfied: jupyter-server>=1.8 in /usr/local/lib/python3.10/dist-packages (from nbclassic>=0.4.7->notebook>=4.4.1->widgetsnbextension~=3.6.0->ipywidgets) (1.24.0)\n",
            "Requirement already satisfied: notebook-shim>=0.2.3 in /usr/local/lib/python3.10/dist-packages (from nbclassic>=0.4.7->notebook>=4.4.1->widgetsnbextension~=3.6.0->ipywidgets) (0.2.3)\n",
            "Requirement already satisfied: lxml in /usr/local/lib/python3.10/dist-packages (from nbconvert>=5->notebook>=4.4.1->widgetsnbextension~=3.6.0->ipywidgets) (4.9.3)\n",
            "Requirement already satisfied: beautifulsoup4 in /usr/local/lib/python3.10/dist-packages (from nbconvert>=5->notebook>=4.4.1->widgetsnbextension~=3.6.0->ipywidgets) (4.11.2)\n",
            "Requirement already satisfied: bleach in /usr/local/lib/python3.10/dist-packages (from nbconvert>=5->notebook>=4.4.1->widgetsnbextension~=3.6.0->ipywidgets) (6.0.0)\n",
            "Requirement already satisfied: defusedxml in /usr/local/lib/python3.10/dist-packages (from nbconvert>=5->notebook>=4.4.1->widgetsnbextension~=3.6.0->ipywidgets) (0.7.1)\n",
            "Requirement already satisfied: entrypoints>=0.2.2 in /usr/local/lib/python3.10/dist-packages (from nbconvert>=5->notebook>=4.4.1->widgetsnbextension~=3.6.0->ipywidgets) (0.4)\n",
            "Requirement already satisfied: jupyterlab-pygments in /usr/local/lib/python3.10/dist-packages (from nbconvert>=5->notebook>=4.4.1->widgetsnbextension~=3.6.0->ipywidgets) (0.2.2)\n",
            "Requirement already satisfied: MarkupSafe>=2.0 in /usr/local/lib/python3.10/dist-packages (from nbconvert>=5->notebook>=4.4.1->widgetsnbextension~=3.6.0->ipywidgets) (2.1.3)\n",
            "Requirement already satisfied: mistune<2,>=0.8.1 in /usr/local/lib/python3.10/dist-packages (from nbconvert>=5->notebook>=4.4.1->widgetsnbextension~=3.6.0->ipywidgets) (0.8.4)\n",
            "Requirement already satisfied: nbclient>=0.5.0 in /usr/local/lib/python3.10/dist-packages (from nbconvert>=5->notebook>=4.4.1->widgetsnbextension~=3.6.0->ipywidgets) (0.8.0)\n",
            "Requirement already satisfied: packaging in /usr/local/lib/python3.10/dist-packages (from nbconvert>=5->notebook>=4.4.1->widgetsnbextension~=3.6.0->ipywidgets) (23.2)\n",
            "Requirement already satisfied: pandocfilters>=1.4.1 in /usr/local/lib/python3.10/dist-packages (from nbconvert>=5->notebook>=4.4.1->widgetsnbextension~=3.6.0->ipywidgets) (1.5.0)\n",
            "Requirement already satisfied: tinycss2 in /usr/local/lib/python3.10/dist-packages (from nbconvert>=5->notebook>=4.4.1->widgetsnbextension~=3.6.0->ipywidgets) (1.2.1)\n",
            "Requirement already satisfied: fastjsonschema in /usr/local/lib/python3.10/dist-packages (from nbformat->notebook>=4.4.1->widgetsnbextension~=3.6.0->ipywidgets) (2.18.1)\n",
            "Requirement already satisfied: jsonschema>=2.6 in /usr/local/lib/python3.10/dist-packages (from nbformat->notebook>=4.4.1->widgetsnbextension~=3.6.0->ipywidgets) (4.19.1)\n",
            "Requirement already satisfied: six>=1.5 in /usr/local/lib/python3.10/dist-packages (from python-dateutil>=2.1->jupyter-client->ipykernel>=4.5.1->ipywidgets) (1.16.0)\n",
            "Requirement already satisfied: argon2-cffi-bindings in /usr/local/lib/python3.10/dist-packages (from argon2-cffi->notebook>=4.4.1->widgetsnbextension~=3.6.0->ipywidgets) (21.2.0)\n",
            "Requirement already satisfied: attrs>=22.2.0 in /usr/local/lib/python3.10/dist-packages (from jsonschema>=2.6->nbformat->notebook>=4.4.1->widgetsnbextension~=3.6.0->ipywidgets) (23.1.0)\n",
            "Requirement already satisfied: jsonschema-specifications>=2023.03.6 in /usr/local/lib/python3.10/dist-packages (from jsonschema>=2.6->nbformat->notebook>=4.4.1->widgetsnbextension~=3.6.0->ipywidgets) (2023.7.1)\n",
            "Requirement already satisfied: referencing>=0.28.4 in /usr/local/lib/python3.10/dist-packages (from jsonschema>=2.6->nbformat->notebook>=4.4.1->widgetsnbextension~=3.6.0->ipywidgets) (0.30.2)\n",
            "Requirement already satisfied: rpds-py>=0.7.1 in /usr/local/lib/python3.10/dist-packages (from jsonschema>=2.6->nbformat->notebook>=4.4.1->widgetsnbextension~=3.6.0->ipywidgets) (0.10.3)\n",
            "Requirement already satisfied: anyio<4,>=3.1.0 in /usr/local/lib/python3.10/dist-packages (from jupyter-server>=1.8->nbclassic>=0.4.7->notebook>=4.4.1->widgetsnbextension~=3.6.0->ipywidgets) (3.7.1)\n",
            "Requirement already satisfied: websocket-client in /usr/local/lib/python3.10/dist-packages (from jupyter-server>=1.8->nbclassic>=0.4.7->notebook>=4.4.1->widgetsnbextension~=3.6.0->ipywidgets) (1.6.3)\n",
            "Requirement already satisfied: cffi>=1.0.1 in /usr/local/lib/python3.10/dist-packages (from argon2-cffi-bindings->argon2-cffi->notebook>=4.4.1->widgetsnbextension~=3.6.0->ipywidgets) (1.16.0)\n",
            "Requirement already satisfied: soupsieve>1.2 in /usr/local/lib/python3.10/dist-packages (from beautifulsoup4->nbconvert>=5->notebook>=4.4.1->widgetsnbextension~=3.6.0->ipywidgets) (2.5)\n",
            "Requirement already satisfied: webencodings in /usr/local/lib/python3.10/dist-packages (from bleach->nbconvert>=5->notebook>=4.4.1->widgetsnbextension~=3.6.0->ipywidgets) (0.5.1)\n",
            "Requirement already satisfied: idna>=2.8 in /usr/local/lib/python3.10/dist-packages (from anyio<4,>=3.1.0->jupyter-server>=1.8->nbclassic>=0.4.7->notebook>=4.4.1->widgetsnbextension~=3.6.0->ipywidgets) (3.4)\n",
            "Requirement already satisfied: sniffio>=1.1 in /usr/local/lib/python3.10/dist-packages (from anyio<4,>=3.1.0->jupyter-server>=1.8->nbclassic>=0.4.7->notebook>=4.4.1->widgetsnbextension~=3.6.0->ipywidgets) (1.3.0)\n",
            "Requirement already satisfied: exceptiongroup in /usr/local/lib/python3.10/dist-packages (from anyio<4,>=3.1.0->jupyter-server>=1.8->nbclassic>=0.4.7->notebook>=4.4.1->widgetsnbextension~=3.6.0->ipywidgets) (1.1.3)\n",
            "Requirement already satisfied: pycparser in /usr/local/lib/python3.10/dist-packages (from cffi>=1.0.1->argon2-cffi-bindings->argon2-cffi->notebook>=4.4.1->widgetsnbextension~=3.6.0->ipywidgets) (2.21)\n",
            "Installing collected packages: jedi\n",
            "Successfully installed jedi-0.19.1\n",
            "Enabling notebook extension jupyter-js-widgets/extension...\n",
            "Paths used for configuration of notebook: \n",
            "    \t/root/.jupyter/nbconfig/notebook.json\n",
            "Paths used for configuration of notebook: \n",
            "    \t\n",
            "      - Validating: \u001b[32mOK\u001b[0m\n",
            "Paths used for configuration of notebook: \n",
            "    \t/root/.jupyter/nbconfig/notebook.json\n"
          ]
        }
      ]
    },
    {
      "cell_type": "code",
      "source": [
        "# General data analysis/plotting\n",
        "import pandas as pd\n",
        "import matplotlib.pyplot as plt\n",
        "import numpy as np\n",
        "import seaborn as sns\n",
        "\n",
        "# Data preprocessing\n",
        "from sklearn.preprocessing import MinMaxScaler\n",
        "from sklearn.model_selection import train_test_split\n",
        "\n",
        "# Neural Net modules\n",
        "from keras.models import Sequential\n",
        "from keras.layers import Dense, Dropout\n",
        "from keras.callbacks import EarlyStopping\n",
        "from keras.callbacks import ReduceLROnPlateau\n",
        "from keras.optimizers import Adam\n",
        "\n",
        "#Model Metrics\n",
        "from sklearn.metrics import mean_absolute_error\n",
        "from sklearn.metrics import accuracy_score"
      ],
      "metadata": {
        "id": "z8ieobzD1HmL"
      },
      "execution_count": 8,
      "outputs": []
    },
    {
      "cell_type": "code",
      "source": [
        "from google.colab import files\n",
        "uploaded = files.upload()\n",
        "medstudents_mh = pd.read_csv(\"Data Carrard et al. 2022 MedTeach.csv\")\n",
        "medstudents_mh.head\n",
        "#use any method to import the downloaded dataset and define it"
      ],
      "metadata": {
        "colab": {
          "base_uri": "https://localhost:8080/",
          "height": 542
        },
        "id": "e8pzxC7L1yeh",
        "outputId": "7a16fe74-fac4-4706-9d67-cd2c9bb40b6d"
      },
      "execution_count": 11,
      "outputs": [
        {
          "output_type": "display_data",
          "data": {
            "text/plain": [
              "<IPython.core.display.HTML object>"
            ],
            "text/html": [
              "\n",
              "     <input type=\"file\" id=\"files-75d6b79d-dd88-432c-acf1-f0a657464934\" name=\"files[]\" multiple disabled\n",
              "        style=\"border:none\" />\n",
              "     <output id=\"result-75d6b79d-dd88-432c-acf1-f0a657464934\">\n",
              "      Upload widget is only available when the cell has been executed in the\n",
              "      current browser session. Please rerun this cell to enable.\n",
              "      </output>\n",
              "      <script>// Copyright 2017 Google LLC\n",
              "//\n",
              "// Licensed under the Apache License, Version 2.0 (the \"License\");\n",
              "// you may not use this file except in compliance with the License.\n",
              "// You may obtain a copy of the License at\n",
              "//\n",
              "//      http://www.apache.org/licenses/LICENSE-2.0\n",
              "//\n",
              "// Unless required by applicable law or agreed to in writing, software\n",
              "// distributed under the License is distributed on an \"AS IS\" BASIS,\n",
              "// WITHOUT WARRANTIES OR CONDITIONS OF ANY KIND, either express or implied.\n",
              "// See the License for the specific language governing permissions and\n",
              "// limitations under the License.\n",
              "\n",
              "/**\n",
              " * @fileoverview Helpers for google.colab Python module.\n",
              " */\n",
              "(function(scope) {\n",
              "function span(text, styleAttributes = {}) {\n",
              "  const element = document.createElement('span');\n",
              "  element.textContent = text;\n",
              "  for (const key of Object.keys(styleAttributes)) {\n",
              "    element.style[key] = styleAttributes[key];\n",
              "  }\n",
              "  return element;\n",
              "}\n",
              "\n",
              "// Max number of bytes which will be uploaded at a time.\n",
              "const MAX_PAYLOAD_SIZE = 100 * 1024;\n",
              "\n",
              "function _uploadFiles(inputId, outputId) {\n",
              "  const steps = uploadFilesStep(inputId, outputId);\n",
              "  const outputElement = document.getElementById(outputId);\n",
              "  // Cache steps on the outputElement to make it available for the next call\n",
              "  // to uploadFilesContinue from Python.\n",
              "  outputElement.steps = steps;\n",
              "\n",
              "  return _uploadFilesContinue(outputId);\n",
              "}\n",
              "\n",
              "// This is roughly an async generator (not supported in the browser yet),\n",
              "// where there are multiple asynchronous steps and the Python side is going\n",
              "// to poll for completion of each step.\n",
              "// This uses a Promise to block the python side on completion of each step,\n",
              "// then passes the result of the previous step as the input to the next step.\n",
              "function _uploadFilesContinue(outputId) {\n",
              "  const outputElement = document.getElementById(outputId);\n",
              "  const steps = outputElement.steps;\n",
              "\n",
              "  const next = steps.next(outputElement.lastPromiseValue);\n",
              "  return Promise.resolve(next.value.promise).then((value) => {\n",
              "    // Cache the last promise value to make it available to the next\n",
              "    // step of the generator.\n",
              "    outputElement.lastPromiseValue = value;\n",
              "    return next.value.response;\n",
              "  });\n",
              "}\n",
              "\n",
              "/**\n",
              " * Generator function which is called between each async step of the upload\n",
              " * process.\n",
              " * @param {string} inputId Element ID of the input file picker element.\n",
              " * @param {string} outputId Element ID of the output display.\n",
              " * @return {!Iterable<!Object>} Iterable of next steps.\n",
              " */\n",
              "function* uploadFilesStep(inputId, outputId) {\n",
              "  const inputElement = document.getElementById(inputId);\n",
              "  inputElement.disabled = false;\n",
              "\n",
              "  const outputElement = document.getElementById(outputId);\n",
              "  outputElement.innerHTML = '';\n",
              "\n",
              "  const pickedPromise = new Promise((resolve) => {\n",
              "    inputElement.addEventListener('change', (e) => {\n",
              "      resolve(e.target.files);\n",
              "    });\n",
              "  });\n",
              "\n",
              "  const cancel = document.createElement('button');\n",
              "  inputElement.parentElement.appendChild(cancel);\n",
              "  cancel.textContent = 'Cancel upload';\n",
              "  const cancelPromise = new Promise((resolve) => {\n",
              "    cancel.onclick = () => {\n",
              "      resolve(null);\n",
              "    };\n",
              "  });\n",
              "\n",
              "  // Wait for the user to pick the files.\n",
              "  const files = yield {\n",
              "    promise: Promise.race([pickedPromise, cancelPromise]),\n",
              "    response: {\n",
              "      action: 'starting',\n",
              "    }\n",
              "  };\n",
              "\n",
              "  cancel.remove();\n",
              "\n",
              "  // Disable the input element since further picks are not allowed.\n",
              "  inputElement.disabled = true;\n",
              "\n",
              "  if (!files) {\n",
              "    return {\n",
              "      response: {\n",
              "        action: 'complete',\n",
              "      }\n",
              "    };\n",
              "  }\n",
              "\n",
              "  for (const file of files) {\n",
              "    const li = document.createElement('li');\n",
              "    li.append(span(file.name, {fontWeight: 'bold'}));\n",
              "    li.append(span(\n",
              "        `(${file.type || 'n/a'}) - ${file.size} bytes, ` +\n",
              "        `last modified: ${\n",
              "            file.lastModifiedDate ? file.lastModifiedDate.toLocaleDateString() :\n",
              "                                    'n/a'} - `));\n",
              "    const percent = span('0% done');\n",
              "    li.appendChild(percent);\n",
              "\n",
              "    outputElement.appendChild(li);\n",
              "\n",
              "    const fileDataPromise = new Promise((resolve) => {\n",
              "      const reader = new FileReader();\n",
              "      reader.onload = (e) => {\n",
              "        resolve(e.target.result);\n",
              "      };\n",
              "      reader.readAsArrayBuffer(file);\n",
              "    });\n",
              "    // Wait for the data to be ready.\n",
              "    let fileData = yield {\n",
              "      promise: fileDataPromise,\n",
              "      response: {\n",
              "        action: 'continue',\n",
              "      }\n",
              "    };\n",
              "\n",
              "    // Use a chunked sending to avoid message size limits. See b/62115660.\n",
              "    let position = 0;\n",
              "    do {\n",
              "      const length = Math.min(fileData.byteLength - position, MAX_PAYLOAD_SIZE);\n",
              "      const chunk = new Uint8Array(fileData, position, length);\n",
              "      position += length;\n",
              "\n",
              "      const base64 = btoa(String.fromCharCode.apply(null, chunk));\n",
              "      yield {\n",
              "        response: {\n",
              "          action: 'append',\n",
              "          file: file.name,\n",
              "          data: base64,\n",
              "        },\n",
              "      };\n",
              "\n",
              "      let percentDone = fileData.byteLength === 0 ?\n",
              "          100 :\n",
              "          Math.round((position / fileData.byteLength) * 100);\n",
              "      percent.textContent = `${percentDone}% done`;\n",
              "\n",
              "    } while (position < fileData.byteLength);\n",
              "  }\n",
              "\n",
              "  // All done.\n",
              "  yield {\n",
              "    response: {\n",
              "      action: 'complete',\n",
              "    }\n",
              "  };\n",
              "}\n",
              "\n",
              "scope.google = scope.google || {};\n",
              "scope.google.colab = scope.google.colab || {};\n",
              "scope.google.colab._files = {\n",
              "  _uploadFiles,\n",
              "  _uploadFilesContinue,\n",
              "};\n",
              "})(self);\n",
              "</script> "
            ]
          },
          "metadata": {}
        },
        {
          "output_type": "stream",
          "name": "stdout",
          "text": [
            "Saving Data Carrard et al. 2022 MedTeach.csv to Data Carrard et al. 2022 MedTeach.csv\n"
          ]
        },
        {
          "output_type": "execute_result",
          "data": {
            "text/plain": [
              "<bound method NDFrame.head of        id  age  year  sex  glang  part  job  stud_h  health  psyt  jspe  \\\n",
              "0       2   18     1    1    120     1    0      56       3     0    88   \n",
              "1       4   26     4    1      1     1    0      20       4     0   109   \n",
              "2       9   21     3    2      1     0    0      36       3     0   106   \n",
              "3      10   21     2    2      1     0    1      51       5     0   101   \n",
              "4      13   21     3    1      1     1    0      22       4     0   102   \n",
              "..    ...  ...   ...  ...    ...   ...  ...     ...     ...   ...   ...   \n",
              "881  1781   21     2    1      1     1    0      45       3     0   106   \n",
              "882  1785   20     2    2      1     0    0      13       3     0   113   \n",
              "883  1787   19     1    1      1     0    0      50       5     0   100   \n",
              "884  1789   24     5    2      1     0    0      20       2     1   120   \n",
              "885  1790   22     3    1      1     0    1      20       5     0   102   \n",
              "\n",
              "     qcae_cog  qcae_aff  amsp  erec_mean  cesd  stai_t  mbi_ex  mbi_cy  mbi_ea  \n",
              "0          62        27    17   0.738095    34      61      17      13      20  \n",
              "1          55        37    22   0.690476     7      33      14      11      26  \n",
              "2          64        39    17   0.690476    25      73      24       7      23  \n",
              "3          52        33    18   0.833333    17      48      16      10      21  \n",
              "4          58        28    21   0.690476    14      46      22      14      23  \n",
              "..        ...       ...   ...        ...   ...     ...     ...     ...     ...  \n",
              "881        63        39    28   0.619048    41      39      23       4      34  \n",
              "882        67        40    21   0.809524    26      41      17       5      24  \n",
              "883        50        31    24   0.547619    14      45      15       8      31  \n",
              "884        64        39    21   0.785714    33      58      22      15      19  \n",
              "885        54        26    25   0.571429     5      27      11       9      30  \n",
              "\n",
              "[886 rows x 20 columns]>"
            ]
          },
          "metadata": {},
          "execution_count": 11
        }
      ]
    },
    {
      "cell_type": "code",
      "source": [
        "#Regression Data Preprocessing\n",
        "medstudents_mh = medstudents_mh.drop('age', axis=1)\n",
        "medstudents_mh = medstudents_mh.drop('glang', axis=1)\n",
        "medstudents_mh = medstudents_mh.drop('psyt', axis=1)\n",
        "medstudents_mh = medstudents_mh.drop('id', axis=1)\n",
        "from sklearn.preprocessing import MinMaxScaler\n",
        "scaler = MinMaxScaler()\n",
        "scaled_df = scaler.fit(medstudents_mh)\n",
        "scaled_df = scaler.transform(medstudents_mh)\n",
        "scaled_df = pd.DataFrame(scaled_df,columns=['year','sex','part','job','stud_h','health','jspe','qcae_cog','qcae_aff','amsp','erec_mean','cesd','stai_t','mbi_ex','mbi_cy','mbi_ea'])\n",
        "X = scaled_df.drop('mbi_ex', axis=1)\n",
        "y = scaled_df.mbi_ex\n",
        "X_train, X_test, y_train, y_test = train_test_split(X, y, test_size=0.2, random_state=42)\n",
        "X.head()"
      ],
      "metadata": {
        "colab": {
          "base_uri": "https://localhost:8080/",
          "height": 206
        },
        "id": "x261RjiI2pAJ",
        "outputId": "a7887398-28b8-4efa-e9a0-34efa5ee8167"
      },
      "execution_count": 12,
      "outputs": [
        {
          "output_type": "execute_result",
          "data": {
            "text/plain": [
              "   year  sex  part  job    stud_h  health      jspe  qcae_cog  qcae_aff  \\\n",
              "0   0.0  0.0   1.0  0.0  0.800000    0.50  0.362069  0.641026  0.300000   \n",
              "1   0.6  0.0   1.0  0.0  0.285714    0.75  0.724138  0.461538  0.633333   \n",
              "2   0.4  0.5   0.0  0.0  0.514286    0.50  0.672414  0.692308  0.700000   \n",
              "3   0.2  0.5   0.0  1.0  0.728571    1.00  0.586207  0.384615  0.500000   \n",
              "4   0.4  0.0   1.0  0.0  0.314286    0.75  0.603448  0.538462  0.333333   \n",
              "\n",
              "       amsp  erec_mean      cesd    stai_t  mbi_cy    mbi_ea  \n",
              "0  0.379310       0.64  0.607143  0.719298    0.45  0.384615  \n",
              "1  0.551724       0.56  0.125000  0.228070    0.35  0.615385  \n",
              "2  0.379310       0.56  0.446429  0.929825    0.15  0.500000  \n",
              "3  0.413793       0.80  0.303571  0.491228    0.30  0.423077  \n",
              "4  0.517241       0.56  0.250000  0.456140    0.50  0.500000  "
            ],
            "text/html": [
              "\n",
              "  <div id=\"df-83441043-c358-4f53-9311-b8e09678168f\" class=\"colab-df-container\">\n",
              "    <div>\n",
              "<style scoped>\n",
              "    .dataframe tbody tr th:only-of-type {\n",
              "        vertical-align: middle;\n",
              "    }\n",
              "\n",
              "    .dataframe tbody tr th {\n",
              "        vertical-align: top;\n",
              "    }\n",
              "\n",
              "    .dataframe thead th {\n",
              "        text-align: right;\n",
              "    }\n",
              "</style>\n",
              "<table border=\"1\" class=\"dataframe\">\n",
              "  <thead>\n",
              "    <tr style=\"text-align: right;\">\n",
              "      <th></th>\n",
              "      <th>year</th>\n",
              "      <th>sex</th>\n",
              "      <th>part</th>\n",
              "      <th>job</th>\n",
              "      <th>stud_h</th>\n",
              "      <th>health</th>\n",
              "      <th>jspe</th>\n",
              "      <th>qcae_cog</th>\n",
              "      <th>qcae_aff</th>\n",
              "      <th>amsp</th>\n",
              "      <th>erec_mean</th>\n",
              "      <th>cesd</th>\n",
              "      <th>stai_t</th>\n",
              "      <th>mbi_cy</th>\n",
              "      <th>mbi_ea</th>\n",
              "    </tr>\n",
              "  </thead>\n",
              "  <tbody>\n",
              "    <tr>\n",
              "      <th>0</th>\n",
              "      <td>0.0</td>\n",
              "      <td>0.0</td>\n",
              "      <td>1.0</td>\n",
              "      <td>0.0</td>\n",
              "      <td>0.800000</td>\n",
              "      <td>0.50</td>\n",
              "      <td>0.362069</td>\n",
              "      <td>0.641026</td>\n",
              "      <td>0.300000</td>\n",
              "      <td>0.379310</td>\n",
              "      <td>0.64</td>\n",
              "      <td>0.607143</td>\n",
              "      <td>0.719298</td>\n",
              "      <td>0.45</td>\n",
              "      <td>0.384615</td>\n",
              "    </tr>\n",
              "    <tr>\n",
              "      <th>1</th>\n",
              "      <td>0.6</td>\n",
              "      <td>0.0</td>\n",
              "      <td>1.0</td>\n",
              "      <td>0.0</td>\n",
              "      <td>0.285714</td>\n",
              "      <td>0.75</td>\n",
              "      <td>0.724138</td>\n",
              "      <td>0.461538</td>\n",
              "      <td>0.633333</td>\n",
              "      <td>0.551724</td>\n",
              "      <td>0.56</td>\n",
              "      <td>0.125000</td>\n",
              "      <td>0.228070</td>\n",
              "      <td>0.35</td>\n",
              "      <td>0.615385</td>\n",
              "    </tr>\n",
              "    <tr>\n",
              "      <th>2</th>\n",
              "      <td>0.4</td>\n",
              "      <td>0.5</td>\n",
              "      <td>0.0</td>\n",
              "      <td>0.0</td>\n",
              "      <td>0.514286</td>\n",
              "      <td>0.50</td>\n",
              "      <td>0.672414</td>\n",
              "      <td>0.692308</td>\n",
              "      <td>0.700000</td>\n",
              "      <td>0.379310</td>\n",
              "      <td>0.56</td>\n",
              "      <td>0.446429</td>\n",
              "      <td>0.929825</td>\n",
              "      <td>0.15</td>\n",
              "      <td>0.500000</td>\n",
              "    </tr>\n",
              "    <tr>\n",
              "      <th>3</th>\n",
              "      <td>0.2</td>\n",
              "      <td>0.5</td>\n",
              "      <td>0.0</td>\n",
              "      <td>1.0</td>\n",
              "      <td>0.728571</td>\n",
              "      <td>1.00</td>\n",
              "      <td>0.586207</td>\n",
              "      <td>0.384615</td>\n",
              "      <td>0.500000</td>\n",
              "      <td>0.413793</td>\n",
              "      <td>0.80</td>\n",
              "      <td>0.303571</td>\n",
              "      <td>0.491228</td>\n",
              "      <td>0.30</td>\n",
              "      <td>0.423077</td>\n",
              "    </tr>\n",
              "    <tr>\n",
              "      <th>4</th>\n",
              "      <td>0.4</td>\n",
              "      <td>0.0</td>\n",
              "      <td>1.0</td>\n",
              "      <td>0.0</td>\n",
              "      <td>0.314286</td>\n",
              "      <td>0.75</td>\n",
              "      <td>0.603448</td>\n",
              "      <td>0.538462</td>\n",
              "      <td>0.333333</td>\n",
              "      <td>0.517241</td>\n",
              "      <td>0.56</td>\n",
              "      <td>0.250000</td>\n",
              "      <td>0.456140</td>\n",
              "      <td>0.50</td>\n",
              "      <td>0.500000</td>\n",
              "    </tr>\n",
              "  </tbody>\n",
              "</table>\n",
              "</div>\n",
              "    <div class=\"colab-df-buttons\">\n",
              "\n",
              "  <div class=\"colab-df-container\">\n",
              "    <button class=\"colab-df-convert\" onclick=\"convertToInteractive('df-83441043-c358-4f53-9311-b8e09678168f')\"\n",
              "            title=\"Convert this dataframe to an interactive table.\"\n",
              "            style=\"display:none;\">\n",
              "\n",
              "  <svg xmlns=\"http://www.w3.org/2000/svg\" height=\"24px\" viewBox=\"0 -960 960 960\">\n",
              "    <path d=\"M120-120v-720h720v720H120Zm60-500h600v-160H180v160Zm220 220h160v-160H400v160Zm0 220h160v-160H400v160ZM180-400h160v-160H180v160Zm440 0h160v-160H620v160ZM180-180h160v-160H180v160Zm440 0h160v-160H620v160Z\"/>\n",
              "  </svg>\n",
              "    </button>\n",
              "\n",
              "  <style>\n",
              "    .colab-df-container {\n",
              "      display:flex;\n",
              "      gap: 12px;\n",
              "    }\n",
              "\n",
              "    .colab-df-convert {\n",
              "      background-color: #E8F0FE;\n",
              "      border: none;\n",
              "      border-radius: 50%;\n",
              "      cursor: pointer;\n",
              "      display: none;\n",
              "      fill: #1967D2;\n",
              "      height: 32px;\n",
              "      padding: 0 0 0 0;\n",
              "      width: 32px;\n",
              "    }\n",
              "\n",
              "    .colab-df-convert:hover {\n",
              "      background-color: #E2EBFA;\n",
              "      box-shadow: 0px 1px 2px rgba(60, 64, 67, 0.3), 0px 1px 3px 1px rgba(60, 64, 67, 0.15);\n",
              "      fill: #174EA6;\n",
              "    }\n",
              "\n",
              "    .colab-df-buttons div {\n",
              "      margin-bottom: 4px;\n",
              "    }\n",
              "\n",
              "    [theme=dark] .colab-df-convert {\n",
              "      background-color: #3B4455;\n",
              "      fill: #D2E3FC;\n",
              "    }\n",
              "\n",
              "    [theme=dark] .colab-df-convert:hover {\n",
              "      background-color: #434B5C;\n",
              "      box-shadow: 0px 1px 3px 1px rgba(0, 0, 0, 0.15);\n",
              "      filter: drop-shadow(0px 1px 2px rgba(0, 0, 0, 0.3));\n",
              "      fill: #FFFFFF;\n",
              "    }\n",
              "  </style>\n",
              "\n",
              "    <script>\n",
              "      const buttonEl =\n",
              "        document.querySelector('#df-83441043-c358-4f53-9311-b8e09678168f button.colab-df-convert');\n",
              "      buttonEl.style.display =\n",
              "        google.colab.kernel.accessAllowed ? 'block' : 'none';\n",
              "\n",
              "      async function convertToInteractive(key) {\n",
              "        const element = document.querySelector('#df-83441043-c358-4f53-9311-b8e09678168f');\n",
              "        const dataTable =\n",
              "          await google.colab.kernel.invokeFunction('convertToInteractive',\n",
              "                                                    [key], {});\n",
              "        if (!dataTable) return;\n",
              "\n",
              "        const docLinkHtml = 'Like what you see? Visit the ' +\n",
              "          '<a target=\"_blank\" href=https://colab.research.google.com/notebooks/data_table.ipynb>data table notebook</a>'\n",
              "          + ' to learn more about interactive tables.';\n",
              "        element.innerHTML = '';\n",
              "        dataTable['output_type'] = 'display_data';\n",
              "        await google.colab.output.renderOutput(dataTable, element);\n",
              "        const docLink = document.createElement('div');\n",
              "        docLink.innerHTML = docLinkHtml;\n",
              "        element.appendChild(docLink);\n",
              "      }\n",
              "    </script>\n",
              "  </div>\n",
              "\n",
              "\n",
              "<div id=\"df-1e3b43c3-459a-48f4-815a-1b1d30619d10\">\n",
              "  <button class=\"colab-df-quickchart\" onclick=\"quickchart('df-1e3b43c3-459a-48f4-815a-1b1d30619d10')\"\n",
              "            title=\"Suggest charts.\"\n",
              "            style=\"display:none;\">\n",
              "\n",
              "<svg xmlns=\"http://www.w3.org/2000/svg\" height=\"24px\"viewBox=\"0 0 24 24\"\n",
              "     width=\"24px\">\n",
              "    <g>\n",
              "        <path d=\"M19 3H5c-1.1 0-2 .9-2 2v14c0 1.1.9 2 2 2h14c1.1 0 2-.9 2-2V5c0-1.1-.9-2-2-2zM9 17H7v-7h2v7zm4 0h-2V7h2v10zm4 0h-2v-4h2v4z\"/>\n",
              "    </g>\n",
              "</svg>\n",
              "  </button>\n",
              "\n",
              "<style>\n",
              "  .colab-df-quickchart {\n",
              "      --bg-color: #E8F0FE;\n",
              "      --fill-color: #1967D2;\n",
              "      --hover-bg-color: #E2EBFA;\n",
              "      --hover-fill-color: #174EA6;\n",
              "      --disabled-fill-color: #AAA;\n",
              "      --disabled-bg-color: #DDD;\n",
              "  }\n",
              "\n",
              "  [theme=dark] .colab-df-quickchart {\n",
              "      --bg-color: #3B4455;\n",
              "      --fill-color: #D2E3FC;\n",
              "      --hover-bg-color: #434B5C;\n",
              "      --hover-fill-color: #FFFFFF;\n",
              "      --disabled-bg-color: #3B4455;\n",
              "      --disabled-fill-color: #666;\n",
              "  }\n",
              "\n",
              "  .colab-df-quickchart {\n",
              "    background-color: var(--bg-color);\n",
              "    border: none;\n",
              "    border-radius: 50%;\n",
              "    cursor: pointer;\n",
              "    display: none;\n",
              "    fill: var(--fill-color);\n",
              "    height: 32px;\n",
              "    padding: 0;\n",
              "    width: 32px;\n",
              "  }\n",
              "\n",
              "  .colab-df-quickchart:hover {\n",
              "    background-color: var(--hover-bg-color);\n",
              "    box-shadow: 0 1px 2px rgba(60, 64, 67, 0.3), 0 1px 3px 1px rgba(60, 64, 67, 0.15);\n",
              "    fill: var(--button-hover-fill-color);\n",
              "  }\n",
              "\n",
              "  .colab-df-quickchart-complete:disabled,\n",
              "  .colab-df-quickchart-complete:disabled:hover {\n",
              "    background-color: var(--disabled-bg-color);\n",
              "    fill: var(--disabled-fill-color);\n",
              "    box-shadow: none;\n",
              "  }\n",
              "\n",
              "  .colab-df-spinner {\n",
              "    border: 2px solid var(--fill-color);\n",
              "    border-color: transparent;\n",
              "    border-bottom-color: var(--fill-color);\n",
              "    animation:\n",
              "      spin 1s steps(1) infinite;\n",
              "  }\n",
              "\n",
              "  @keyframes spin {\n",
              "    0% {\n",
              "      border-color: transparent;\n",
              "      border-bottom-color: var(--fill-color);\n",
              "      border-left-color: var(--fill-color);\n",
              "    }\n",
              "    20% {\n",
              "      border-color: transparent;\n",
              "      border-left-color: var(--fill-color);\n",
              "      border-top-color: var(--fill-color);\n",
              "    }\n",
              "    30% {\n",
              "      border-color: transparent;\n",
              "      border-left-color: var(--fill-color);\n",
              "      border-top-color: var(--fill-color);\n",
              "      border-right-color: var(--fill-color);\n",
              "    }\n",
              "    40% {\n",
              "      border-color: transparent;\n",
              "      border-right-color: var(--fill-color);\n",
              "      border-top-color: var(--fill-color);\n",
              "    }\n",
              "    60% {\n",
              "      border-color: transparent;\n",
              "      border-right-color: var(--fill-color);\n",
              "    }\n",
              "    80% {\n",
              "      border-color: transparent;\n",
              "      border-right-color: var(--fill-color);\n",
              "      border-bottom-color: var(--fill-color);\n",
              "    }\n",
              "    90% {\n",
              "      border-color: transparent;\n",
              "      border-bottom-color: var(--fill-color);\n",
              "    }\n",
              "  }\n",
              "</style>\n",
              "\n",
              "  <script>\n",
              "    async function quickchart(key) {\n",
              "      const quickchartButtonEl =\n",
              "        document.querySelector('#' + key + ' button');\n",
              "      quickchartButtonEl.disabled = true;  // To prevent multiple clicks.\n",
              "      quickchartButtonEl.classList.add('colab-df-spinner');\n",
              "      try {\n",
              "        const charts = await google.colab.kernel.invokeFunction(\n",
              "            'suggestCharts', [key], {});\n",
              "      } catch (error) {\n",
              "        console.error('Error during call to suggestCharts:', error);\n",
              "      }\n",
              "      quickchartButtonEl.classList.remove('colab-df-spinner');\n",
              "      quickchartButtonEl.classList.add('colab-df-quickchart-complete');\n",
              "    }\n",
              "    (() => {\n",
              "      let quickchartButtonEl =\n",
              "        document.querySelector('#df-1e3b43c3-459a-48f4-815a-1b1d30619d10 button');\n",
              "      quickchartButtonEl.style.display =\n",
              "        google.colab.kernel.accessAllowed ? 'block' : 'none';\n",
              "    })();\n",
              "  </script>\n",
              "</div>\n",
              "    </div>\n",
              "  </div>\n"
            ]
          },
          "metadata": {},
          "execution_count": 12
        }
      ]
    },
    {
      "cell_type": "code",
      "source": [
        "#Data Visualization\n",
        "plt.figure(figsize=(15,4))\n",
        "sns.boxplot(x=y)\n",
        "\n",
        "plt.figure(figsize=(10,6))\n",
        "plt.hist(medstudents_mh['mbi_ex'], edgecolor = 'black')\n",
        "plt.xlabel('cog')\n",
        "plt.show()\n",
        "\n",
        "plt.figure(figsize=(12,10))\n",
        "sns.scatterplot(x=medstudents_mh['sex'], y=scaled_df['mbi_ex'])\n",
        "plt.show()\n",
        "\n"
      ],
      "metadata": {
        "colab": {
          "base_uri": "https://localhost:8080/",
          "height": 1000
        },
        "id": "TzPDv_yr6S3m",
        "outputId": "9048766d-729e-48d0-870b-44939cb2db13"
      },
      "execution_count": 13,
      "outputs": [
        {
          "output_type": "display_data",
          "data": {
            "text/plain": [
              "<Figure size 1500x400 with 1 Axes>"
            ],
            "image/png": "[encoded data removed]"
          },
          "metadata": {}
        },
        {
          "output_type": "display_data",
          "data": {
            "text/plain": [
              "<Figure size 1000x600 with 1 Axes>"
            ],
            "image/png": "[encoded data removed]"
          },
          "metadata": {}
        },
        {
          "output_type": "display_data",
          "data": {
            "text/plain": [
              "<Figure size 1200x1000 with 1 Axes>"
            ],
            "image/png": "[encoded data removed]"
          },
          "metadata": {}
        }
      ]
    },
    {
      "cell_type": "code",
      "source": [
        "#Basic Regression Model - Lasso Regression\n",
        "from sklearn import linear_model\n",
        "clf = linear_model.Lasso(alpha=0.3, max_iter=2500)\n",
        "clf.fit(X_train, y_train)\n",
        "y_pred = clf.predict(X_test)\n",
        "mean_absolute_error(y_test, y_pred)"
      ],
      "metadata": {
        "colab": {
          "base_uri": "https://localhost:8080/"
        },
        "id": "TuH6WNvI4Dp_",
        "outputId": "24e93897-1d18-45a9-c95d-93fd414e1ca8"
      },
      "execution_count": 14,
      "outputs": [
        {
          "output_type": "execute_result",
          "data": {
            "text/plain": [
              "0.17042023741509557"
            ]
          },
          "metadata": {},
          "execution_count": 14
        }
      ]
    },
    {
      "cell_type": "code",
      "source": [
        "#Basic Regression Model - Random Forest Regressor\n",
        "from sklearn.ensemble import RandomForestRegressor\n",
        "random_forest_model = RandomForestRegressor(max_depth=4, random_state=0, n_estimators=87, max_features=0.8)\n",
        "random_forest_model.fit(X_train, y_train)\n",
        "predictions = random_forest_model.predict(X_test)\n",
        "mean_absolute_error(y_test, predictions)"
      ],
      "metadata": {
        "colab": {
          "base_uri": "https://localhost:8080/"
        },
        "id": "Db_NCwRQ47rO",
        "outputId": "2d1da821-1eff-43de-cbaf-4c23cbab9137"
      },
      "execution_count": 15,
      "outputs": [
        {
          "output_type": "execute_result",
          "data": {
            "text/plain": [
              "0.1270275587916571"
            ]
          },
          "metadata": {},
          "execution_count": 15
        }
      ]
    },
    {
      "cell_type": "code",
      "source": [
        "#Basic Regression Model - Decision Trees Regressor\n",
        "from sklearn.tree import DecisionTreeRegressor\n",
        "random_forest_model = DecisionTreeRegressor(random_state=0, max_depth=3, criterion='friedman_mse')\n",
        "random_forest_model.fit(X_train, y_train)\n",
        "y_pred = random_forest_model.predict(X_test)\n",
        "mean_absolute_error(y_test, y_pred)"
      ],
      "metadata": {
        "colab": {
          "base_uri": "https://localhost:8080/"
        },
        "id": "N0ic-h516FlW",
        "outputId": "53a08931-4ea3-40db-b3ab-179754a701ad"
      },
      "execution_count": 16,
      "outputs": [
        {
          "output_type": "execute_result",
          "data": {
            "text/plain": [
              "0.13453346658323592"
            ]
          },
          "metadata": {},
          "execution_count": 16
        }
      ]
    },
    {
      "cell_type": "code",
      "source": [
        "#Example of Feature Optimization\n",
        "mae_values = []\n",
        "for k in range(1, 200):\n",
        "  random_forest_model = RandomForestRegressor(max_depth=4, random_state=0, n_estimators=k, max_features=0.8)\n",
        "  random_forest_model.fit(X_train, y_train)\n",
        "  predictions = random_forest_model.predict(X_test)\n",
        "  mean_absolute_error(y_test, predictions)\n",
        "  mae_values.append(mean_absolute_error(y_test, predictions))\n",
        "\n",
        "plt.figure(figsize=(10,6))\n",
        "plt.xlabel(\"Estimators\")\n",
        "plt.ylabel(\"MAE\")\n",
        "plt.title(\"Random Forest Regressor Estimator Optimization\")\n",
        "plt.plot(range(1, 200), mae_values)"
      ],
      "metadata": {
        "colab": {
          "base_uri": "https://localhost:8080/",
          "height": 581
        },
        "id": "HMng2nq1K4-c",
        "outputId": "2f0c1d3c-554d-465c-a987-2b9198628944"
      },
      "execution_count": 18,
      "outputs": [
        {
          "output_type": "execute_result",
          "data": {
            "text/plain": [
              "[<matplotlib.lines.Line2D at 0x7bebceaf3100>]"
            ]
          },
          "metadata": {},
          "execution_count": 18
        },
        {
          "output_type": "display_data",
          "data": {
            "text/plain": [
              "<Figure size 1000x600 with 1 Axes>"
            ],
            "image/png": "[encoded data removed]"
          },
          "metadata": {}
        }
      ]
    },
    {
      "cell_type": "code",
      "source": [
        "#Categorical Data Preprocessing\n",
        "def get_categorical_mbi():\n",
        "  mbi_categorical_features = []\n",
        "  for i, row in medstudents_mh.iterrows():\n",
        "    mbi = row['mbi_ex']\n",
        "    if mbi >= 25:\n",
        "      category = 'high'\n",
        "    else:\n",
        "      category = 'low'\n",
        "    mbi_categorical_features.append(category)\n",
        "  return mbi_categorical_features\n",
        "\n",
        "mbi_categorical_features = get_categorical_mbi()\n",
        "from sklearn.preprocessing import LabelEncoder\n",
        "le = LabelEncoder()\n",
        "le.fit(mbi_categorical_features)\n",
        "numerical_features = le.transform(mbi_categorical_features)\n",
        "print(numerical_features)\n",
        "X = medstudents_mh.drop('mbi_ex', axis=1)\n",
        "y = numerical_features\n",
        "X_train, X_test, y_train, y_test = train_test_split(X, y, test_size=0.2, random_state=42)"
      ],
      "metadata": {
        "colab": {
          "base_uri": "https://localhost:8080/"
        },
        "id": "HyaUtwcG7mKi",
        "outputId": "5af4ec04-d17b-4579-9faa-43d5ae07909a"
      },
      "execution_count": 19,
      "outputs": [
        {
          "output_type": "stream",
          "name": "stdout",
          "text": [
            "[1 1 1 1 1 1 0 1 0 1 1 1 1 1 1 0 1 1 1 1 1 1 0 1 1 1 1 1 0 0 1 1 0 1 1 1 1\n",
            " 0 1 1 1 1 1 1 1 1 0 1 1 1 1 1 1 1 1 1 1 0 1 1 1 1 1 1 1 1 1 1 1 0 1 0 1 1\n",
            " 1 1 1 1 1 1 1 1 1 1 1 1 1 1 1 1 1 1 0 1 1 1 1 1 1 1 1 1 0 1 1 1 0 0 1 1 1\n",
            " 1 1 1 1 1 0 1 1 1 1 1 1 1 0 0 1 1 1 1 1 1 1 1 1 1 1 1 1 0 1 1 0 1 1 1 1 1\n",
            " 0 1 1 1 1 1 1 1 1 1 1 0 1 1 1 1 1 1 1 1 1 1 0 1 1 1 1 1 1 1 1 1 1 1 1 1 1\n",
            " 1 0 1 1 0 1 1 1 1 1 1 1 1 1 0 1 0 1 1 1 1 1 1 0 1 1 1 1 1 1 1 1 1 0 1 1 1\n",
            " 1 1 1 1 1 1 1 1 1 0 1 1 1 1 1 1 1 1 1 1 1 0 1 1 1 1 1 1 0 1 0 1 1 1 1 1 1\n",
            " 1 0 1 1 1 1 0 1 1 1 1 1 1 1 1 1 1 1 1 0 1 1 0 1 1 1 1 1 1 1 1 1 1 1 1 1 1\n",
            " 1 1 1 1 1 1 1 1 1 1 1 1 1 1 1 1 1 1 1 1 1 1 1 1 1 1 1 0 1 1 1 1 1 1 1 1 1\n",
            " 1 1 1 1 1 1 1 1 1 1 0 1 1 1 1 1 1 1 1 1 1 1 0 1 0 1 1 1 1 1 1 0 1 1 1 1 1\n",
            " 1 1 1 1 1 1 0 1 1 1 1 1 0 1 1 1 1 1 1 0 1 1 1 1 0 1 1 1 1 1 1 0 1 1 1 1 1\n",
            " 1 1 1 1 1 1 1 1 1 0 1 1 1 1 1 1 1 1 0 1 0 1 1 1 1 1 1 1 1 1 1 1 1 1 1 1 1\n",
            " 1 1 1 1 1 1 1 1 0 1 1 1 1 1 1 1 1 1 1 1 1 1 1 1 1 1 1 1 1 1 0 1 1 1 1 1 1\n",
            " 1 1 0 0 0 1 1 1 1 0 1 1 1 1 1 1 1 1 1 1 1 0 1 1 1 1 1 1 1 1 1 1 1 1 1 1 1\n",
            " 1 1 1 1 1 1 1 1 1 1 1 1 1 1 1 1 1 1 1 1 1 1 1 1 1 1 1 1 1 1 1 1 1 1 1 1 1\n",
            " 1 1 1 1 1 1 1 1 1 1 1 1 1 1 1 1 1 1 1 1 1 1 1 1 1 1 1 1 1 1 1 1 1 1 1 1 1\n",
            " 1 1 1 1 1 1 0 1 1 1 1 1 1 1 1 1 1 0 1 0 1 1 0 0 0 1 1 1 1 1 1 1 0 1 1 1 1\n",
            " 1 1 1 1 1 1 1 1 1 1 1 1 1 1 1 1 1 1 1 1 1 1 1 1 1 1 1 1 1 1 1 0 1 1 1 1 1\n",
            " 1 1 1 1 1 1 1 1 1 1 1 0 1 1 1 1 1 1 1 1 1 1 1 1 1 1 1 0 1 1 1 1 1 1 1 1 0\n",
            " 1 1 1 1 1 1 1 1 0 1 1 0 1 1 1 1 1 1 1 1 0 1 1 1 1 1 1 1 1 1 1 1 1 1 1 1 1\n",
            " 1 1 1 1 0 1 0 1 1 1 1 1 1 1 1 0 1 1 1 1 1 1 1 1 1 1 1 1 1 1 1 1 1 1 1 1 1\n",
            " 1 1 1 1 1 1 1 1 1 0 1 1 1 1 1 1 1 1 1 1 1 1 1 0 1 1 1 1 1 1 1 1 1 1 1 1 1\n",
            " 1 1 1 1 1 1 1 1 1 1 1 1 1 1 1 1 1 1 1 1 1 1 1 1 1 1 0 1 1 1 1 1 1 1 1 0 1\n",
            " 1 1 1 0 1 1 1 1 1 1 1 0 1 1 1 1 0 1 1 1 1 1 1 1 1 1 1 1 1 1 1 1 1 1 1]\n"
          ]
        }
      ]
    },
    {
      "cell_type": "code",
      "source": [
        "#Classification Model - Ridge Classifier\n",
        "from sklearn.linear_model import RidgeClassifier\n",
        "clf = RidgeClassifier(alpha=0.3, max_iter=2000).fit(X_train, y_train)\n",
        "y_pred = clf.predict(X_test)\n",
        "accuracy_score(y_test, y_pred)"
      ],
      "metadata": {
        "colab": {
          "base_uri": "https://localhost:8080/"
        },
        "id": "aS65wwlA8cCX",
        "outputId": "487fb18b-ca7b-4831-cd16-b8ddaad813e8"
      },
      "execution_count": 23,
      "outputs": [
        {
          "output_type": "execute_result",
          "data": {
            "text/plain": [
              "0.9213483146067416"
            ]
          },
          "metadata": {},
          "execution_count": 23
        }
      ]
    },
    {
      "cell_type": "code",
      "source": [
        "#Classification Model - Catboost Classifier\n",
        "from catboost import CatBoostClassifier, Pool, metrics, cv\n",
        "model = CatBoostClassifier(\n",
        "    custom_loss=[metrics.Accuracy()],\n",
        "    random_seed=42,\n",
        "    logging_level='Silent',\n",
        "    max_depth = 5,\n",
        "    iterations = 500,\n",
        "    learning_rate= 0.1,\n",
        "    eval_metric= metrics.Accuracy(),\n",
        "    use_best_model= True,\n",
        "    loss_function= metrics.Logloss(),\n",
        "    l2_leaf_reg= 6.0\n",
        ")\n",
        "\n",
        "reduce_lr = ReduceLROnPlateau(monitor='val_loss', factor=0.2,\n",
        "                              patience=2, min_lr=0.001, verbose=1)\n",
        "\n",
        "categorical_features_indices = np.where(X.dtypes != float)[0]\n",
        "model.fit(\n",
        "    X_train, y_train,\n",
        "    cat_features=categorical_features_indices,\n",
        "    eval_set=(X_test, y_test),\n",
        "     #logging_level='Verbose',  # you can uncomment this for text output\n",
        "    plot=True\n",
        ");\n",
        "print('Best model validation accuracy: {:.4}'.format(\n",
        "    accuracy_score(y_test, model.predict(X_test))\n",
        "))"
      ],
      "metadata": {
        "colab": {
          "base_uri": "https://localhost:8080/",
          "height": 34,
          "referenced_widgets": [
            "53868ff5bdf5434e8c0ab3a2cd4f0fb9"
          ]
        },
        "id": "a9wGtTYN-K7u",
        "outputId": "d9b0d8c3-5236-41a4-e6cd-30ca6e17c192"
      },
      "execution_count": 25,
      "outputs": [
        {
          "output_type": "display_data",
          "data": {
            "text/plain": [
              "MetricVisualizer(layout=Layout(align_self='stretch', height='500px'))"
            ],
            "application/vnd.jupyter.widget-view+json": {
              "version_major": 2,
              "version_minor": 0,
              "model_id": "53868ff5bdf5434e8c0ab3a2cd4f0fb9"
            }
          },
          "metadata": {}
        },
        {
          "output_type": "stream",
          "name": "stdout",
          "text": [
            "Best model validation accuracy: 0.9438\n"
          ]
        }
      ]
    },
    {
      "cell_type": "code",
      "source": [
        "#Potential method of optimizing parameters for previous model, time consuming\n",
        "!pip install hyperopt\n",
        "import hyperopt\n",
        "best = hyperopt.fmin(\n",
        "    hyperopt_objective,\n",
        "    space=params_space,\n",
        "    algo=hyperopt.tpe.suggest,\n",
        "    max_evals=50,\n",
        "    trials=trials,\n",
        "    rstate=np.random.default_rng(seed=42)\n",
        ")\n",
        "\n",
        "print(best)"
      ],
      "metadata": {
        "id": "aPO3LbzuBx5l"
      },
      "execution_count": null,
      "outputs": []
    },
    {
      "cell_type": "code",
      "source": [
        "#Neural Network Data\n",
        "X = scaled_df.drop('mbi_ex', axis=1)\n",
        "y = scaled_df.mbi_ex\n",
        "X_train, X_test, y_train, y_test = train_test_split(X, y, test_size=0.2, random_state=42)\n",
        "X.head()"
      ],
      "metadata": {
        "id": "v1beAOaiCHew"
      },
      "execution_count": null,
      "outputs": []
    },
    {
      "cell_type": "code",
      "source": [
        "#Neural Network\n",
        "import tensorflow as tf\n",
        "model = Sequential()\n",
        "from sklearn.metrics import mean_absolute_error\n",
        "model.add(Dropout(0.1, input_shape=((X_train.shape[1],))))\n",
        "model.add(Dense(2000, input_shape=(X_train.shape[1],), activation='relu')) # (features,)\n",
        "model.add(Dense(1000, activation='relu'))\n",
        "model.add(Dense(500, activation='relu'))\n",
        "model.add(Dense(250, activation='relu'))\n",
        "model.add(Dense(1, activation='linear')) # output node\n",
        "model.summary() # see what your model looks like\n",
        "mae_values = []\n",
        "mae_values2 = []\n",
        "\n",
        "# compile the model\n",
        "optimizer = tf.keras.optimizers.Adam(lr=0.4)\n",
        "model.compile(optimizer=optimizer, loss='mse', metrics=['mae'])\n",
        "\n",
        "\n",
        "es = EarlyStopping(monitor='val_loss',\n",
        "                   mode='min',\n",
        "                   patience=50,\n",
        "                   restore_best_weights = True)\n",
        "\n",
        "reduce_lr = ReduceLROnPlateau(monitor='val_loss', factor=0.2,\n",
        "                              patience=2, min_lr=0.001, verbose=1)\n",
        "history = model.fit(X_train, y_train,\n",
        "                    validation_data = (X_test, y_test),\n",
        "                    callbacks=[es, reduce_lr],\n",
        "                    epochs=5000,\n",
        "                    batch_size=10,\n",
        "                    verbose=1)\n",
        "pred = model.predict(X_test)\n",
        "trainpreds = model.predict(X_train)\n",
        "mean_absolute_error(y_train, trainpreds)\n",
        "mean_absolute_error(y_test, pred)\n"
      ],
      "metadata": {
        "id": "UBVyZ49uCaUS"
      },
      "execution_count": null,
      "outputs": []
    },
    {
      "cell_type": "code",
      "source": [
        "#Training and Validation Loss\n",
        "history_dict = history.history\n",
        "loss_values = history_dict['loss'] # you can change this\n",
        "val_loss_values = history_dict['val_loss'] # you can also change this\n",
        "epochs = range(1, len(loss_values) + 1) # range of X (no. of epochs)\n",
        "plt.plot(epochs, loss_values, 'bo', label='Training loss')\n",
        "plt.plot(epochs, val_loss_values, 'orange', label='Validation loss')\n",
        "plt.title('Training and validation loss')\n",
        "plt.xlabel('Epochs')\n",
        "plt.ylabel('Loss')\n",
        "plt.legend()\n",
        "plt.show()"
      ],
      "metadata": {
        "id": "-M91aVJLIkiv"
      },
      "execution_count": null,
      "outputs": []
    },
    {
      "cell_type": "code",
      "source": [
        "# scatterplot of actual vs. pred\n",
        "# specify the dimensions\n",
        "fig, axes = plt.subplots(1,2) # 1 row, 2 columns\n",
        "\n",
        "# this makes the individual subplots\n",
        "# Training Results\n",
        "axes[0].scatter(x=y_train, y=model.predict(X_train)) #first row, first entry (left top)\n",
        "axes[0].set_xlabel(\"Actual\", fontsize=10)\n",
        "axes[0].set_ylabel(\"Predicted\",  fontsize=10)\n",
        "axes[0].set_title(\"Training\")\n",
        "# add 45 deg line\n",
        "x = np.linspace(*axes[0].get_xlim())\n",
        "axes[0].plot(x, x, color='red')\n",
        "# Validation Results\n",
        "axes[1].scatter(x=y_test, y=model.predict(X_test)) # first row, second entry (right top)\n",
        "axes[1].set_xlabel(\"Actual\", fontsize=10)\n",
        "axes[1].set_ylabel(\"Predicted\",  fontsize=10)\n",
        "axes[1].set_title(\"Validation\")\n",
        "# add 45 deg line\n",
        "x = np.linspace(*axes[1].get_xlim())\n",
        "axes[1].plot(x, x, color='red')\n",
        "\n",
        "# tight layout\n",
        "fig.tight_layout()\n",
        "\n",
        "# show the plot\n",
        "plt.show()"
      ],
      "metadata": {
        "id": "W2j-MrU4JBCY"
      },
      "execution_count": null,
      "outputs": []
    },
    {
      "cell_type": "code",
      "source": [
        "#Underlying Relationships\n",
        "plt.figure(figsize=(12,10))\n",
        "sns.scatterplot(x=X_test['mbi_cy'], y=pred, hue=medstudents_mh['sex'])\n",
        "plt.show()\n",
        "\n",
        "plt.scatter(X_test['qcae_cog'], pred)\n",
        "plt.title('Cognitive Empathy vs. EE')\n",
        "plt.xlabel('Cog. Empathy')\n",
        "plt.ylabel('Emotional Exhaustion')\n",
        "plt.show()\n",
        "\n",
        "plt.scatter(X_test['qcae_aff'], pred)\n",
        "plt.title('Affective Empathy vs. EE')\n",
        "plt.xlabel('Aff. Empathy')\n",
        "plt.ylabel('Emotional Exhaustion')\n",
        "plt.show()\n",
        "\n",
        "plt.figure(figsize=(12,10))\n",
        "sns.scatterplot(x=scaled_df['year'], y=scaled_df['mbi_ex'])\n",
        "plt.show()\n",
        "\n"
      ],
      "metadata": {
        "id": "RsZFSqqzDHrq"
      },
      "execution_count": null,
      "outputs": []
    }
  ]
}
